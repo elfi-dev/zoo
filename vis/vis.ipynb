{
 "cells": [
  {
   "cell_type": "code",
   "execution_count": 1,
   "metadata": {},
   "outputs": [],
   "source": [
    "import numpy as np\n",
    "import scipy\n",
    "import scipy.stats as ss\n",
    "import elfi\n",
    "\n",
    "seed = 20180706"
   ]
  },
  {
   "cell_type": "code",
   "execution_count": 2,
   "metadata": {},
   "outputs": [],
   "source": [
    "def fun(x, batch_size, random_state):\n",
    "    return np.sum(x, keepdims=True, axis=1)"
   ]
  },
  {
   "cell_type": "code",
   "execution_count": 3,
   "metadata": {},
   "outputs": [],
   "source": [
    "# class CustomPrior_t1(elfi.Distribution):\n",
    "#     def rvs(b, size=1, random_state=None):\n",
    "#         u = scipy.stats.uniform.rvs(loc=0, scale=1, size=size, random_state=random_state)\n",
    "# #         print(u)\n",
    "# #         t1 = np.where(u<0.5, np.sqrt(2.*u)*b-b, -np.sqrt(2.*(1.-u))*b+b)\n",
    "# #         return t1.tolist()\n",
    "#         return u.tolist()"
   ]
  },
  {
   "cell_type": "code",
   "execution_count": 4,
   "metadata": {},
   "outputs": [],
   "source": [
    "t1 = elfi.Prior(ss.multivariate_normal, [0, 0, 0, 1, 2, 3, 4, 5])\n",
    "# t1 = elfi.Prior(CustomPrior_t1(2))\n",
    "sim = elfi.Simulator(fun, t1, observed=np.array([[0]]))\n",
    "d = elfi.Distance('euclidean', sim)"
   ]
  },
  {
   "cell_type": "code",
   "execution_count": 5,
   "metadata": {},
   "outputs": [
    {
     "name": "stdout",
     "output_type": "stream",
     "text": [
      "Plotting multivariate distributions is unsupported.\n"
     ]
    }
   ],
   "source": [
    "elfi.Rejection(sim, batch_size=10).sample(10).plot_pairs()"
   ]
  }
 ],
 "metadata": {
  "kernelspec": {
   "display_name": "Python (elfi_test)",
   "language": "python",
   "name": "elfi_test"
  },
  "language_info": {
   "codemirror_mode": {
    "name": "ipython",
    "version": 3
   },
   "file_extension": ".py",
   "mimetype": "text/x-python",
   "name": "python",
   "nbconvert_exporter": "python",
   "pygments_lexer": "ipython3",
   "version": "3.6.5"
  }
 },
 "nbformat": 4,
 "nbformat_minor": 2
}

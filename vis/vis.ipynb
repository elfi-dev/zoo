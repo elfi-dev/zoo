{
 "cells": [
  {
   "cell_type": "code",
   "execution_count": 1,
   "metadata": {},
   "outputs": [],
   "source": [
    "import numpy as np\n",
    "import scipy.stats as ss\n",
    "import elfi"
   ]
  },
  {
   "cell_type": "code",
   "execution_count": 12,
   "metadata": {},
   "outputs": [],
   "source": [
    "def fun(x, batch_size, random_state):\n",
    "    return np.sum(x, keepdims=True, axis=1)"
   ]
  },
  {
   "cell_type": "code",
   "execution_count": 13,
   "metadata": {},
   "outputs": [],
   "source": [
    "t1 = elfi.Prior(ss.multivariate_normal, [0, 0])\n",
    "sim = elfi.Simulator(fun, t1, observed=np.array([[0]]))\n",
    "d = elfi.Distance('euclidean', sim)"
   ]
  },
  {
   "cell_type": "code",
   "execution_count": 14,
   "metadata": {},
   "outputs": [],
   "source": [
    "res = elfi.Rejection(sim, batch_size=10)"
   ]
  },
  {
   "cell_type": "code",
   "execution_count": 15,
   "metadata": {},
   "outputs": [
    {
     "name": "stderr",
     "output_type": "stream",
     "text": [
      "--- Logging error ---\n",
      "Traceback (most recent call last):\n",
      "  File \"/m/home/home2/27/musaevm1/unix/Documents/RA/elfi/elfi/methods/results.py\", line 170, in sample_means_summary\n",
      "    s += ', '.join([\"{}: {:.3g}\".format(k, v) for k, v in self.sample_means.items()])\n",
      "  File \"/m/home/home2/27/musaevm1/unix/Documents/RA/elfi/elfi/methods/results.py\", line 170, in <listcomp>\n",
      "    s += ', '.join([\"{}: {:.3g}\".format(k, v) for k, v in self.sample_means.items()])\n",
      "TypeError: unsupported format string passed to numpy.ndarray.__format__\n",
      "\n",
      "During handling of the above exception, another exception occurred:\n",
      "\n",
      "Traceback (most recent call last):\n",
      "  File \"/l/musaevm1/anaconda3/elfi_test/lib/python3.6/logging/__init__.py\", line 992, in emit\n",
      "    msg = self.format(record)\n",
      "  File \"/l/musaevm1/anaconda3/elfi_test/lib/python3.6/logging/__init__.py\", line 838, in format\n",
      "    return fmt.format(record)\n",
      "  File \"/l/musaevm1/anaconda3/elfi_test/lib/python3.6/logging/__init__.py\", line 575, in format\n",
      "    record.message = record.getMessage()\n",
      "  File \"/l/musaevm1/anaconda3/elfi_test/lib/python3.6/logging/__init__.py\", line 338, in getMessage\n",
      "    msg = msg % self.args\n",
      "TypeError: not all arguments converted during string formatting\n",
      "Call stack:\n",
      "  File \"/l/musaevm1/anaconda3/elfi_test/lib/python3.6/runpy.py\", line 193, in _run_module_as_main\n",
      "    \"__main__\", mod_spec)\n",
      "  File \"/l/musaevm1/anaconda3/elfi_test/lib/python3.6/runpy.py\", line 85, in _run_code\n",
      "    exec(code, run_globals)\n",
      "  File \"/l/musaevm1/anaconda3/elfi_test/lib/python3.6/site-packages/ipykernel_launcher.py\", line 16, in <module>\n",
      "    app.launch_new_instance()\n",
      "  File \"/l/musaevm1/anaconda3/elfi_test/lib/python3.6/site-packages/traitlets/config/application.py\", line 658, in launch_instance\n",
      "    app.start()\n",
      "  File \"/l/musaevm1/anaconda3/elfi_test/lib/python3.6/site-packages/ipykernel/kernelapp.py\", line 486, in start\n",
      "    self.io_loop.start()\n",
      "  File \"/l/musaevm1/anaconda3/elfi_test/lib/python3.6/site-packages/tornado/platform/asyncio.py\", line 127, in start\n",
      "    self.asyncio_loop.run_forever()\n",
      "  File \"/l/musaevm1/anaconda3/elfi_test/lib/python3.6/asyncio/base_events.py\", line 422, in run_forever\n",
      "    self._run_once()\n",
      "  File \"/l/musaevm1/anaconda3/elfi_test/lib/python3.6/asyncio/base_events.py\", line 1432, in _run_once\n",
      "    handle._run()\n",
      "  File \"/l/musaevm1/anaconda3/elfi_test/lib/python3.6/asyncio/events.py\", line 145, in _run\n",
      "    self._callback(*self._args)\n",
      "  File \"/l/musaevm1/anaconda3/elfi_test/lib/python3.6/site-packages/tornado/platform/asyncio.py\", line 117, in _handle_events\n",
      "    handler_func(fileobj, events)\n",
      "  File \"/l/musaevm1/anaconda3/elfi_test/lib/python3.6/site-packages/tornado/stack_context.py\", line 276, in null_wrapper\n",
      "    return fn(*args, **kwargs)\n",
      "  File \"/l/musaevm1/anaconda3/elfi_test/lib/python3.6/site-packages/zmq/eventloop/zmqstream.py\", line 450, in _handle_events\n",
      "    self._handle_recv()\n",
      "  File \"/l/musaevm1/anaconda3/elfi_test/lib/python3.6/site-packages/zmq/eventloop/zmqstream.py\", line 480, in _handle_recv\n",
      "    self._run_callback(callback, msg)\n",
      "  File \"/l/musaevm1/anaconda3/elfi_test/lib/python3.6/site-packages/zmq/eventloop/zmqstream.py\", line 432, in _run_callback\n",
      "    callback(*args, **kwargs)\n",
      "  File \"/l/musaevm1/anaconda3/elfi_test/lib/python3.6/site-packages/tornado/stack_context.py\", line 276, in null_wrapper\n",
      "    return fn(*args, **kwargs)\n",
      "  File \"/l/musaevm1/anaconda3/elfi_test/lib/python3.6/site-packages/ipykernel/kernelbase.py\", line 283, in dispatcher\n",
      "    return self.dispatch_shell(stream, msg)\n",
      "  File \"/l/musaevm1/anaconda3/elfi_test/lib/python3.6/site-packages/ipykernel/kernelbase.py\", line 233, in dispatch_shell\n",
      "    handler(stream, idents, msg)\n",
      "  File \"/l/musaevm1/anaconda3/elfi_test/lib/python3.6/site-packages/ipykernel/kernelbase.py\", line 399, in execute_request\n",
      "    user_expressions, allow_stdin)\n",
      "  File \"/l/musaevm1/anaconda3/elfi_test/lib/python3.6/site-packages/ipykernel/ipkernel.py\", line 208, in do_execute\n",
      "    res = shell.run_cell(code, store_history=store_history, silent=silent)\n",
      "  File \"/l/musaevm1/anaconda3/elfi_test/lib/python3.6/site-packages/ipykernel/zmqshell.py\", line 537, in run_cell\n",
      "    return super(ZMQInteractiveShell, self).run_cell(*args, **kwargs)\n",
      "  File \"/l/musaevm1/anaconda3/elfi_test/lib/python3.6/site-packages/IPython/core/interactiveshell.py\", line 2662, in run_cell\n",
      "    raw_cell, store_history, silent, shell_futures)\n",
      "  File \"/l/musaevm1/anaconda3/elfi_test/lib/python3.6/site-packages/IPython/core/interactiveshell.py\", line 2785, in _run_cell\n",
      "    interactivity=interactivity, compiler=compiler, result=result)\n",
      "  File \"/l/musaevm1/anaconda3/elfi_test/lib/python3.6/site-packages/IPython/core/interactiveshell.py\", line 2909, in run_ast_nodes\n",
      "    if self.run_code(code, result):\n",
      "  File \"/l/musaevm1/anaconda3/elfi_test/lib/python3.6/site-packages/IPython/core/interactiveshell.py\", line 2963, in run_code\n",
      "    exec(code_obj, self.user_global_ns, self.user_ns)\n",
      "  File \"<ipython-input-15-66829bebac8b>\", line 1, in <module>\n",
      "    res.sample(10)\n",
      "  File \"/l/musaevm1/anaconda3/elfi_test/lib/python3.6/site-packages/IPython/core/displayhook.py\", line 257, in __call__\n",
      "    format_dict, md_dict = self.compute_format_data(result)\n",
      "  File \"/l/musaevm1/anaconda3/elfi_test/lib/python3.6/site-packages/IPython/core/displayhook.py\", line 151, in compute_format_data\n",
      "    return self.shell.display_formatter.format(result)\n",
      "  File \"/l/musaevm1/anaconda3/elfi_test/lib/python3.6/site-packages/IPython/core/formatters.py\", line 180, in format\n",
      "    data = formatter(obj)\n",
      "  File \"<decorator-gen-10>\", line 2, in __call__\n",
      "  File \"/l/musaevm1/anaconda3/elfi_test/lib/python3.6/site-packages/IPython/core/formatters.py\", line 224, in catch_format_error\n",
      "    r = method(self, *args, **kwargs)\n",
      "  File \"/l/musaevm1/anaconda3/elfi_test/lib/python3.6/site-packages/IPython/core/formatters.py\", line 702, in __call__\n",
      "    printer.pretty(obj)\n",
      "  File \"/l/musaevm1/anaconda3/elfi_test/lib/python3.6/site-packages/IPython/lib/pretty.py\", line 400, in pretty\n",
      "    return _repr_pprint(obj, self, cycle)\n",
      "  File \"/l/musaevm1/anaconda3/elfi_test/lib/python3.6/site-packages/IPython/lib/pretty.py\", line 695, in _repr_pprint\n",
      "    output = repr(obj)\n",
      "  File \"/m/home/home2/27/musaevm1/unix/Documents/RA/elfi/elfi/methods/results.py\", line 152, in __repr__\n",
      "    return self.__str__()\n",
      "  File \"/m/home/home2/27/musaevm1/unix/Documents/RA/elfi/elfi/methods/results.py\", line 146, in __str__\n",
      "    self.summary()\n",
      "  File \"/m/home/home2/27/musaevm1/unix/Documents/RA/elfi/elfi/methods/results.py\", line 164, in summary\n",
      "    self.sample_means_summary()\n",
      "  File \"/m/home/home2/27/musaevm1/unix/Documents/RA/elfi/elfi/methods/results.py\", line 173, in sample_means_summary\n",
      "    'in defining distributions', er)\n",
      "Message: 'Invalid input parameters. Probably you use multidimensional parameters in defining distributions'\n",
      "Arguments: (TypeError('unsupported format string passed to numpy.ndarray.__format__',),)\n"
     ]
    },
    {
     "data": {
      "text/plain": [
       "Method: Rejection\n",
       "Number of samples: 10\n",
       "Number of simulations: 1000\n",
       "Threshold: -3.15\n",
       "Sample means: "
      ]
     },
     "execution_count": 15,
     "metadata": {},
     "output_type": "execute_result"
    }
   ],
   "source": [
    "res.sample(10)"
   ]
  }
 ],
 "metadata": {
  "kernelspec": {
   "display_name": "Python (elfi_test)",
   "language": "python",
   "name": "elfi_test"
  },
  "language_info": {
   "codemirror_mode": {
    "name": "ipython",
    "version": 3
   },
   "file_extension": ".py",
   "mimetype": "text/x-python",
   "name": "python",
   "nbconvert_exporter": "python",
   "pygments_lexer": "ipython3",
   "version": "3.6.5"
  }
 },
 "nbformat": 4,
 "nbformat_minor": 2
}

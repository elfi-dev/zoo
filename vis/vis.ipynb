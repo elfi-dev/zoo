{
 "cells": [
  {
   "cell_type": "code",
   "execution_count": 1,
   "metadata": {},
   "outputs": [],
   "source": [
    "import time\n",
    "from functools import partial\n",
    "\n",
    "import elfi\n",
    "import numpy as np\n",
    "import scipy.stats as ss\n",
    "import matplotlib.pyplot as plt\n",
    "from elfi.examples.ricker import stochastic_ricker, num_zeros, chi_squared\n",
    "\n",
    "import logging\n",
    "logging.basicConfig(level=logging.INFO)  # sometimes this is required to enable logging inside Jupyter\n",
    "\n",
    "%matplotlib inline\n",
    "%precision 2\n",
    "\n",
    "# Set an arbitrary seed and a global random state to keep the randomly generated quantities the same between runs\n",
    "seed = 20180620\n",
    "np.random.seed(seed)\n",
    "N = 1000"
   ]
  },
  {
   "cell_type": "code",
   "execution_count": 2,
   "metadata": {},
   "outputs": [],
   "source": [
    "def get_model(n_obs=50, true_params=None, seed_obs=None, stochastic=True):\n",
    "    \"\"\"Return a complete Ricker model in inference task.\n",
    "\n",
    "    This is a simplified example that achieves reasonable predictions. For more extensive treatment\n",
    "    and description using 13 summary statistics, see:\n",
    "\n",
    "    Wood, S. N. (2010) Statistical inference for noisy nonlinear ecological dynamic systems,\n",
    "    Nature 466, 1102–1107.\n",
    "\n",
    "    Parameters\n",
    "    ----------\n",
    "    n_obs : int, optional\n",
    "        Number of observations.\n",
    "    true_params : list, optional\n",
    "        Parameters with which the observed data is generated.\n",
    "    seed_obs : int, optional\n",
    "        Seed for the observed data generation.\n",
    "    stochastic : bool, optional\n",
    "        Whether to use the stochastic or deterministic Ricker model.\n",
    "\n",
    "    Returns\n",
    "    -------\n",
    "    m : elfi.ElfiModel\n",
    "\n",
    "    \"\"\"\n",
    "    if stochastic:\n",
    "        simulator = partial(stochastic_ricker, n_obs=n_obs)\n",
    "        if true_params is None:\n",
    "            true_params = [3.8, 0.3, 10.]\n",
    "\n",
    "    else:\n",
    "        simulator = partial(ricker, n_obs=n_obs)\n",
    "        if true_params is None:\n",
    "            true_params = [3.8]\n",
    "\n",
    "    m = elfi.ElfiModel()\n",
    "    y_obs = simulator(*true_params, n_obs=n_obs, random_state=np.random.RandomState(seed_obs))\n",
    "    sim_fn = partial(simulator, n_obs=n_obs)\n",
    "    sumstats = []\n",
    "\n",
    "    if stochastic:\n",
    "        elfi.Prior(ss.expon, [np.e, np.e], 2, model=m, name='t1')\n",
    "        elfi.Prior(ss.truncnorm, 0, 5, model=m, name='t2')\n",
    "        elfi.Prior(ss.uniform, 0, 100, model=m, name='t3')\n",
    "        elfi.Simulator(sim_fn, m['t1'], m['t2'], m['t3'], observed=y_obs, name='Ricker')\n",
    "        sumstats.append(elfi.Summary(partial(np.mean, axis=1), m['Ricker'], name='Mean'))\n",
    "        sumstats.append(elfi.Summary(partial(np.var, axis=1), m['Ricker'], name='Var'))\n",
    "        sumstats.append(elfi.Summary(num_zeros, m['Ricker'], name='#0'))\n",
    "        elfi.Discrepancy(chi_squared, *sumstats, name='d')\n",
    "\n",
    "    else:  # very simple deterministic case\n",
    "        elfi.Prior(ss.expon, np.e, model=m, name='t1')\n",
    "        elfi.Simulator(sim_fn, m['t1'], observed=y_obs, name='Ricker')\n",
    "        sumstats.append(elfi.Summary(partial(np.mean, axis=1), m['Ricker'], name='Mean'))\n",
    "        elfi.Distance('euclidean', *sumstats, name='d')\n",
    "\n",
    "    return m"
   ]
  },
  {
   "cell_type": "code",
   "execution_count": 3,
   "metadata": {},
   "outputs": [
    {
     "ename": "OSError",
     "evalue": "Failed to accept parameter with dimensionality more than 1: [2.718281828459045, 2.718281828459045]",
     "output_type": "error",
     "traceback": [
      "\u001b[0;31m---------------------------------------------------------------------------\u001b[0m",
      "\u001b[0;31mOSError\u001b[0m                                   Traceback (most recent call last)",
      "\u001b[0;32m<ipython-input-3-a767e129d635>\u001b[0m in \u001b[0;36m<module>\u001b[0;34m()\u001b[0m\n\u001b[0;32m----> 1\u001b[0;31m \u001b[0mm\u001b[0m \u001b[0;34m=\u001b[0m \u001b[0mget_model\u001b[0m\u001b[0;34m(\u001b[0m\u001b[0;34m)\u001b[0m\u001b[0;34m\u001b[0m\u001b[0m\n\u001b[0m",
      "\u001b[0;32m<ipython-input-2-fa829a7735d5>\u001b[0m in \u001b[0;36mget_model\u001b[0;34m(n_obs, true_params, seed_obs, stochastic)\u001b[0m\n\u001b[1;32m     40\u001b[0m \u001b[0;34m\u001b[0m\u001b[0m\n\u001b[1;32m     41\u001b[0m     \u001b[0;32mif\u001b[0m \u001b[0mstochastic\u001b[0m\u001b[0;34m:\u001b[0m\u001b[0;34m\u001b[0m\u001b[0m\n\u001b[0;32m---> 42\u001b[0;31m         \u001b[0melfi\u001b[0m\u001b[0;34m.\u001b[0m\u001b[0mPrior\u001b[0m\u001b[0;34m(\u001b[0m\u001b[0mss\u001b[0m\u001b[0;34m.\u001b[0m\u001b[0mexpon\u001b[0m\u001b[0;34m,\u001b[0m \u001b[0;34m[\u001b[0m\u001b[0mnp\u001b[0m\u001b[0;34m.\u001b[0m\u001b[0me\u001b[0m\u001b[0;34m,\u001b[0m \u001b[0mnp\u001b[0m\u001b[0;34m.\u001b[0m\u001b[0me\u001b[0m\u001b[0;34m]\u001b[0m\u001b[0;34m,\u001b[0m \u001b[0;36m2\u001b[0m\u001b[0;34m,\u001b[0m \u001b[0mmodel\u001b[0m\u001b[0;34m=\u001b[0m\u001b[0mm\u001b[0m\u001b[0;34m,\u001b[0m \u001b[0mname\u001b[0m\u001b[0;34m=\u001b[0m\u001b[0;34m't1'\u001b[0m\u001b[0;34m)\u001b[0m\u001b[0;34m\u001b[0m\u001b[0m\n\u001b[0m\u001b[1;32m     43\u001b[0m         \u001b[0melfi\u001b[0m\u001b[0;34m.\u001b[0m\u001b[0mPrior\u001b[0m\u001b[0;34m(\u001b[0m\u001b[0mss\u001b[0m\u001b[0;34m.\u001b[0m\u001b[0mtruncnorm\u001b[0m\u001b[0;34m,\u001b[0m \u001b[0;36m0\u001b[0m\u001b[0;34m,\u001b[0m \u001b[0;36m5\u001b[0m\u001b[0;34m,\u001b[0m \u001b[0mmodel\u001b[0m\u001b[0;34m=\u001b[0m\u001b[0mm\u001b[0m\u001b[0;34m,\u001b[0m \u001b[0mname\u001b[0m\u001b[0;34m=\u001b[0m\u001b[0;34m't2'\u001b[0m\u001b[0;34m)\u001b[0m\u001b[0;34m\u001b[0m\u001b[0m\n\u001b[1;32m     44\u001b[0m         \u001b[0melfi\u001b[0m\u001b[0;34m.\u001b[0m\u001b[0mPrior\u001b[0m\u001b[0;34m(\u001b[0m\u001b[0mss\u001b[0m\u001b[0;34m.\u001b[0m\u001b[0muniform\u001b[0m\u001b[0;34m,\u001b[0m \u001b[0;36m0\u001b[0m\u001b[0;34m,\u001b[0m \u001b[0;36m100\u001b[0m\u001b[0;34m,\u001b[0m \u001b[0mmodel\u001b[0m\u001b[0;34m=\u001b[0m\u001b[0mm\u001b[0m\u001b[0;34m,\u001b[0m \u001b[0mname\u001b[0m\u001b[0;34m=\u001b[0m\u001b[0;34m't3'\u001b[0m\u001b[0;34m)\u001b[0m\u001b[0;34m\u001b[0m\u001b[0m\n",
      "\u001b[0;32m/m/home/home2/27/musaevm1/unix/Documents/RA/elfi/elfi/model/elfi_model.py\u001b[0m in \u001b[0;36m__init__\u001b[0;34m(self, distribution, size, *params, **kwargs)\u001b[0m\n\u001b[1;32m    884\u001b[0m             \u001b[0;32mif\u001b[0m \u001b[0misinstance\u001b[0m\u001b[0;34m(\u001b[0m\u001b[0mi\u001b[0m\u001b[0;34m,\u001b[0m \u001b[0;34m(\u001b[0m\u001b[0mlist\u001b[0m\u001b[0;34m,\u001b[0m \u001b[0mtuple\u001b[0m\u001b[0;34m)\u001b[0m\u001b[0;34m)\u001b[0m \u001b[0;32mand\u001b[0m \u001b[0mlen\u001b[0m\u001b[0;34m(\u001b[0m\u001b[0mi\u001b[0m\u001b[0;34m)\u001b[0m \u001b[0;34m>\u001b[0m \u001b[0;36m1\u001b[0m\u001b[0;34m:\u001b[0m\u001b[0;34m\u001b[0m\u001b[0m\n\u001b[1;32m    885\u001b[0m                 raise IOError('Failed to accept parameter with dimensionality more than 1: {}'\n\u001b[0;32m--> 886\u001b[0;31m                               ''.format(i))\n\u001b[0m\u001b[1;32m    887\u001b[0m         \u001b[0msuper\u001b[0m\u001b[0;34m(\u001b[0m\u001b[0mPrior\u001b[0m\u001b[0;34m,\u001b[0m \u001b[0mself\u001b[0m\u001b[0;34m)\u001b[0m\u001b[0;34m.\u001b[0m\u001b[0m__init__\u001b[0m\u001b[0;34m(\u001b[0m\u001b[0mdistribution\u001b[0m\u001b[0;34m,\u001b[0m \u001b[0;34m*\u001b[0m\u001b[0mparams\u001b[0m\u001b[0;34m,\u001b[0m \u001b[0msize\u001b[0m\u001b[0;34m=\u001b[0m\u001b[0msize\u001b[0m\u001b[0;34m,\u001b[0m \u001b[0;34m**\u001b[0m\u001b[0mkwargs\u001b[0m\u001b[0;34m)\u001b[0m\u001b[0;34m\u001b[0m\u001b[0m\n\u001b[1;32m    888\u001b[0m         \u001b[0mself\u001b[0m\u001b[0;34m[\u001b[0m\u001b[0;34m'_parameter'\u001b[0m\u001b[0;34m]\u001b[0m \u001b[0;34m=\u001b[0m \u001b[0;32mTrue\u001b[0m\u001b[0;34m\u001b[0m\u001b[0m\n",
      "\u001b[0;31mOSError\u001b[0m: Failed to accept parameter with dimensionality more than 1: [2.718281828459045, 2.718281828459045]"
     ]
    }
   ],
   "source": [
    "m = get_model()"
   ]
  },
  {
   "cell_type": "code",
   "execution_count": null,
   "metadata": {},
   "outputs": [],
   "source": [
    "elfi.draw(m['d'])"
   ]
  },
  {
   "cell_type": "code",
   "execution_count": null,
   "metadata": {},
   "outputs": [],
   "source": [
    "rej = elfi.Rejection(m['d'], batch_size=N, seed=seed)"
   ]
  },
  {
   "cell_type": "code",
   "execution_count": null,
   "metadata": {},
   "outputs": [],
   "source": [
    "res = rej.sample(N)"
   ]
  },
  {
   "cell_type": "code",
   "execution_count": null,
   "metadata": {},
   "outputs": [],
   "source": [
    "res.summary()"
   ]
  },
  {
   "cell_type": "code",
   "execution_count": null,
   "metadata": {},
   "outputs": [],
   "source": [
    "res.plot_marginals()"
   ]
  },
  {
   "cell_type": "code",
   "execution_count": null,
   "metadata": {},
   "outputs": [],
   "source": [
    "res.plot_pairs()"
   ]
  }
 ],
 "metadata": {
  "kernelspec": {
   "display_name": "Python (elfi_test)",
   "language": "python",
   "name": "elfi_test"
  },
  "language_info": {
   "codemirror_mode": {
    "name": "ipython",
    "version": 3
   },
   "file_extension": ".py",
   "mimetype": "text/x-python",
   "name": "python",
   "nbconvert_exporter": "python",
   "pygments_lexer": "ipython3",
   "version": "3.6.5"
  }
 },
 "nbformat": 4,
 "nbformat_minor": 2
}

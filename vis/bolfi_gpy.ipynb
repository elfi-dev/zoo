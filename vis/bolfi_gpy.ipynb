{
 "cells": [
  {
   "cell_type": "code",
   "execution_count": 31,
   "metadata": {},
   "outputs": [],
   "source": [
    "import numpy as np\n",
    "import scipy.stats\n",
    "import matplotlib\n",
    "import matplotlib.pyplot as plt\n",
    "from elfi.examples.gauss import get_model\n",
    "\n",
    "%matplotlib inline\n",
    "%precision 2\n",
    "\n",
    "import logging\n",
    "logging.basicConfig(level=logging.INFO)\n",
    "\n",
    "# Set an arbitrary global seed to keep the randomly generated quantities the same\n",
    "seed = 1\n",
    "np.random.seed(seed)\n",
    "\n",
    "import elfi\n",
    "N = 1000"
   ]
  },
  {
   "cell_type": "markdown",
   "metadata": {},
   "source": [
    "### 1-D Gaussian model"
   ]
  },
  {
   "cell_type": "code",
   "execution_count": 28,
   "metadata": {},
   "outputs": [],
   "source": [
    "true_mu_1d = [4]\n",
    "cov_matrix_1d = [1]"
   ]
  },
  {
   "cell_type": "code",
   "execution_count": 29,
   "metadata": {},
   "outputs": [],
   "source": [
    "m_1d = get_model(true_params=true_mu_1d, nd_mean=True, cov_matrix=cov_matrix_1d, seed_obs=seed)"
   ]
  },
  {
   "cell_type": "code",
   "execution_count": 33,
   "metadata": {},
   "outputs": [
    {
     "data": {
      "text/plain": [
       "['mu_0']"
      ]
     },
     "execution_count": 33,
     "metadata": {},
     "output_type": "execute_result"
    }
   ],
   "source": [
    "m_1d.parameter_names"
   ]
  },
  {
   "cell_type": "code",
   "execution_count": 32,
   "metadata": {},
   "outputs": [],
   "source": [
    "rej_1d = elfi.Rejection(m_1d['d'], batch_size=N, seed=seed)"
   ]
  },
  {
   "cell_type": "code",
   "execution_count": 35,
   "metadata": {},
   "outputs": [],
   "source": [
    "bounds_1d = {'mu_0': 4.2}"
   ]
  },
  {
   "cell_type": "code",
   "execution_count": 36,
   "metadata": {},
   "outputs": [],
   "source": [
    "gp_1d = elfi.GPyRegression(m_1d.parameter_names, bounds_1d)"
   ]
  },
  {
   "cell_type": "code",
   "execution_count": 37,
   "metadata": {},
   "outputs": [],
   "source": [
    "prior_1d = elfi.methods.utils.ModelPrior(m_1d)"
   ]
  },
  {
   "cell_type": "code",
   "execution_count": 38,
   "metadata": {},
   "outputs": [],
   "source": [
    "acq_1d = elfi.methods.bo.acquisition.RandMaxVar(model=gp_1d, prior=prior_1d)"
   ]
  },
  {
   "cell_type": "code",
   "execution_count": 39,
   "metadata": {},
   "outputs": [],
   "source": [
    "log_1d = elfi.Operation(np.log, m_1d['d'])"
   ]
  },
  {
   "cell_type": "code",
   "execution_count": 41,
   "metadata": {},
   "outputs": [
    {
     "name": "stdout",
     "output_type": "stream",
     "text": [
      "\r",
      "Progress: |--------------------------------------------------| 0.0% Complete\r",
      "\r",
      "Progress: |██████████████████████████████████████████████████| 100.0% Complete\r\n"
     ]
    }
   ],
   "source": [
    "rej_result_1d = rej_1d.sample(n_samples=n_rejection_samples,quantile = 1)"
   ]
  },
  {
   "cell_type": "code",
   "execution_count": 44,
   "metadata": {},
   "outputs": [
    {
     "ename": "KeyError",
     "evalue": "'log_1d'",
     "output_type": "error",
     "traceback": [
      "\u001b[0;31m---------------------------------------------------------------------------\u001b[0m",
      "\u001b[0;31mKeyError\u001b[0m                                  Traceback (most recent call last)",
      "\u001b[0;32m<ipython-input-44-06e44839a96f>\u001b[0m in \u001b[0;36m<module>\u001b[0;34m()\u001b[0m\n\u001b[1;32m      2\u001b[0m                    \u001b[0mupdate_interval\u001b[0m\u001b[0;34m=\u001b[0m\u001b[0mupdate_interval\u001b[0m\u001b[0;34m,\u001b[0m \u001b[0mbounds\u001b[0m\u001b[0;34m=\u001b[0m\u001b[0mbounds_1d\u001b[0m\u001b[0;34m,\u001b[0m \u001b[0mseed\u001b[0m\u001b[0;34m=\u001b[0m\u001b[0mscipy\u001b[0m\u001b[0;34m.\u001b[0m\u001b[0mrandom\u001b[0m\u001b[0;34m.\u001b[0m\u001b[0mseed\u001b[0m\u001b[0;34m(\u001b[0m\u001b[0;34m)\u001b[0m\u001b[0;34m,\u001b[0m\u001b[0;34m\u001b[0m\u001b[0m\n\u001b[1;32m      3\u001b[0m                    \u001b[0masync\u001b[0m\u001b[0;34m=\u001b[0m\u001b[0;32mTrue\u001b[0m\u001b[0;34m,\u001b[0m \u001b[0mtarget_model\u001b[0m\u001b[0;34m=\u001b[0m\u001b[0mgp_1d\u001b[0m\u001b[0;34m,\u001b[0m \u001b[0macquisition_method\u001b[0m\u001b[0;34m=\u001b[0m\u001b[0macq_1d\u001b[0m\u001b[0;34m,\u001b[0m \u001b[0macq_noise_var\u001b[0m\u001b[0;34m=\u001b[0m\u001b[0;34m[\u001b[0m\u001b[0;36m0.1\u001b[0m\u001b[0;34m]\u001b[0m\u001b[0;34m,\u001b[0m\u001b[0;34m\u001b[0m\u001b[0m\n\u001b[0;32m----> 4\u001b[0;31m                    batches_per_acquisition=1)\n\u001b[0m",
      "\u001b[0;32m~/Documents/Aalto/Research_Assistant/elfi/elfi/methods/parameter_inference.py\u001b[0m in \u001b[0;36m__init__\u001b[0;34m(self, model, target_name, bounds, initial_evidence, update_interval, target_model, acquisition_method, acq_noise_var, exploration_rate, batch_size, batches_per_acquisition, async, **kwargs)\u001b[0m\n\u001b[1;32m    860\u001b[0m \u001b[0;34m\u001b[0m\u001b[0m\n\u001b[1;32m    861\u001b[0m         \u001b[0mn_precomputed\u001b[0m \u001b[0;34m=\u001b[0m \u001b[0;36m0\u001b[0m\u001b[0;34m\u001b[0m\u001b[0m\n\u001b[0;32m--> 862\u001b[0;31m         \u001b[0mn_initial\u001b[0m\u001b[0;34m,\u001b[0m \u001b[0mprecomputed\u001b[0m \u001b[0;34m=\u001b[0m \u001b[0mself\u001b[0m\u001b[0;34m.\u001b[0m\u001b[0m_resolve_initial_evidence\u001b[0m\u001b[0;34m(\u001b[0m\u001b[0minitial_evidence\u001b[0m\u001b[0;34m)\u001b[0m\u001b[0;34m\u001b[0m\u001b[0m\n\u001b[0m\u001b[1;32m    863\u001b[0m         \u001b[0;32mif\u001b[0m \u001b[0mprecomputed\u001b[0m \u001b[0;32mis\u001b[0m \u001b[0;32mnot\u001b[0m \u001b[0;32mNone\u001b[0m\u001b[0;34m:\u001b[0m\u001b[0;34m\u001b[0m\u001b[0m\n\u001b[1;32m    864\u001b[0m             \u001b[0mparams\u001b[0m \u001b[0;34m=\u001b[0m \u001b[0mbatch_to_arr2d\u001b[0m\u001b[0;34m(\u001b[0m\u001b[0mprecomputed\u001b[0m\u001b[0;34m,\u001b[0m \u001b[0mself\u001b[0m\u001b[0;34m.\u001b[0m\u001b[0mparameter_names\u001b[0m\u001b[0;34m)\u001b[0m\u001b[0;34m\u001b[0m\u001b[0m\n",
      "\u001b[0;32m~/Documents/Aalto/Research_Assistant/elfi/elfi/methods/parameter_inference.py\u001b[0m in \u001b[0;36m_resolve_initial_evidence\u001b[0;34m(self, initial_evidence)\u001b[0m\n\u001b[1;32m    894\u001b[0m         \u001b[0;32melse\u001b[0m\u001b[0;34m:\u001b[0m\u001b[0;34m\u001b[0m\u001b[0m\n\u001b[1;32m    895\u001b[0m             \u001b[0mprecomputed\u001b[0m \u001b[0;34m=\u001b[0m \u001b[0minitial_evidence\u001b[0m\u001b[0;34m\u001b[0m\u001b[0m\n\u001b[0;32m--> 896\u001b[0;31m             \u001b[0mn_initial_evidence\u001b[0m \u001b[0;34m=\u001b[0m \u001b[0mlen\u001b[0m\u001b[0;34m(\u001b[0m\u001b[0mprecomputed\u001b[0m\u001b[0;34m[\u001b[0m\u001b[0mself\u001b[0m\u001b[0;34m.\u001b[0m\u001b[0mtarget_name\u001b[0m\u001b[0;34m]\u001b[0m\u001b[0;34m)\u001b[0m\u001b[0;34m\u001b[0m\u001b[0m\n\u001b[0m\u001b[1;32m    897\u001b[0m \u001b[0;34m\u001b[0m\u001b[0m\n\u001b[1;32m    898\u001b[0m         \u001b[0;32mif\u001b[0m \u001b[0mn_initial_evidence\u001b[0m \u001b[0;34m<\u001b[0m \u001b[0;36m0\u001b[0m\u001b[0;34m:\u001b[0m\u001b[0;34m\u001b[0m\u001b[0m\n",
      "\u001b[0;31mKeyError\u001b[0m: 'log_1d'"
     ]
    }
   ],
   "source": [
    "bolfi_1d = elfi.BOLFI(log_1d, batch_size=1, initial_evidence=rej_result_1d.outputs, \n",
    "                   update_interval=update_interval, bounds=bounds_1d, seed=scipy.random.seed(), \n",
    "                   async=True, target_model=gp_1d, acquisition_method=acq_1d, acq_noise_var=[0.1], \n",
    "                   batches_per_acquisition=1)"
   ]
  },
  {
   "cell_type": "markdown",
   "metadata": {},
   "source": [
    "### 2-D Gaussian model"
   ]
  },
  {
   "cell_type": "code",
   "execution_count": 49,
   "metadata": {},
   "outputs": [],
   "source": [
    "true_mu_2d = [2, 3]\n",
    "cov_matrix_2d = [3, 4]"
   ]
  },
  {
   "cell_type": "code",
   "execution_count": 50,
   "metadata": {},
   "outputs": [],
   "source": [
    "m_2d = get_model(true_params=true_mu_2d, nd_mean=True, cov_matrix=cov_matrix_2d, seed_obs=seed)"
   ]
  },
  {
   "cell_type": "code",
   "execution_count": 51,
   "metadata": {},
   "outputs": [
    {
     "data": {
      "text/plain": [
       "['mu_0', 'mu_1']"
      ]
     },
     "execution_count": 51,
     "metadata": {},
     "output_type": "execute_result"
    }
   ],
   "source": [
    "m_2d.parameter_names"
   ]
  },
  {
   "cell_type": "code",
   "execution_count": 52,
   "metadata": {},
   "outputs": [],
   "source": [
    "bounds_2d = {'mu_0': 2.3, 'mu_1': 3.2}"
   ]
  },
  {
   "cell_type": "code",
   "execution_count": 54,
   "metadata": {},
   "outputs": [],
   "source": [
    "gp_2d = elfi.GPyRegression(m_2d.parameter_names, bounds_2d)"
   ]
  },
  {
   "cell_type": "code",
   "execution_count": 55,
   "metadata": {},
   "outputs": [],
   "source": [
    "prior_2d = elfi.methods.utils.ModelPrior(m_2d)"
   ]
  },
  {
   "cell_type": "code",
   "execution_count": 74,
   "metadata": {},
   "outputs": [],
   "source": [
    "acq_2d = elfi.methods.bo.acquisition.RandMaxVar(model=gp_2d, prior=prior_2d)"
   ]
  },
  {
   "cell_type": "code",
   "execution_count": 57,
   "metadata": {},
   "outputs": [],
   "source": [
    "log_2d = elfi.Operation(np.log, m_2d['d'])"
   ]
  },
  {
   "cell_type": "code",
   "execution_count": 58,
   "metadata": {},
   "outputs": [],
   "source": [
    "initial_evidence = 10\n",
    "update_interval = 1"
   ]
  },
  {
   "cell_type": "code",
   "execution_count": 59,
   "metadata": {},
   "outputs": [],
   "source": [
    "rej_2d = elfi.Rejection(m_2d['d'], batch_size = 1)"
   ]
  },
  {
   "cell_type": "code",
   "execution_count": 60,
   "metadata": {},
   "outputs": [
    {
     "name": "stdout",
     "output_type": "stream",
     "text": [
      "\r",
      "Progress: |--------------------------------------------------| 0.0% Complete\r",
      "\r",
      "Progress: |██------------------------------------------------| 5.0% Complete\r",
      "\r",
      "Progress: |█████---------------------------------------------| 10.0% Complete\r",
      "\r",
      "Progress: |███████-------------------------------------------| 15.0% Complete\r",
      "\r",
      "Progress: |██████████----------------------------------------| 20.0% Complete\r",
      "\r",
      "Progress: |████████████--------------------------------------| 25.0% Complete\r",
      "\r",
      "Progress: |███████████████-----------------------------------| 30.0% Complete\r",
      "\r",
      "Progress: |█████████████████---------------------------------| 35.0% Complete\r",
      "\r",
      "Progress: |████████████████████------------------------------| 40.0% Complete\r",
      "\r",
      "Progress: |██████████████████████----------------------------| 45.0% Complete\r",
      "\r",
      "Progress: |█████████████████████████-------------------------| 50.0% Complete\r",
      "\r",
      "Progress: |███████████████████████████-----------------------| 55.0% Complete\r",
      "\r",
      "Progress: |██████████████████████████████--------------------| 60.0% Complete\r",
      "\r",
      "Progress: |████████████████████████████████------------------| 65.0% Complete\r",
      "\r",
      "Progress: |███████████████████████████████████---------------| 70.0% Complete\r",
      "\r",
      "Progress: |█████████████████████████████████████-------------| 75.0% Complete\r",
      "\r",
      "Progress: |████████████████████████████████████████----------| 80.0% Complete\r",
      "\r",
      "Progress: |██████████████████████████████████████████--------| 85.0% Complete\r",
      "\r",
      "Progress: |█████████████████████████████████████████████-----| 90.0% Complete\r",
      "\r",
      "Progress: |███████████████████████████████████████████████---| 95.0% Complete\r",
      "\r",
      "Progress: |██████████████████████████████████████████████████| 100.0% Complete\r\n"
     ]
    }
   ],
   "source": [
    "n_rejection_samples = 2 * initial_evidence\n",
    "rej_result_2d = rej.sample(n_samples=n_rejection_samples,quantile = 1)"
   ]
  },
  {
   "cell_type": "code",
   "execution_count": 78,
   "metadata": {},
   "outputs": [
    {
     "ename": "KeyError",
     "evalue": "'log_2d'",
     "output_type": "error",
     "traceback": [
      "\u001b[0;31m---------------------------------------------------------------------------\u001b[0m",
      "\u001b[0;31mKeyError\u001b[0m                                  Traceback (most recent call last)",
      "\u001b[0;32m<ipython-input-78-525e59f36d1b>\u001b[0m in \u001b[0;36m<module>\u001b[0;34m()\u001b[0m\n\u001b[1;32m      2\u001b[0m                    \u001b[0mupdate_interval\u001b[0m\u001b[0;34m=\u001b[0m\u001b[0mupdate_interval\u001b[0m\u001b[0;34m,\u001b[0m \u001b[0mbounds\u001b[0m\u001b[0;34m=\u001b[0m\u001b[0mbounds_2d\u001b[0m\u001b[0;34m,\u001b[0m \u001b[0mseed\u001b[0m\u001b[0;34m=\u001b[0m\u001b[0mscipy\u001b[0m\u001b[0;34m.\u001b[0m\u001b[0mrandom\u001b[0m\u001b[0;34m.\u001b[0m\u001b[0mseed\u001b[0m\u001b[0;34m(\u001b[0m\u001b[0;34m)\u001b[0m\u001b[0;34m,\u001b[0m\u001b[0;34m\u001b[0m\u001b[0m\n\u001b[1;32m      3\u001b[0m                    \u001b[0masync\u001b[0m\u001b[0;34m=\u001b[0m\u001b[0;32mTrue\u001b[0m\u001b[0;34m,\u001b[0m \u001b[0mtarget_model\u001b[0m\u001b[0;34m=\u001b[0m\u001b[0mgp_2d\u001b[0m\u001b[0;34m,\u001b[0m \u001b[0macquisition_method\u001b[0m\u001b[0;34m=\u001b[0m\u001b[0macq_2d\u001b[0m\u001b[0;34m,\u001b[0m \u001b[0macq_noise_var\u001b[0m\u001b[0;34m=\u001b[0m\u001b[0;34m[\u001b[0m\u001b[0;36m0.1\u001b[0m\u001b[0;34m,\u001b[0m \u001b[0;36m0.01\u001b[0m\u001b[0;34m]\u001b[0m\u001b[0;34m,\u001b[0m\u001b[0;34m\u001b[0m\u001b[0m\n\u001b[0;32m----> 4\u001b[0;31m                    batches_per_acquisition=1)\n\u001b[0m",
      "\u001b[0;32m~/Documents/Aalto/Research_Assistant/elfi/elfi/methods/parameter_inference.py\u001b[0m in \u001b[0;36m__init__\u001b[0;34m(self, model, target_name, bounds, initial_evidence, update_interval, target_model, acquisition_method, acq_noise_var, exploration_rate, batch_size, batches_per_acquisition, async, **kwargs)\u001b[0m\n\u001b[1;32m    860\u001b[0m \u001b[0;34m\u001b[0m\u001b[0m\n\u001b[1;32m    861\u001b[0m         \u001b[0mn_precomputed\u001b[0m \u001b[0;34m=\u001b[0m \u001b[0;36m0\u001b[0m\u001b[0;34m\u001b[0m\u001b[0m\n\u001b[0;32m--> 862\u001b[0;31m         \u001b[0mn_initial\u001b[0m\u001b[0;34m,\u001b[0m \u001b[0mprecomputed\u001b[0m \u001b[0;34m=\u001b[0m \u001b[0mself\u001b[0m\u001b[0;34m.\u001b[0m\u001b[0m_resolve_initial_evidence\u001b[0m\u001b[0;34m(\u001b[0m\u001b[0minitial_evidence\u001b[0m\u001b[0;34m)\u001b[0m\u001b[0;34m\u001b[0m\u001b[0m\n\u001b[0m\u001b[1;32m    863\u001b[0m         \u001b[0;32mif\u001b[0m \u001b[0mprecomputed\u001b[0m \u001b[0;32mis\u001b[0m \u001b[0;32mnot\u001b[0m \u001b[0;32mNone\u001b[0m\u001b[0;34m:\u001b[0m\u001b[0;34m\u001b[0m\u001b[0m\n\u001b[1;32m    864\u001b[0m             \u001b[0mparams\u001b[0m \u001b[0;34m=\u001b[0m \u001b[0mbatch_to_arr2d\u001b[0m\u001b[0;34m(\u001b[0m\u001b[0mprecomputed\u001b[0m\u001b[0;34m,\u001b[0m \u001b[0mself\u001b[0m\u001b[0;34m.\u001b[0m\u001b[0mparameter_names\u001b[0m\u001b[0;34m)\u001b[0m\u001b[0;34m\u001b[0m\u001b[0m\n",
      "\u001b[0;32m~/Documents/Aalto/Research_Assistant/elfi/elfi/methods/parameter_inference.py\u001b[0m in \u001b[0;36m_resolve_initial_evidence\u001b[0;34m(self, initial_evidence)\u001b[0m\n\u001b[1;32m    894\u001b[0m         \u001b[0;32melse\u001b[0m\u001b[0;34m:\u001b[0m\u001b[0;34m\u001b[0m\u001b[0m\n\u001b[1;32m    895\u001b[0m             \u001b[0mprecomputed\u001b[0m \u001b[0;34m=\u001b[0m \u001b[0minitial_evidence\u001b[0m\u001b[0;34m\u001b[0m\u001b[0m\n\u001b[0;32m--> 896\u001b[0;31m             \u001b[0mn_initial_evidence\u001b[0m \u001b[0;34m=\u001b[0m \u001b[0mlen\u001b[0m\u001b[0;34m(\u001b[0m\u001b[0mprecomputed\u001b[0m\u001b[0;34m[\u001b[0m\u001b[0mself\u001b[0m\u001b[0;34m.\u001b[0m\u001b[0mtarget_name\u001b[0m\u001b[0;34m]\u001b[0m\u001b[0;34m)\u001b[0m\u001b[0;34m\u001b[0m\u001b[0m\n\u001b[0m\u001b[1;32m    897\u001b[0m \u001b[0;34m\u001b[0m\u001b[0m\n\u001b[1;32m    898\u001b[0m         \u001b[0;32mif\u001b[0m \u001b[0mn_initial_evidence\u001b[0m \u001b[0;34m<\u001b[0m \u001b[0;36m0\u001b[0m\u001b[0;34m:\u001b[0m\u001b[0;34m\u001b[0m\u001b[0m\n",
      "\u001b[0;31mKeyError\u001b[0m: 'log_2d'"
     ]
    }
   ],
   "source": [
    "bolfi_2d = elfi.BOLFI(log_2d, batch_size=1, initial_evidence=rej_result_2d.outputs, \n",
    "                   update_interval=update_interval, bounds=bounds_2d, seed=scipy.random.seed(), \n",
    "                   async=True, target_model=gp_2d, acquisition_method=acq_2d, acq_noise_var=[0.1, 0.01], \n",
    "                   batches_per_acquisition=1)"
   ]
  },
  {
   "cell_type": "markdown",
   "metadata": {},
   "source": [
    "### 3-D Gaussian model"
   ]
  },
  {
   "cell_type": "code",
   "execution_count": 64,
   "metadata": {},
   "outputs": [],
   "source": [
    "true_mu_3d = [2, 5, 6]\n",
    "cov_matrix_3d = [3, 4, 7]"
   ]
  },
  {
   "cell_type": "code",
   "execution_count": 65,
   "metadata": {},
   "outputs": [],
   "source": [
    "m_3d = get_model(true_params=true_mu_3d, nd_mean=True, cov_matrix=cov_matrix_3d, seed_obs=seed)"
   ]
  },
  {
   "cell_type": "code",
   "execution_count": 66,
   "metadata": {},
   "outputs": [
    {
     "data": {
      "text/plain": [
       "['mu_0', 'mu_1', 'mu_2']"
      ]
     },
     "execution_count": 66,
     "metadata": {},
     "output_type": "execute_result"
    }
   ],
   "source": [
    "m_3d.parameter_names"
   ]
  },
  {
   "cell_type": "code",
   "execution_count": 67,
   "metadata": {},
   "outputs": [],
   "source": [
    "rej_3d = elfi.Rejection(m_3d['d'], batch_size=N, seed=seed)"
   ]
  },
  {
   "cell_type": "code",
   "execution_count": 69,
   "metadata": {},
   "outputs": [],
   "source": [
    "bounds_3d = {'mu_0': 2.3, 'mu_1': 5.4, 'mu_2': 6.3}"
   ]
  },
  {
   "cell_type": "code",
   "execution_count": 71,
   "metadata": {},
   "outputs": [],
   "source": [
    "gp_3d = elfi.GPyRegression(m_3d.parameter_names, bounds_3d)"
   ]
  },
  {
   "cell_type": "code",
   "execution_count": 72,
   "metadata": {},
   "outputs": [],
   "source": [
    "prior_3d = elfi.methods.utils.ModelPrior(m_3d)"
   ]
  },
  {
   "cell_type": "code",
   "execution_count": 73,
   "metadata": {},
   "outputs": [],
   "source": [
    "acq_3d = elfi.methods.bo.acquisition.RandMaxVar(model=gp_3d, prior=prior_3d)"
   ]
  },
  {
   "cell_type": "code",
   "execution_count": 75,
   "metadata": {},
   "outputs": [],
   "source": [
    "log_3d = elfi.Operation(np.log, m_3d['d'])"
   ]
  },
  {
   "cell_type": "code",
   "execution_count": 76,
   "metadata": {},
   "outputs": [
    {
     "name": "stdout",
     "output_type": "stream",
     "text": [
      "\r",
      "Progress: |--------------------------------------------------| 0.0% Complete\r",
      "\r",
      "Progress: |██------------------------------------------------| 5.0% Complete\r",
      "\r",
      "Progress: |█████---------------------------------------------| 10.0% Complete\r",
      "\r",
      "Progress: |███████-------------------------------------------| 15.0% Complete\r",
      "\r",
      "Progress: |██████████----------------------------------------| 20.0% Complete\r",
      "\r",
      "Progress: |████████████--------------------------------------| 25.0% Complete\r",
      "\r",
      "Progress: |███████████████-----------------------------------| 30.0% Complete\r",
      "\r",
      "Progress: |█████████████████---------------------------------| 35.0% Complete\r",
      "\r",
      "Progress: |████████████████████------------------------------| 40.0% Complete\r",
      "\r",
      "Progress: |██████████████████████----------------------------| 45.0% Complete\r",
      "\r",
      "Progress: |█████████████████████████-------------------------| 50.0% Complete\r",
      "\r",
      "Progress: |███████████████████████████-----------------------| 55.0% Complete\r",
      "\r",
      "Progress: |██████████████████████████████--------------------| 60.0% Complete\r",
      "\r",
      "Progress: |████████████████████████████████------------------| 65.0% Complete\r",
      "\r",
      "Progress: |███████████████████████████████████---------------| 70.0% Complete\r",
      "\r",
      "Progress: |█████████████████████████████████████-------------| 75.0% Complete\r",
      "\r",
      "Progress: |████████████████████████████████████████----------| 80.0% Complete\r",
      "\r",
      "Progress: |██████████████████████████████████████████--------| 85.0% Complete\r",
      "\r",
      "Progress: |█████████████████████████████████████████████-----| 90.0% Complete\r",
      "\r",
      "Progress: |███████████████████████████████████████████████---| 95.0% Complete\r",
      "\r",
      "Progress: |██████████████████████████████████████████████████| 100.0% Complete\r\n"
     ]
    }
   ],
   "source": [
    "rej_result_3d = rej.sample(n_samples=n_rejection_samples,quantile = 1)"
   ]
  },
  {
   "cell_type": "code",
   "execution_count": 77,
   "metadata": {},
   "outputs": [
    {
     "ename": "KeyError",
     "evalue": "'log_3d'",
     "output_type": "error",
     "traceback": [
      "\u001b[0;31m---------------------------------------------------------------------------\u001b[0m",
      "\u001b[0;31mKeyError\u001b[0m                                  Traceback (most recent call last)",
      "\u001b[0;32m<ipython-input-77-fd9f2d83c35d>\u001b[0m in \u001b[0;36m<module>\u001b[0;34m()\u001b[0m\n\u001b[1;32m      2\u001b[0m                    \u001b[0mupdate_interval\u001b[0m\u001b[0;34m=\u001b[0m\u001b[0mupdate_interval\u001b[0m\u001b[0;34m,\u001b[0m \u001b[0mbounds\u001b[0m\u001b[0;34m=\u001b[0m\u001b[0mbounds_3d\u001b[0m\u001b[0;34m,\u001b[0m \u001b[0mseed\u001b[0m\u001b[0;34m=\u001b[0m\u001b[0mscipy\u001b[0m\u001b[0;34m.\u001b[0m\u001b[0mrandom\u001b[0m\u001b[0;34m.\u001b[0m\u001b[0mseed\u001b[0m\u001b[0;34m(\u001b[0m\u001b[0;34m)\u001b[0m\u001b[0;34m,\u001b[0m\u001b[0;34m\u001b[0m\u001b[0m\n\u001b[1;32m      3\u001b[0m                    \u001b[0masync\u001b[0m\u001b[0;34m=\u001b[0m\u001b[0;32mTrue\u001b[0m\u001b[0;34m,\u001b[0m \u001b[0mtarget_model\u001b[0m\u001b[0;34m=\u001b[0m\u001b[0mgp_3d\u001b[0m\u001b[0;34m,\u001b[0m \u001b[0macquisition_method\u001b[0m\u001b[0;34m=\u001b[0m\u001b[0macq_3d\u001b[0m\u001b[0;34m,\u001b[0m \u001b[0macq_noise_var\u001b[0m\u001b[0;34m=\u001b[0m\u001b[0;34m[\u001b[0m\u001b[0;36m0.1\u001b[0m\u001b[0;34m,\u001b[0m \u001b[0;36m0.01\u001b[0m\u001b[0;34m,\u001b[0m \u001b[0;36m0.1\u001b[0m\u001b[0;34m]\u001b[0m\u001b[0;34m,\u001b[0m\u001b[0;34m\u001b[0m\u001b[0m\n\u001b[0;32m----> 4\u001b[0;31m                    batches_per_acquisition=1)\n\u001b[0m",
      "\u001b[0;32m~/Documents/Aalto/Research_Assistant/elfi/elfi/methods/parameter_inference.py\u001b[0m in \u001b[0;36m__init__\u001b[0;34m(self, model, target_name, bounds, initial_evidence, update_interval, target_model, acquisition_method, acq_noise_var, exploration_rate, batch_size, batches_per_acquisition, async, **kwargs)\u001b[0m\n\u001b[1;32m    860\u001b[0m \u001b[0;34m\u001b[0m\u001b[0m\n\u001b[1;32m    861\u001b[0m         \u001b[0mn_precomputed\u001b[0m \u001b[0;34m=\u001b[0m \u001b[0;36m0\u001b[0m\u001b[0;34m\u001b[0m\u001b[0m\n\u001b[0;32m--> 862\u001b[0;31m         \u001b[0mn_initial\u001b[0m\u001b[0;34m,\u001b[0m \u001b[0mprecomputed\u001b[0m \u001b[0;34m=\u001b[0m \u001b[0mself\u001b[0m\u001b[0;34m.\u001b[0m\u001b[0m_resolve_initial_evidence\u001b[0m\u001b[0;34m(\u001b[0m\u001b[0minitial_evidence\u001b[0m\u001b[0;34m)\u001b[0m\u001b[0;34m\u001b[0m\u001b[0m\n\u001b[0m\u001b[1;32m    863\u001b[0m         \u001b[0;32mif\u001b[0m \u001b[0mprecomputed\u001b[0m \u001b[0;32mis\u001b[0m \u001b[0;32mnot\u001b[0m \u001b[0;32mNone\u001b[0m\u001b[0;34m:\u001b[0m\u001b[0;34m\u001b[0m\u001b[0m\n\u001b[1;32m    864\u001b[0m             \u001b[0mparams\u001b[0m \u001b[0;34m=\u001b[0m \u001b[0mbatch_to_arr2d\u001b[0m\u001b[0;34m(\u001b[0m\u001b[0mprecomputed\u001b[0m\u001b[0;34m,\u001b[0m \u001b[0mself\u001b[0m\u001b[0;34m.\u001b[0m\u001b[0mparameter_names\u001b[0m\u001b[0;34m)\u001b[0m\u001b[0;34m\u001b[0m\u001b[0m\n",
      "\u001b[0;32m~/Documents/Aalto/Research_Assistant/elfi/elfi/methods/parameter_inference.py\u001b[0m in \u001b[0;36m_resolve_initial_evidence\u001b[0;34m(self, initial_evidence)\u001b[0m\n\u001b[1;32m    894\u001b[0m         \u001b[0;32melse\u001b[0m\u001b[0;34m:\u001b[0m\u001b[0;34m\u001b[0m\u001b[0m\n\u001b[1;32m    895\u001b[0m             \u001b[0mprecomputed\u001b[0m \u001b[0;34m=\u001b[0m \u001b[0minitial_evidence\u001b[0m\u001b[0;34m\u001b[0m\u001b[0m\n\u001b[0;32m--> 896\u001b[0;31m             \u001b[0mn_initial_evidence\u001b[0m \u001b[0;34m=\u001b[0m \u001b[0mlen\u001b[0m\u001b[0;34m(\u001b[0m\u001b[0mprecomputed\u001b[0m\u001b[0;34m[\u001b[0m\u001b[0mself\u001b[0m\u001b[0;34m.\u001b[0m\u001b[0mtarget_name\u001b[0m\u001b[0;34m]\u001b[0m\u001b[0;34m)\u001b[0m\u001b[0;34m\u001b[0m\u001b[0m\n\u001b[0m\u001b[1;32m    897\u001b[0m \u001b[0;34m\u001b[0m\u001b[0m\n\u001b[1;32m    898\u001b[0m         \u001b[0;32mif\u001b[0m \u001b[0mn_initial_evidence\u001b[0m \u001b[0;34m<\u001b[0m \u001b[0;36m0\u001b[0m\u001b[0;34m:\u001b[0m\u001b[0;34m\u001b[0m\u001b[0m\n",
      "\u001b[0;31mKeyError\u001b[0m: 'log_3d'"
     ]
    }
   ],
   "source": [
    "bolfi_3d = elfi.BOLFI(log_3d, batch_size=1, initial_evidence=rej_result_3d.outputs, \n",
    "                   update_interval=update_interval, bounds=bounds_3d, seed=scipy.random.seed(), \n",
    "                   async=True, target_model=gp_3d, acquisition_method=acq_3d, acq_noise_var=[0.1, 0.01, 0.1], \n",
    "                   batches_per_acquisition=1)"
   ]
  }
 ],
 "metadata": {
  "kernelspec": {
   "display_name": "elfi",
   "language": "python",
   "name": "elfi"
  },
  "language_info": {
   "codemirror_mode": {
    "name": "ipython",
    "version": 3
   },
   "file_extension": ".py",
   "mimetype": "text/x-python",
   "name": "python",
   "nbconvert_exporter": "python",
   "pygments_lexer": "ipython3",
   "version": "3.5.4"
  }
 },
 "nbformat": 4,
 "nbformat_minor": 2
}

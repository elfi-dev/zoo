{
 "cells": [
  {
   "cell_type": "code",
   "execution_count": 1,
   "metadata": {},
   "outputs": [],
   "source": [
    "import numpy as np\n",
    "import scipy.stats\n",
    "import matplotlib\n",
    "import matplotlib.pyplot as plt\n",
    "from elfi.examples.gauss import get_model\n",
    "\n",
    "%matplotlib inline\n",
    "%precision 2\n",
    "\n",
    "import logging\n",
    "logging.basicConfig(level=logging.INFO)\n",
    "\n",
    "# Set an arbitrary global seed to keep the randomly generated quantities the same\n",
    "seed = 1\n",
    "np.random.seed(seed)\n",
    "\n",
    "import elfi\n",
    "N = 1000\n",
    "fitting_steps = 25"
   ]
  },
  {
   "cell_type": "markdown",
   "metadata": {},
   "source": [
    "### 1-D Gaussian model"
   ]
  },
  {
   "cell_type": "code",
   "execution_count": 2,
   "metadata": {},
   "outputs": [],
   "source": [
    "true_mu_1d = [2]\n",
    "cov_matrix_1d = [1]"
   ]
  },
  {
   "cell_type": "code",
   "execution_count": 3,
   "metadata": {},
   "outputs": [],
   "source": [
    "m_1d = get_model(true_params=true_mu_1d, nd_mean=True, cov_matrix=cov_matrix_1d, seed_obs=seed)"
   ]
  },
  {
   "cell_type": "code",
   "execution_count": 4,
   "metadata": {},
   "outputs": [
    {
     "data": {
      "text/plain": [
       "['mu_0']"
      ]
     },
     "execution_count": 4,
     "metadata": {},
     "output_type": "execute_result"
    }
   ],
   "source": [
    "m_1d.parameter_names"
   ]
  },
  {
   "cell_type": "code",
   "execution_count": 5,
   "metadata": {},
   "outputs": [],
   "source": [
    "rej_1d = elfi.Rejection(m_1d['d'], batch_size=N, seed=seed)"
   ]
  },
  {
   "cell_type": "code",
   "execution_count": 6,
   "metadata": {},
   "outputs": [],
   "source": [
    "bounds_1d = {'mu_0': (-2.5, 2.5)}"
   ]
  },
  {
   "cell_type": "code",
   "execution_count": 7,
   "metadata": {},
   "outputs": [],
   "source": [
    "gp_1d = elfi.GPyRegression(m_1d.parameter_names, bounds_1d)"
   ]
  },
  {
   "cell_type": "code",
   "execution_count": 8,
   "metadata": {},
   "outputs": [],
   "source": [
    "prior_1d = elfi.methods.utils.ModelPrior(m_1d)"
   ]
  },
  {
   "cell_type": "code",
   "execution_count": 9,
   "metadata": {},
   "outputs": [],
   "source": [
    "acq_1d = elfi.methods.bo.acquisition.RandMaxVar(model=gp_1d, prior=prior_1d)"
   ]
  },
  {
   "cell_type": "code",
   "execution_count": 10,
   "metadata": {},
   "outputs": [],
   "source": [
    "initial_evidence = 10\n",
    "update_interval = 1\n",
    "n_rejection_samples = 2 * initial_evidence"
   ]
  },
  {
   "cell_type": "code",
   "execution_count": 11,
   "metadata": {},
   "outputs": [
    {
     "name": "stdout",
     "output_type": "stream",
     "text": [
      "\r",
      "Progress: |--------------------------------------------------| 0.0% Complete\r",
      "\r",
      "Progress: |██████████████████████████████████████████████████| 100.0% Complete\r\n"
     ]
    }
   ],
   "source": [
    "rej_result_1d = rej_1d.sample(n_samples=n_rejection_samples, quantile = 1)"
   ]
  },
  {
   "cell_type": "code",
   "execution_count": 12,
   "metadata": {},
   "outputs": [],
   "source": [
    "bolfi_1d = elfi.BOLFI(m_1d, 'd', batch_size=1, initial_evidence=rej_result_1d.outputs, \n",
    "                   update_interval=update_interval, bounds=bounds_1d, seed=scipy.random.seed(), \n",
    "                   async=True, target_model=gp_1d, acquisition_method=acq_1d, acq_noise_var=[0.1], \n",
    "                   batches_per_acquisition=1)"
   ]
  },
  {
   "cell_type": "code",
   "execution_count": 13,
   "metadata": {},
   "outputs": [
    {
     "name": "stderr",
     "output_type": "stream",
     "text": [
      "INFO:elfi.methods.parameter_inference:BOLFI: Fitting the surrogate model...\n",
      "INFO:elfi.methods.mcmc:NUTS: Performing 50 iterations with 25 adaptation steps.\n"
     ]
    },
    {
     "name": "stdout",
     "output_type": "stream",
     "text": [
      "\r",
      "Progress: |--------------------------------------------------| 0.0% Complete\r"
     ]
    },
    {
     "name": "stderr",
     "output_type": "stream",
     "text": [
      " /m/home/home2/27/musaevm1/unix/Documents/RA/elfi/elfi/methods/mcmc.py:207: RuntimeWarning:overflow encountered in exp\n",
      "INFO:elfi.methods.mcmc:NUTS: Adaptation/warmup finished. Sampling...\n",
      "INFO:elfi.methods.mcmc:NUTS: Acceptance ratio: 0.039. After warmup 15 proposals were outside of the region allowed by priors and rejected, decreasing acceptance ratio.\n",
      "INFO:elfi.methods.mcmc:NUTS: Performing 50 iterations with 25 adaptation steps.\n"
     ]
    },
    {
     "name": "stdout",
     "output_type": "stream",
     "text": [
      "\r",
      "Progress: |██████████----------------------------------------| 20.0% Complete\r"
     ]
    },
    {
     "name": "stderr",
     "output_type": "stream",
     "text": [
      "INFO:elfi.methods.mcmc:NUTS: Adaptation/warmup finished. Sampling...\n",
      "INFO:elfi.methods.mcmc:NUTS: Acceptance ratio: 0.055. After warmup 15 proposals were outside of the region allowed by priors and rejected, decreasing acceptance ratio.\n",
      "INFO:elfi.methods.mcmc:NUTS: Performing 50 iterations with 25 adaptation steps.\n"
     ]
    },
    {
     "name": "stdout",
     "output_type": "stream",
     "text": [
      "\r",
      "Progress: |████████████████████------------------------------| 40.0% Complete\r"
     ]
    },
    {
     "name": "stderr",
     "output_type": "stream",
     "text": [
      "INFO:elfi.methods.mcmc:NUTS: Adaptation/warmup finished. Sampling...\n",
      "INFO:elfi.methods.mcmc:NUTS: Acceptance ratio: 0.500\n",
      "INFO:elfi.methods.mcmc:NUTS: Performing 50 iterations with 25 adaptation steps.\n"
     ]
    },
    {
     "name": "stdout",
     "output_type": "stream",
     "text": [
      "\r",
      "Progress: |██████████████████████████████--------------------| 60.0% Complete\r"
     ]
    },
    {
     "name": "stderr",
     "output_type": "stream",
     "text": [
      "INFO:elfi.methods.mcmc:NUTS: Adaptation/warmup finished. Sampling...\n",
      "INFO:elfi.methods.mcmc:NUTS: Acceptance ratio: 0.658\n",
      "INFO:elfi.methods.mcmc:NUTS: Performing 50 iterations with 25 adaptation steps.\n"
     ]
    },
    {
     "name": "stdout",
     "output_type": "stream",
     "text": [
      "\r",
      "Progress: |████████████████████████████████████████----------| 80.0% Complete\r"
     ]
    },
    {
     "name": "stderr",
     "output_type": "stream",
     "text": [
      "INFO:elfi.methods.mcmc:NUTS: Adaptation/warmup finished. Sampling...\n",
      "INFO:elfi.methods.mcmc:NUTS: Acceptance ratio: 0.962\n"
     ]
    },
    {
     "name": "stdout",
     "output_type": "stream",
     "text": [
      "\r",
      "Progress: |██████████████████████████████████████████████████| 100.0% Complete\r\n"
     ]
    },
    {
     "name": "stderr",
     "output_type": "stream",
     "text": [
      "INFO:elfi.methods.posteriors:Using optimized minimum value (0.0419) of the GP discrepancy mean function as a threshold\n"
     ]
    },
    {
     "data": {
      "text/plain": [
       "<elfi.methods.posteriors.BolfiPosterior at 0x7f3cdee79f60>"
      ]
     },
     "execution_count": 13,
     "metadata": {},
     "output_type": "execute_result"
    }
   ],
   "source": [
    "bolfi_1d.fit(n_evidence=fitting_steps)"
   ]
  },
  {
   "cell_type": "markdown",
   "metadata": {},
   "source": [
    "### 2-D Gaussian model"
   ]
  },
  {
   "cell_type": "code",
   "execution_count": 14,
   "metadata": {},
   "outputs": [],
   "source": [
    "true_mu_2d = [.2, .3]\n",
    "cov_matrix_2d = [[.3, .4], [.1, .2]]"
   ]
  },
  {
   "cell_type": "code",
   "execution_count": 15,
   "metadata": {},
   "outputs": [
    {
     "name": "stderr",
     "output_type": "stream",
     "text": [
      " /l/musaevm1/anaconda3/elfi_test/lib/python3.6/site-packages/scipy/stats/_multivariate.py:652: RuntimeWarning:covariance is not positive-semidefinite.\n"
     ]
    }
   ],
   "source": [
    "m_2d = get_model(true_params=true_mu_2d, nd_mean=True, cov_matrix=cov_matrix_2d, seed_obs=seed)"
   ]
  },
  {
   "cell_type": "code",
   "execution_count": 16,
   "metadata": {},
   "outputs": [
    {
     "data": {
      "text/plain": [
       "['mu_0', 'mu_1']"
      ]
     },
     "execution_count": 16,
     "metadata": {},
     "output_type": "execute_result"
    }
   ],
   "source": [
    "m_2d.parameter_names"
   ]
  },
  {
   "cell_type": "code",
   "execution_count": 17,
   "metadata": {},
   "outputs": [],
   "source": [
    "bounds_2d = {'mu_0': (-.25, .25), 'mu_1': (-.5, 5)}"
   ]
  },
  {
   "cell_type": "code",
   "execution_count": 18,
   "metadata": {},
   "outputs": [],
   "source": [
    "gp_2d = elfi.GPyRegression(m_2d.parameter_names, bounds_2d)"
   ]
  },
  {
   "cell_type": "code",
   "execution_count": 19,
   "metadata": {},
   "outputs": [],
   "source": [
    "prior_2d = elfi.methods.utils.ModelPrior(m_2d)"
   ]
  },
  {
   "cell_type": "code",
   "execution_count": 20,
   "metadata": {},
   "outputs": [],
   "source": [
    "acq_2d = elfi.methods.bo.acquisition.RandMaxVar(model=gp_2d, prior=prior_2d)"
   ]
  },
  {
   "cell_type": "code",
   "execution_count": 21,
   "metadata": {},
   "outputs": [],
   "source": [
    "rej_2d = elfi.Rejection(m_2d['d'], batch_size = 1)"
   ]
  },
  {
   "cell_type": "code",
   "execution_count": 22,
   "metadata": {},
   "outputs": [
    {
     "name": "stdout",
     "output_type": "stream",
     "text": [
      "\r",
      "Progress: |--------------------------------------------------| 0.0% Complete\r",
      "\r",
      "Progress: |██------------------------------------------------| 5.0% Complete\r",
      "\r",
      "Progress: |█████---------------------------------------------| 10.0% Complete\r",
      "\r",
      "Progress: |███████-------------------------------------------| 15.0% Complete\r",
      "\r",
      "Progress: |██████████----------------------------------------| 20.0% Complete\r",
      "\r",
      "Progress: |████████████--------------------------------------| 25.0% Complete\r",
      "\r",
      "Progress: |███████████████-----------------------------------| 30.0% Complete\r",
      "\r",
      "Progress: |█████████████████---------------------------------| 35.0% Complete\r",
      "\r",
      "Progress: |████████████████████------------------------------| 40.0% Complete\r",
      "\r",
      "Progress: |██████████████████████----------------------------| 45.0% Complete\r",
      "\r",
      "Progress: |█████████████████████████-------------------------| 50.0% Complete\r",
      "\r",
      "Progress: |███████████████████████████-----------------------| 55.0% Complete\r",
      "\r",
      "Progress: |██████████████████████████████--------------------| 60.0% Complete\r",
      "\r",
      "Progress: |████████████████████████████████------------------| 65.0% Complete\r",
      "\r",
      "Progress: |███████████████████████████████████---------------| 70.0% Complete\r",
      "\r",
      "Progress: |█████████████████████████████████████-------------| 75.0% Complete\r",
      "\r",
      "Progress: |████████████████████████████████████████----------| 80.0% Complete\r",
      "\r",
      "Progress: |██████████████████████████████████████████--------| 85.0% Complete\r",
      "\r",
      "Progress: |█████████████████████████████████████████████-----| 90.0% Complete\r",
      "\r",
      "Progress: |███████████████████████████████████████████████---| 95.0% Complete\r",
      "\r",
      "Progress: |██████████████████████████████████████████████████| 100.0% Complete\r\n"
     ]
    },
    {
     "name": "stderr",
     "output_type": "stream",
     "text": [
      " /l/musaevm1/anaconda3/elfi_test/lib/python3.6/site-packages/scipy/stats/_multivariate.py:652: RuntimeWarning:covariance is not positive-semidefinite.\n"
     ]
    }
   ],
   "source": [
    "rej_result_2d = rej_2d.sample(n_samples=n_rejection_samples, quantile = 1)"
   ]
  },
  {
   "cell_type": "code",
   "execution_count": 23,
   "metadata": {},
   "outputs": [],
   "source": [
    "bolfi_2d = elfi.BOLFI(m_2d, 'd', batch_size=1, initial_evidence=rej_result_2d.outputs, \n",
    "                   update_interval=update_interval, bounds=bounds_2d, seed=scipy.random.seed(), \n",
    "                   async=True, target_model=gp_2d, acquisition_method=acq_2d, acq_noise_var=[0.1, 0.01], \n",
    "                   batches_per_acquisition=1)"
   ]
  },
  {
   "cell_type": "code",
   "execution_count": 24,
   "metadata": {},
   "outputs": [
    {
     "name": "stderr",
     "output_type": "stream",
     "text": [
      "INFO:elfi.methods.parameter_inference:BOLFI: Fitting the surrogate model...\n",
      "INFO:elfi.methods.mcmc:NUTS: Performing 50 iterations with 25 adaptation steps.\n"
     ]
    },
    {
     "name": "stdout",
     "output_type": "stream",
     "text": [
      "\r",
      "Progress: |--------------------------------------------------| 0.0% Complete\r"
     ]
    },
    {
     "name": "stderr",
     "output_type": "stream",
     "text": [
      "INFO:elfi.methods.mcmc:NUTS: Adaptation/warmup finished. Sampling...\n",
      "INFO:elfi.methods.mcmc:NUTS: Acceptance ratio: 0.391. After warmup 4 proposals were outside of the region allowed by priors and rejected, decreasing acceptance ratio.\n",
      " /l/musaevm1/anaconda3/elfi_test/lib/python3.6/site-packages/scipy/stats/_multivariate.py:652: RuntimeWarning:covariance is not positive-semidefinite.\n",
      "INFO:elfi.methods.mcmc:NUTS: Performing 50 iterations with 25 adaptation steps.\n"
     ]
    },
    {
     "name": "stdout",
     "output_type": "stream",
     "text": [
      "\r",
      "Progress: |██████████----------------------------------------| 20.0% Complete\r"
     ]
    },
    {
     "name": "stderr",
     "output_type": "stream",
     "text": [
      "INFO:elfi.methods.mcmc:NUTS: Adaptation/warmup finished. Sampling...\n",
      "INFO:elfi.methods.mcmc:NUTS: Acceptance ratio: 0.187\n",
      "INFO:elfi.methods.mcmc:NUTS: Performing 50 iterations with 25 adaptation steps.\n"
     ]
    },
    {
     "name": "stdout",
     "output_type": "stream",
     "text": [
      "\r",
      "Progress: |████████████████████------------------------------| 40.0% Complete\r"
     ]
    },
    {
     "name": "stderr",
     "output_type": "stream",
     "text": [
      "INFO:elfi.methods.mcmc:NUTS: Adaptation/warmup finished. Sampling...\n",
      "INFO:elfi.methods.mcmc:NUTS: Acceptance ratio: 0.410. After warmup 21 proposals were outside of the region allowed by priors and rejected, decreasing acceptance ratio.\n",
      "INFO:elfi.methods.mcmc:NUTS: Performing 50 iterations with 25 adaptation steps.\n",
      " /m/home/home2/27/musaevm1/unix/Documents/RA/elfi/elfi/methods/mcmc.py:207: RuntimeWarning:overflow encountered in exp\n"
     ]
    },
    {
     "name": "stdout",
     "output_type": "stream",
     "text": [
      "\r",
      "Progress: |██████████████████████████████--------------------| 60.0% Complete\r"
     ]
    },
    {
     "name": "stderr",
     "output_type": "stream",
     "text": [
      "INFO:elfi.methods.mcmc:NUTS: Adaptation/warmup finished. Sampling...\n",
      "INFO:elfi.methods.mcmc:NUTS: Acceptance ratio: 0.272. After warmup 1 proposals were outside of the region allowed by priors and rejected, decreasing acceptance ratio.\n",
      "INFO:elfi.methods.mcmc:NUTS: Performing 50 iterations with 25 adaptation steps.\n"
     ]
    },
    {
     "name": "stdout",
     "output_type": "stream",
     "text": [
      "\r",
      "Progress: |████████████████████████████████████████----------| 80.0% Complete\r"
     ]
    },
    {
     "name": "stderr",
     "output_type": "stream",
     "text": [
      "INFO:elfi.methods.mcmc:NUTS: Adaptation/warmup finished. Sampling...\n",
      "INFO:elfi.methods.mcmc:NUTS: Acceptance ratio: 0.164\n"
     ]
    },
    {
     "name": "stdout",
     "output_type": "stream",
     "text": [
      "\r",
      "Progress: |██████████████████████████████████████████████████| 100.0% Complete\r\n"
     ]
    },
    {
     "name": "stderr",
     "output_type": "stream",
     "text": [
      "INFO:elfi.methods.posteriors:Using optimized minimum value (0.5896) of the GP discrepancy mean function as a threshold\n"
     ]
    },
    {
     "data": {
      "text/plain": [
       "<elfi.methods.posteriors.BolfiPosterior at 0x7f3ce26c79b0>"
      ]
     },
     "execution_count": 24,
     "metadata": {},
     "output_type": "execute_result"
    }
   ],
   "source": [
    "bolfi_2d.fit(n_evidence=fitting_steps)"
   ]
  },
  {
   "cell_type": "markdown",
   "metadata": {},
   "source": [
    "### 3-D Gaussian model"
   ]
  },
  {
   "cell_type": "code",
   "execution_count": 25,
   "metadata": {},
   "outputs": [],
   "source": [
    "true_mu_3d = [.2, .5, .6]\n",
    "cov_matrix_3d = [[.3, .4, .7], [.1, .3, .2], [.8, .9, .1]]"
   ]
  },
  {
   "cell_type": "code",
   "execution_count": 26,
   "metadata": {},
   "outputs": [
    {
     "name": "stderr",
     "output_type": "stream",
     "text": [
      " /l/musaevm1/anaconda3/elfi_test/lib/python3.6/site-packages/scipy/stats/_multivariate.py:652: RuntimeWarning:covariance is not positive-semidefinite.\n"
     ]
    }
   ],
   "source": [
    "m_3d = get_model(true_params=true_mu_3d, nd_mean=True, cov_matrix=cov_matrix_3d, seed_obs=seed)"
   ]
  },
  {
   "cell_type": "code",
   "execution_count": 27,
   "metadata": {},
   "outputs": [
    {
     "data": {
      "text/plain": [
       "['mu_0', 'mu_1', 'mu_2']"
      ]
     },
     "execution_count": 27,
     "metadata": {},
     "output_type": "execute_result"
    }
   ],
   "source": [
    "m_3d.parameter_names"
   ]
  },
  {
   "cell_type": "code",
   "execution_count": 28,
   "metadata": {},
   "outputs": [],
   "source": [
    "rej_3d = elfi.Rejection(m_3d['d'], batch_size=N, seed=seed)"
   ]
  },
  {
   "cell_type": "code",
   "execution_count": 29,
   "metadata": {},
   "outputs": [],
   "source": [
    "bounds_3d = {'mu_0': (-.25, .25), 'mu_1': (-.55, .55), 'mu_2': (-.65, .65)}"
   ]
  },
  {
   "cell_type": "code",
   "execution_count": 30,
   "metadata": {},
   "outputs": [],
   "source": [
    "gp_3d = elfi.GPyRegression(m_3d.parameter_names, bounds_3d)"
   ]
  },
  {
   "cell_type": "code",
   "execution_count": 31,
   "metadata": {},
   "outputs": [],
   "source": [
    "prior_3d = elfi.methods.utils.ModelPrior(m_3d)"
   ]
  },
  {
   "cell_type": "code",
   "execution_count": 32,
   "metadata": {},
   "outputs": [],
   "source": [
    "acq_3d = elfi.methods.bo.acquisition.RandMaxVar(model=gp_3d, prior=prior_3d)"
   ]
  },
  {
   "cell_type": "code",
   "execution_count": 33,
   "metadata": {},
   "outputs": [
    {
     "name": "stderr",
     "output_type": "stream",
     "text": [
      " /l/musaevm1/anaconda3/elfi_test/lib/python3.6/site-packages/scipy/stats/_multivariate.py:652: RuntimeWarning:covariance is not positive-semidefinite.\n"
     ]
    },
    {
     "name": "stdout",
     "output_type": "stream",
     "text": [
      "\r",
      "Progress: |--------------------------------------------------| 0.0% Complete\r",
      "\r",
      "Progress: |██████████████████████████████████████████████████| 100.0% Complete\r\n"
     ]
    }
   ],
   "source": [
    "rej_result_3d = rej_3d.sample(n_samples=n_rejection_samples, quantile = 1)"
   ]
  },
  {
   "cell_type": "code",
   "execution_count": 34,
   "metadata": {},
   "outputs": [],
   "source": [
    "bolfi_3d = elfi.BOLFI(m_3d, 'd', batch_size=1, initial_evidence=rej_result_3d.outputs, \n",
    "                   update_interval=update_interval, bounds=bounds_3d, seed=scipy.random.seed(), \n",
    "                   async=True, target_model=gp_3d, acquisition_method=acq_3d, acq_noise_var=[0.1, 0.01, 0.1], \n",
    "                   batches_per_acquisition=1)"
   ]
  },
  {
   "cell_type": "code",
   "execution_count": 35,
   "metadata": {},
   "outputs": [
    {
     "name": "stderr",
     "output_type": "stream",
     "text": [
      "INFO:elfi.methods.parameter_inference:BOLFI: Fitting the surrogate model...\n",
      "INFO:elfi.methods.mcmc:NUTS: Performing 50 iterations with 25 adaptation steps.\n"
     ]
    },
    {
     "name": "stdout",
     "output_type": "stream",
     "text": [
      "\r",
      "Progress: |--------------------------------------------------| 0.0% Complete\r"
     ]
    },
    {
     "name": "stderr",
     "output_type": "stream",
     "text": [
      "INFO:elfi.methods.mcmc:NUTS: Adaptation/warmup finished. Sampling...\n",
      "INFO:elfi.methods.mcmc:NUTS: Acceptance ratio: 0.123. After warmup 24 proposals were outside of the region allowed by priors and rejected, decreasing acceptance ratio.\n",
      " /l/musaevm1/anaconda3/elfi_test/lib/python3.6/site-packages/scipy/stats/_multivariate.py:652: RuntimeWarning:covariance is not positive-semidefinite.\n",
      "INFO:elfi.methods.mcmc:NUTS: Performing 50 iterations with 25 adaptation steps.\n"
     ]
    },
    {
     "name": "stdout",
     "output_type": "stream",
     "text": [
      "\r",
      "Progress: |██████████----------------------------------------| 20.0% Complete\r"
     ]
    },
    {
     "name": "stderr",
     "output_type": "stream",
     "text": [
      "INFO:elfi.methods.mcmc:NUTS: Adaptation/warmup finished. Sampling...\n",
      "INFO:elfi.methods.mcmc:NUTS: Acceptance ratio: 0.227. After warmup 24 proposals were outside of the region allowed by priors and rejected, decreasing acceptance ratio.\n",
      "INFO:elfi.methods.mcmc:NUTS: Performing 50 iterations with 25 adaptation steps.\n"
     ]
    },
    {
     "name": "stdout",
     "output_type": "stream",
     "text": [
      "\r",
      "Progress: |████████████████████------------------------------| 40.0% Complete\r"
     ]
    },
    {
     "name": "stderr",
     "output_type": "stream",
     "text": [
      "INFO:elfi.methods.mcmc:NUTS: Adaptation/warmup finished. Sampling...\n",
      "INFO:elfi.methods.mcmc:NUTS: Acceptance ratio: 0.022. After warmup 9 proposals were outside of the region allowed by priors and rejected, decreasing acceptance ratio.\n",
      "INFO:elfi.methods.mcmc:NUTS: Performing 50 iterations with 25 adaptation steps.\n"
     ]
    },
    {
     "name": "stdout",
     "output_type": "stream",
     "text": [
      "\r",
      "Progress: |██████████████████████████████--------------------| 60.0% Complete\r"
     ]
    },
    {
     "name": "stderr",
     "output_type": "stream",
     "text": [
      "INFO:elfi.methods.mcmc:NUTS: Adaptation/warmup finished. Sampling...\n",
      "INFO:elfi.methods.mcmc:NUTS: Acceptance ratio: 0.149. After warmup 17 proposals were outside of the region allowed by priors and rejected, decreasing acceptance ratio.\n",
      "INFO:elfi.methods.mcmc:NUTS: Performing 50 iterations with 25 adaptation steps.\n"
     ]
    },
    {
     "name": "stdout",
     "output_type": "stream",
     "text": [
      "\r",
      "Progress: |████████████████████████████████████████----------| 80.0% Complete\r"
     ]
    },
    {
     "name": "stderr",
     "output_type": "stream",
     "text": [
      "INFO:elfi.methods.mcmc:NUTS: Adaptation/warmup finished. Sampling...\n",
      "INFO:elfi.methods.mcmc:NUTS: Acceptance ratio: 0.171\n"
     ]
    },
    {
     "name": "stdout",
     "output_type": "stream",
     "text": [
      "\r",
      "Progress: |██████████████████████████████████████████████████| 100.0% Complete\r\n"
     ]
    },
    {
     "name": "stderr",
     "output_type": "stream",
     "text": [
      "INFO:elfi.methods.posteriors:Using optimized minimum value (0.5568) of the GP discrepancy mean function as a threshold\n"
     ]
    }
   ],
   "source": [
    "post = bolfi_3d.fit(n_evidence=fitting_steps)"
   ]
  }
 ],
 "metadata": {
  "kernelspec": {
   "display_name": "Python (elfi_test)",
   "language": "python",
   "name": "elfi_test"
  },
  "language_info": {
   "codemirror_mode": {
    "name": "ipython",
    "version": 3
   },
   "file_extension": ".py",
   "mimetype": "text/x-python",
   "name": "python",
   "nbconvert_exporter": "python",
   "pygments_lexer": "ipython3",
   "version": "3.6.5"
  }
 },
 "nbformat": 4,
 "nbformat_minor": 2
}

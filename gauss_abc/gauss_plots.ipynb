{
 "cells": [
  {
   "cell_type": "code",
   "execution_count": 1,
   "metadata": {},
   "outputs": [],
   "source": [
    "import time\n",
    "from functools import partial\n",
    "\n",
    "import elfi\n",
    "import numpy as np\n",
    "import scipy.stats as ss\n",
    "import matplotlib.pyplot as plt\n",
    "from elfi.examples.gauss import gauss, ss_mean, ss_var, euclidean_multidim\n",
    "\n",
    "import logging\n",
    "logging.basicConfig(level=logging.INFO)  # sometimes this is required to enable logging inside Jupyter\n",
    "\n",
    "%matplotlib inline\n",
    "%precision 2\n",
    "\n",
    "# Set an arbitrary seed and a global random state to keep the randomly generated quantities the same between runs\n",
    "seed = 20180620\n",
    "np.random.seed(seed)\n",
    "N = 1000"
   ]
  },
  {
   "cell_type": "markdown",
   "metadata": {},
   "source": [
    "### Plotting Gauss"
   ]
  },
  {
   "cell_type": "code",
   "execution_count": 2,
   "metadata": {},
   "outputs": [],
   "source": [
    "def gauss_nd_mean(*mu, cov_matrix, n_obs=15, batch_size=1, random_state=None):\n",
    "    \"\"\"Sample an n-D Gaussian distribution.\n",
    "\n",
    "    Parameters\n",
    "    ----------\n",
    "    *mu : array_like\n",
    "        Mean parameters.\n",
    "    cov_matrix : array_like\n",
    "        Covariance matrix.\n",
    "    n_obs : int, optional\n",
    "    batch_size : int, optional\n",
    "    random_state : np.random.RandomState, optional\n",
    "\n",
    "    Returns\n",
    "    -------\n",
    "    array_like\n",
    "        n-D observations.\n",
    "\n",
    "    \"\"\"\n",
    "    n_dim = len(mu)\n",
    "\n",
    "    # Transforming the arrays' shape to be compatible with batching.\n",
    "    batches_mu = np.zeros(shape=(batch_size, n_dim))\n",
    "    for idx_dim, param_mu in enumerate(mu):\n",
    "        batches_mu[:, idx_dim] = param_mu\n",
    "\n",
    "    # Sampling the observations.\n",
    "    y_obs = np.zeros(shape=(batch_size, n_obs, n_dim))\n",
    "    for idx_batch in range(batch_size):\n",
    "        y_batch = ss.multivariate_normal.rvs(mean=batches_mu[idx_batch], cov=cov_matrix,\n",
    "                                             size=n_obs, random_state=random_state)\n",
    "        if n_dim == 1:\n",
    "            y_batch = y_batch[:, np.newaxis]\n",
    "        y_obs[idx_batch, :, :] = y_batch\n",
    "    return y_obs"
   ]
  },
  {
   "cell_type": "code",
   "execution_count": 3,
   "metadata": {},
   "outputs": [],
   "source": [
    "def get_model(n_obs=50, true_params=None, seed_obs=None, nd_mean=False, cov_matrix=None):\n",
    "    \"\"\"Return a Gaussian noise model.\n",
    "\n",
    "    Parameters\n",
    "    ----------\n",
    "    n_obs : int, optional\n",
    "    true_params : list, optional\n",
    "        Default parameter settings.\n",
    "    seed_obs : int, optional\n",
    "        Seed for the observed data generation.\n",
    "    nd_mean : bool, optional\n",
    "        Option to use an n-D mean Gaussian noise model.\n",
    "    cov_matrix : array_like, optional\n",
    "        Covariance matrix, a requirement for the nd_mean model.\n",
    "\n",
    "    Returns\n",
    "    -------\n",
    "    elfi.ElfiModel\n",
    "\n",
    "    \"\"\"\n",
    "    # Defining the default settings.\n",
    "    if true_params is None:\n",
    "        if nd_mean:\n",
    "            true_params = [4, 4]  # 2-D mean.\n",
    "        else:\n",
    "            true_params = [4, .4]  # mean and standard deviation.\n",
    "\n",
    "    # Choosing the simulator for both observations and simulations.\n",
    "    if nd_mean:\n",
    "        fn_simulator = partial(gauss_nd_mean, cov_matrix=cov_matrix, n_obs=n_obs)\n",
    "    else:\n",
    "        fn_simulator = partial(gauss, n_obs=n_obs)\n",
    "\n",
    "\n",
    "    # Obtaining the observations.\n",
    "    y_obs = fn_simulator(*true_params, n_obs=n_obs, random_state=np.random.RandomState(seed_obs))\n",
    "    print('This is observations')\n",
    "    print(y_obs)\n",
    "    print('\\n')\n",
    "\n",
    "    m = elfi.new_model()\n",
    "    # Initialising the priors.\n",
    "    eps_prior = 5  # The longest distance from the median of an initialised prior's distribution.\n",
    "    priors = []\n",
    "    if nd_mean:\n",
    "        n_dim = len(true_params)\n",
    "        for i in range(n_dim):\n",
    "            name_prior = 'mu_{}'.format(i)\n",
    "            prior_mu = elfi.Prior('uniform', true_params[i] - eps_prior,\n",
    "                                  2 * eps_prior, model=m, name=name_prior)\n",
    "            priors.append(prior_mu)\n",
    "    else:\n",
    "        priors.append(elfi.Prior('uniform', true_params[0] - eps_prior,\n",
    "                                 2 * eps_prior, model=m, name='mu'))\n",
    "        priors.append(elfi.Prior('truncnorm', np.amax([.01, true_params[1] - eps_prior]),\n",
    "                                 2 * eps_prior, model=m, name='sigma'))\n",
    "    elfi.Simulator(fn_simulator, *priors, observed=y_obs, name='gauss')\n",
    "\n",
    "    # Initialising the summary statistics.\n",
    "    sumstats = []\n",
    "    sumstats.append(elfi.Summary(ss_mean, m['gauss'], name='ss_mean'))\n",
    "    sumstats.append(elfi.Summary(ss_var, m['gauss'], name='ss_var'))\n",
    "\n",
    "    # Choosing the discrepancy metric.\n",
    "    if nd_mean:\n",
    "        elfi.Discrepancy(euclidean_multidim, *sumstats, name='d')\n",
    "    else:\n",
    "        elfi.Distance('euclidean', *sumstats, name='d')\n",
    "    return m"
   ]
  },
  {
   "cell_type": "markdown",
   "metadata": {},
   "source": [
    "### Plotting 1-d Gaussian noise model"
   ]
  },
  {
   "cell_type": "code",
   "execution_count": 4,
   "metadata": {},
   "outputs": [],
   "source": [
    "true_mu_1d = [4]\n",
    "cov_matrix_1d = [1]"
   ]
  },
  {
   "cell_type": "code",
   "execution_count": 5,
   "metadata": {},
   "outputs": [
    {
     "name": "stdout",
     "output_type": "stream",
     "text": [
      "This is observations\n",
      "[[[4.88]\n",
      "  [4.16]\n",
      "  [4.65]\n",
      "  [3.25]\n",
      "  [4.42]\n",
      "  [3.79]\n",
      "  [2.38]\n",
      "  [4.24]\n",
      "  [3.57]\n",
      "  [2.68]\n",
      "  [3.85]\n",
      "  [1.68]\n",
      "  [5.53]\n",
      "  [3.95]\n",
      "  [2.49]\n",
      "  [4.17]\n",
      "  [4.8 ]\n",
      "  [3.69]\n",
      "  [3.41]\n",
      "  [2.55]\n",
      "  [4.1 ]\n",
      "  [2.3 ]\n",
      "  [5.45]\n",
      "  [2.07]\n",
      "  [4.18]\n",
      "  [3.97]\n",
      "  [3.98]\n",
      "  [4.56]\n",
      "  [3.64]\n",
      "  [4.88]\n",
      "  [4.38]\n",
      "  [2.56]\n",
      "  [2.96]\n",
      "  [4.3 ]\n",
      "  [5.23]\n",
      "  [5.62]\n",
      "  [5.98]\n",
      "  [3.87]\n",
      "  [4.22]\n",
      "  [3.61]\n",
      "  [2.27]\n",
      "  [4.2 ]\n",
      "  [3.62]\n",
      "  [5.1 ]\n",
      "  [4.04]\n",
      "  [4.16]\n",
      "  [4.36]\n",
      "  [4.22]\n",
      "  [4.22]\n",
      "  [4.63]]]\n",
      "\n",
      "\n"
     ]
    }
   ],
   "source": [
    "m_1d = get_model(true_params=true_mu_1d, nd_mean=True, cov_matrix=cov_matrix_1d, seed_obs=seed)"
   ]
  },
  {
   "cell_type": "code",
   "execution_count": 6,
   "metadata": {},
   "outputs": [
    {
     "data": {
      "image/svg+xml": [
       "<?xml version=\"1.0\" encoding=\"UTF-8\" standalone=\"no\"?>\n",
       "<!DOCTYPE svg PUBLIC \"-//W3C//DTD SVG 1.1//EN\"\n",
       " \"http://www.w3.org/Graphics/SVG/1.1/DTD/svg11.dtd\">\n",
       "<!-- Generated by graphviz version 2.38.0 (20140413.2041)\n",
       " -->\n",
       "<!-- Title: %3 Pages: 1 -->\n",
       "<svg width=\"176pt\" height=\"359pt\"\n",
       " viewBox=\"0.00 0.00 175.74 358.68\" xmlns=\"http://www.w3.org/2000/svg\" xmlns:xlink=\"http://www.w3.org/1999/xlink\">\n",
       "<g id=\"graph0\" class=\"graph\" transform=\"scale(1 1) rotate(0) translate(4 354.682)\">\n",
       "<title>%3</title>\n",
       "<polygon fill=\"white\" stroke=\"none\" points=\"-4,4 -4,-354.682 171.743,-354.682 171.743,4 -4,4\"/>\n",
       "<!-- mu_0 -->\n",
       "<g id=\"node1\" class=\"node\"><title>mu_0</title>\n",
       "<ellipse fill=\"none\" stroke=\"black\" cx=\"87.5963\" cy=\"-319.484\" rx=\"31.3957\" ry=\"31.3957\"/>\n",
       "<text text-anchor=\"middle\" x=\"87.5963\" y=\"-315.784\" font-family=\"Times,serif\" font-size=\"14.00\">mu_0</text>\n",
       "</g>\n",
       "<!-- gauss -->\n",
       "<g id=\"node2\" class=\"node\"><title>gauss</title>\n",
       "<ellipse fill=\"#cccccc\" stroke=\"black\" cx=\"87.5963\" cy=\"-221.74\" rx=\"30.5947\" ry=\"30.5947\"/>\n",
       "<text text-anchor=\"middle\" x=\"87.5963\" y=\"-218.04\" font-family=\"Times,serif\" font-size=\"14.00\">gauss</text>\n",
       "</g>\n",
       "<!-- mu_0&#45;&gt;gauss -->\n",
       "<g id=\"edge1\" class=\"edge\"><title>mu_0&#45;&gt;gauss</title>\n",
       "<path fill=\"none\" stroke=\"black\" d=\"M87.5963,-288.19C87.5963,-280.089 87.5963,-271.208 87.5963,-262.673\"/>\n",
       "<polygon fill=\"black\" stroke=\"black\" points=\"91.0964,-262.509 87.5963,-252.509 84.0964,-262.509 91.0964,-262.509\"/>\n",
       "</g>\n",
       "<!-- ss_mean -->\n",
       "<g id=\"node3\" class=\"node\"><title>ss_mean</title>\n",
       "<ellipse fill=\"#cccccc\" stroke=\"black\" cx=\"41.5963\" cy=\"-113.596\" rx=\"41.6928\" ry=\"41.6928\"/>\n",
       "<text text-anchor=\"middle\" x=\"41.5963\" y=\"-109.896\" font-family=\"Times,serif\" font-size=\"14.00\">ss_mean</text>\n",
       "</g>\n",
       "<!-- gauss&#45;&gt;ss_mean -->\n",
       "<g id=\"edge2\" class=\"edge\"><title>gauss&#45;&gt;ss_mean</title>\n",
       "<path fill=\"none\" stroke=\"black\" d=\"M75.7502,-193.405C71.55,-183.714 66.6951,-172.511 61.9878,-161.649\"/>\n",
       "<polygon fill=\"black\" stroke=\"black\" points=\"65.0971,-160.022 57.9093,-152.238 58.6743,-162.805 65.0971,-160.022\"/>\n",
       "</g>\n",
       "<!-- ss_var -->\n",
       "<g id=\"node4\" class=\"node\"><title>ss_var</title>\n",
       "<ellipse fill=\"#cccccc\" stroke=\"black\" cx=\"134.596\" cy=\"-113.596\" rx=\"33.2948\" ry=\"33.2948\"/>\n",
       "<text text-anchor=\"middle\" x=\"134.596\" y=\"-109.896\" font-family=\"Times,serif\" font-size=\"14.00\">ss_var</text>\n",
       "</g>\n",
       "<!-- gauss&#45;&gt;ss_var -->\n",
       "<g id=\"edge3\" class=\"edge\"><title>gauss&#45;&gt;ss_var</title>\n",
       "<path fill=\"none\" stroke=\"black\" d=\"M99.7,-193.405C105.084,-181.246 111.521,-166.709 117.392,-153.449\"/>\n",
       "<polygon fill=\"black\" stroke=\"black\" points=\"120.696,-154.634 121.544,-144.073 114.295,-151.8 120.696,-154.634\"/>\n",
       "</g>\n",
       "<!-- d -->\n",
       "<g id=\"node5\" class=\"node\"><title>d</title>\n",
       "<ellipse fill=\"none\" stroke=\"black\" cx=\"87.5963\" cy=\"-18\" rx=\"18\" ry=\"18\"/>\n",
       "<text text-anchor=\"middle\" x=\"87.5963\" y=\"-14.3\" font-family=\"Times,serif\" font-size=\"14.00\">d</text>\n",
       "</g>\n",
       "<!-- ss_mean&#45;&gt;d -->\n",
       "<g id=\"edge4\" class=\"edge\"><title>ss_mean&#45;&gt;d</title>\n",
       "<path fill=\"none\" stroke=\"black\" d=\"M59.6447,-75.8732C64.9305,-65.1183 70.5825,-53.6181 75.4111,-43.7932\"/>\n",
       "<polygon fill=\"black\" stroke=\"black\" points=\"78.6515,-45.135 79.9212,-34.6165 72.3692,-42.0474 78.6515,-45.135\"/>\n",
       "</g>\n",
       "<!-- ss_var&#45;&gt;d -->\n",
       "<g id=\"edge5\" class=\"edge\"><title>ss_var&#45;&gt;d</title>\n",
       "<path fill=\"none\" stroke=\"black\" d=\"M120.111,-83.7506C113.641,-70.8663 106.097,-55.8421 99.9048,-43.5113\"/>\n",
       "<polygon fill=\"black\" stroke=\"black\" points=\"102.891,-41.6578 95.2752,-34.2919 96.635,-44.7991 102.891,-41.6578\"/>\n",
       "</g>\n",
       "</g>\n",
       "</svg>\n"
      ],
      "text/plain": [
       "<graphviz.dot.Digraph at 0x7fc9ca04a908>"
      ]
     },
     "execution_count": 6,
     "metadata": {},
     "output_type": "execute_result"
    }
   ],
   "source": [
    "elfi.draw(m_1d['d'])"
   ]
  },
  {
   "cell_type": "code",
   "execution_count": 7,
   "metadata": {},
   "outputs": [],
   "source": [
    "rej_1d = elfi.Rejection(m_1d['d'], batch_size=N, seed=seed)"
   ]
  },
  {
   "cell_type": "code",
   "execution_count": 8,
   "metadata": {},
   "outputs": [],
   "source": [
    "result_1d = rej_1d.sample(N)"
   ]
  },
  {
   "cell_type": "code",
   "execution_count": 9,
   "metadata": {},
   "outputs": [
    {
     "data": {
      "text/plain": [
       "array([<matplotlib.axes._subplots.AxesSubplot object at 0x7fc9c6400ba8>],\n",
       "      dtype=object)"
      ]
     },
     "execution_count": 9,
     "metadata": {},
     "output_type": "execute_result"
    },
    {
     "data": {
      "image/png": "[encoded data removed]",
      "text/plain": [
       "<Figure size 1152x288 with 1 Axes>"
      ]
     },
     "metadata": {},
     "output_type": "display_data"
    }
   ],
   "source": [
    "result_1d.plot_marginals()"
   ]
  },
  {
   "cell_type": "code",
   "execution_count": 10,
   "metadata": {},
   "outputs": [
    {
     "ename": "IndexError",
     "evalue": "too many indices for array",
     "output_type": "error",
     "traceback": [
      "\u001b[0;31m---------------------------------------------------------------------------\u001b[0m",
      "\u001b[0;31mIndexError\u001b[0m                                Traceback (most recent call last)",
      "\u001b[0;32m<ipython-input-10-0932ed00db77>\u001b[0m in \u001b[0;36m<module>\u001b[0;34m()\u001b[0m\n\u001b[0;32m----> 1\u001b[0;31m \u001b[0mresult_1d\u001b[0m\u001b[0;34m.\u001b[0m\u001b[0mplot_pairs\u001b[0m\u001b[0;34m(\u001b[0m\u001b[0;34m)\u001b[0m\u001b[0;34m\u001b[0m\u001b[0m\n\u001b[0m",
      "\u001b[0;32m/m/home/home2/27/musaevm1/unix/Documents/RA/elfi/elfi/methods/results.py\u001b[0m in \u001b[0;36mplot_pairs\u001b[0;34m(self, selector, bins, axes, **kwargs)\u001b[0m\n\u001b[1;32m    229\u001b[0m \u001b[0;34m\u001b[0m\u001b[0m\n\u001b[1;32m    230\u001b[0m         \"\"\"\n\u001b[0;32m--> 231\u001b[0;31m         \u001b[0;32mreturn\u001b[0m \u001b[0mvis\u001b[0m\u001b[0;34m.\u001b[0m\u001b[0mplot_pairs\u001b[0m\u001b[0;34m(\u001b[0m\u001b[0mself\u001b[0m\u001b[0;34m.\u001b[0m\u001b[0msamples\u001b[0m\u001b[0;34m,\u001b[0m \u001b[0mselector\u001b[0m\u001b[0;34m,\u001b[0m \u001b[0mbins\u001b[0m\u001b[0;34m,\u001b[0m \u001b[0maxes\u001b[0m\u001b[0;34m,\u001b[0m \u001b[0;34m**\u001b[0m\u001b[0mkwargs\u001b[0m\u001b[0;34m)\u001b[0m\u001b[0;34m\u001b[0m\u001b[0m\n\u001b[0m\u001b[1;32m    232\u001b[0m \u001b[0;34m\u001b[0m\u001b[0m\n\u001b[1;32m    233\u001b[0m \u001b[0;34m\u001b[0m\u001b[0m\n",
      "\u001b[0;32m/m/home/home2/27/musaevm1/unix/Documents/RA/elfi/elfi/visualization/visualization.py\u001b[0m in \u001b[0;36mplot_pairs\u001b[0;34m(samples, selector, bins, axes, **kwargs)\u001b[0m\n\u001b[1;32m    196\u001b[0m                 hist = (hist - hist.min()) * (max_samples - min_samples) / (\n\u001b[1;32m    197\u001b[0m                     hist.max() - hist.min())\n\u001b[0;32m--> 198\u001b[0;31m                 \u001b[0maxes\u001b[0m\u001b[0;34m[\u001b[0m\u001b[0mi1\u001b[0m\u001b[0;34m,\u001b[0m \u001b[0mi2\u001b[0m\u001b[0;34m]\u001b[0m\u001b[0;34m.\u001b[0m\u001b[0mbar\u001b[0m\u001b[0;34m(\u001b[0m\u001b[0mbin_edges\u001b[0m\u001b[0;34m[\u001b[0m\u001b[0;34m:\u001b[0m\u001b[0;34m-\u001b[0m\u001b[0;36m1\u001b[0m\u001b[0;34m]\u001b[0m\u001b[0;34m,\u001b[0m \u001b[0mhist\u001b[0m\u001b[0;34m,\u001b[0m \u001b[0mbar_width\u001b[0m\u001b[0;34m,\u001b[0m \u001b[0mbottom\u001b[0m\u001b[0;34m=\u001b[0m\u001b[0mmin_samples\u001b[0m\u001b[0;34m,\u001b[0m \u001b[0;34m**\u001b[0m\u001b[0mkwargs\u001b[0m\u001b[0;34m)\u001b[0m\u001b[0;34m\u001b[0m\u001b[0m\n\u001b[0m\u001b[1;32m    199\u001b[0m             \u001b[0;32melse\u001b[0m\u001b[0;34m:\u001b[0m\u001b[0;34m\u001b[0m\u001b[0m\n\u001b[1;32m    200\u001b[0m                 axes[i1, i2].scatter(\n",
      "\u001b[0;31mIndexError\u001b[0m: too many indices for array"
     ]
    },
    {
     "data": {
      "image/png": "[encoded data removed]",
      "text/plain": [
       "<Figure size 1152x288 with 1 Axes>"
      ]
     },
     "metadata": {},
     "output_type": "display_data"
    }
   ],
   "source": [
    "result_1d.plot_pairs()"
   ]
  },
  {
   "cell_type": "markdown",
   "metadata": {},
   "source": [
    "### Plotting 2-D Gaussian model"
   ]
  },
  {
   "cell_type": "code",
   "execution_count": 11,
   "metadata": {},
   "outputs": [],
   "source": [
    "true_mu_2d = [2, 3]\n",
    "cov_matrix_2d = [3, 4]"
   ]
  },
  {
   "cell_type": "code",
   "execution_count": 12,
   "metadata": {},
   "outputs": [
    {
     "name": "stdout",
     "output_type": "stream",
     "text": [
      "This is observations\n",
      "[[[ 2.28  4.75]\n",
      "  [ 0.71  4.3 ]\n",
      "  [ 1.64  3.84]\n",
      "  [ 2.42 -0.25]\n",
      "  [-0.29  2.14]\n",
      "  [-2.02  2.7 ]\n",
      "  [ 1.91  6.06]\n",
      "  [ 2.3  -0.01]\n",
      "  [ 1.47  4.59]\n",
      "  [-0.51  1.82]\n",
      "  [-0.95  3.2 ]\n",
      "  [-1.34  5.9 ]\n",
      "  [ 1.95  3.36]\n",
      "  [ 2.98  2.95]\n",
      "  [ 3.52  2.28]\n",
      "  [-0.49  3.77]\n",
      "  [ 2.52  0.92]\n",
      "  [ 4.81  5.45]\n",
      "  [ 1.78  6.95]\n",
      "  [ 1.32  3.45]\n",
      "  [ 2.35 -0.47]\n",
      "  [ 3.91  2.24]\n",
      "  [ 2.28  3.08]\n",
      "  [ 2.38  3.72]\n",
      "  [ 3.09  3.44]\n",
      "  [-0.78  3.48]\n",
      "  [ 1.67  4.54]\n",
      "  [ 2.82  2.69]\n",
      "  [ 2.29  2.07]\n",
      "  [-1.33  1.93]\n",
      "  [-0.39  2.74]\n",
      "  [ 0.16  4.19]\n",
      "  [ 2.43  3.67]\n",
      "  [ 2.8   2.5 ]\n",
      "  [ 3.63  3.54]\n",
      "  [ 2.91  3.24]\n",
      "  [-2.77  4.65]\n",
      "  [ 2.82  2.98]\n",
      "  [ 1.65  9.75]\n",
      "  [ 4.07  0.74]\n",
      "  [ 1.16  3.06]\n",
      "  [ 2.34  3.3 ]\n",
      "  [ 2.5   3.42]\n",
      "  [ 3.97  3.5 ]\n",
      "  [ 1.72  4.36]\n",
      "  [ 4.51  3.93]\n",
      "  [ 2.34  5.43]\n",
      "  [ 0.85  6.55]\n",
      "  [ 2.52 -1.21]\n",
      "  [ 3.18  2.69]]]\n",
      "\n",
      "\n"
     ]
    }
   ],
   "source": [
    "m_2d = get_model(true_params=true_mu_2d, nd_mean=True, cov_matrix=cov_matrix_2d, seed_obs=seed)"
   ]
  },
  {
   "cell_type": "code",
   "execution_count": 13,
   "metadata": {},
   "outputs": [
    {
     "data": {
      "image/svg+xml": [
       "<?xml version=\"1.0\" encoding=\"UTF-8\" standalone=\"no\"?>\n",
       "<!DOCTYPE svg PUBLIC \"-//W3C//DTD SVG 1.1//EN\"\n",
       " \"http://www.w3.org/Graphics/SVG/1.1/DTD/svg11.dtd\">\n",
       "<!-- Generated by graphviz version 2.38.0 (20140413.2041)\n",
       " -->\n",
       "<!-- Title: %3 Pages: 1 -->\n",
       "<svg width=\"176pt\" height=\"359pt\"\n",
       " viewBox=\"0.00 0.00 175.74 358.68\" xmlns=\"http://www.w3.org/2000/svg\" xmlns:xlink=\"http://www.w3.org/1999/xlink\">\n",
       "<g id=\"graph0\" class=\"graph\" transform=\"scale(1 1) rotate(0) translate(4 354.682)\">\n",
       "<title>%3</title>\n",
       "<polygon fill=\"white\" stroke=\"none\" points=\"-4,4 -4,-354.682 171.743,-354.682 171.743,4 -4,4\"/>\n",
       "<!-- mu_0 -->\n",
       "<g id=\"node1\" class=\"node\"><title>mu_0</title>\n",
       "<ellipse fill=\"none\" stroke=\"black\" cx=\"47.5963\" cy=\"-319.484\" rx=\"31.3957\" ry=\"31.3957\"/>\n",
       "<text text-anchor=\"middle\" x=\"47.5963\" y=\"-315.784\" font-family=\"Times,serif\" font-size=\"14.00\">mu_0</text>\n",
       "</g>\n",
       "<!-- gauss -->\n",
       "<g id=\"node3\" class=\"node\"><title>gauss</title>\n",
       "<ellipse fill=\"#cccccc\" stroke=\"black\" cx=\"87.5963\" cy=\"-221.74\" rx=\"30.5947\" ry=\"30.5947\"/>\n",
       "<text text-anchor=\"middle\" x=\"87.5963\" y=\"-218.04\" font-family=\"Times,serif\" font-size=\"14.00\">gauss</text>\n",
       "</g>\n",
       "<!-- mu_0&#45;&gt;gauss -->\n",
       "<g id=\"edge1\" class=\"edge\"><title>mu_0&#45;&gt;gauss</title>\n",
       "<path fill=\"none\" stroke=\"black\" d=\"M59.2735,-290.534C63.2927,-280.913 67.8578,-269.986 72.1312,-259.757\"/>\n",
       "<polygon fill=\"black\" stroke=\"black\" points=\"75.4863,-260.806 76.1117,-250.23 69.0273,-258.107 75.4863,-260.806\"/>\n",
       "</g>\n",
       "<!-- mu_1 -->\n",
       "<g id=\"node2\" class=\"node\"><title>mu_1</title>\n",
       "<ellipse fill=\"none\" stroke=\"black\" cx=\"127.596\" cy=\"-319.484\" rx=\"31.3957\" ry=\"31.3957\"/>\n",
       "<text text-anchor=\"middle\" x=\"127.596\" y=\"-315.784\" font-family=\"Times,serif\" font-size=\"14.00\">mu_1</text>\n",
       "</g>\n",
       "<!-- mu_1&#45;&gt;gauss -->\n",
       "<g id=\"edge2\" class=\"edge\"><title>mu_1&#45;&gt;gauss</title>\n",
       "<path fill=\"none\" stroke=\"black\" d=\"M115.919,-290.534C111.9,-280.913 107.335,-269.986 103.061,-259.757\"/>\n",
       "<polygon fill=\"black\" stroke=\"black\" points=\"106.165,-258.107 99.0809,-250.23 99.7063,-260.806 106.165,-258.107\"/>\n",
       "</g>\n",
       "<!-- ss_mean -->\n",
       "<g id=\"node4\" class=\"node\"><title>ss_mean</title>\n",
       "<ellipse fill=\"#cccccc\" stroke=\"black\" cx=\"41.5963\" cy=\"-113.596\" rx=\"41.6928\" ry=\"41.6928\"/>\n",
       "<text text-anchor=\"middle\" x=\"41.5963\" y=\"-109.896\" font-family=\"Times,serif\" font-size=\"14.00\">ss_mean</text>\n",
       "</g>\n",
       "<!-- gauss&#45;&gt;ss_mean -->\n",
       "<g id=\"edge3\" class=\"edge\"><title>gauss&#45;&gt;ss_mean</title>\n",
       "<path fill=\"none\" stroke=\"black\" d=\"M75.7502,-193.405C71.55,-183.714 66.6951,-172.511 61.9878,-161.649\"/>\n",
       "<polygon fill=\"black\" stroke=\"black\" points=\"65.0971,-160.022 57.9093,-152.238 58.6743,-162.805 65.0971,-160.022\"/>\n",
       "</g>\n",
       "<!-- ss_var -->\n",
       "<g id=\"node5\" class=\"node\"><title>ss_var</title>\n",
       "<ellipse fill=\"#cccccc\" stroke=\"black\" cx=\"134.596\" cy=\"-113.596\" rx=\"33.2948\" ry=\"33.2948\"/>\n",
       "<text text-anchor=\"middle\" x=\"134.596\" y=\"-109.896\" font-family=\"Times,serif\" font-size=\"14.00\">ss_var</text>\n",
       "</g>\n",
       "<!-- gauss&#45;&gt;ss_var -->\n",
       "<g id=\"edge4\" class=\"edge\"><title>gauss&#45;&gt;ss_var</title>\n",
       "<path fill=\"none\" stroke=\"black\" d=\"M99.7,-193.405C105.084,-181.246 111.521,-166.709 117.392,-153.449\"/>\n",
       "<polygon fill=\"black\" stroke=\"black\" points=\"120.696,-154.634 121.544,-144.073 114.295,-151.8 120.696,-154.634\"/>\n",
       "</g>\n",
       "<!-- d -->\n",
       "<g id=\"node6\" class=\"node\"><title>d</title>\n",
       "<ellipse fill=\"none\" stroke=\"black\" cx=\"87.5963\" cy=\"-18\" rx=\"18\" ry=\"18\"/>\n",
       "<text text-anchor=\"middle\" x=\"87.5963\" y=\"-14.3\" font-family=\"Times,serif\" font-size=\"14.00\">d</text>\n",
       "</g>\n",
       "<!-- ss_mean&#45;&gt;d -->\n",
       "<g id=\"edge5\" class=\"edge\"><title>ss_mean&#45;&gt;d</title>\n",
       "<path fill=\"none\" stroke=\"black\" d=\"M59.6447,-75.8732C64.9305,-65.1183 70.5825,-53.6181 75.4111,-43.7932\"/>\n",
       "<polygon fill=\"black\" stroke=\"black\" points=\"78.6515,-45.135 79.9212,-34.6165 72.3692,-42.0474 78.6515,-45.135\"/>\n",
       "</g>\n",
       "<!-- ss_var&#45;&gt;d -->\n",
       "<g id=\"edge6\" class=\"edge\"><title>ss_var&#45;&gt;d</title>\n",
       "<path fill=\"none\" stroke=\"black\" d=\"M120.111,-83.7506C113.641,-70.8663 106.097,-55.8421 99.9048,-43.5113\"/>\n",
       "<polygon fill=\"black\" stroke=\"black\" points=\"102.891,-41.6578 95.2752,-34.2919 96.635,-44.7991 102.891,-41.6578\"/>\n",
       "</g>\n",
       "</g>\n",
       "</svg>\n"
      ],
      "text/plain": [
       "<graphviz.dot.Digraph at 0x7fc9e8770f98>"
      ]
     },
     "execution_count": 13,
     "metadata": {},
     "output_type": "execute_result"
    }
   ],
   "source": [
    "elfi.draw(m_2d['d'])"
   ]
  },
  {
   "cell_type": "code",
   "execution_count": 14,
   "metadata": {},
   "outputs": [],
   "source": [
    "rej_2d = elfi.Rejection(m_2d['d'], batch_size=N, seed=seed)"
   ]
  },
  {
   "cell_type": "code",
   "execution_count": 15,
   "metadata": {},
   "outputs": [],
   "source": [
    "result_2d = rej_2d.sample(N)"
   ]
  },
  {
   "cell_type": "code",
   "execution_count": 16,
   "metadata": {},
   "outputs": [
    {
     "data": {
      "text/plain": [
       "array([<matplotlib.axes._subplots.AxesSubplot object at 0x7fc9e85a41d0>,\n",
       "       <matplotlib.axes._subplots.AxesSubplot object at 0x7fc9e871bdd8>],\n",
       "      dtype=object)"
      ]
     },
     "execution_count": 16,
     "metadata": {},
     "output_type": "execute_result"
    },
    {
     "data": {
      "image/png": "[encoded data removed]",
      "text/plain": [
       "<Figure size 1152x288 with 2 Axes>"
      ]
     },
     "metadata": {},
     "output_type": "display_data"
    }
   ],
   "source": [
    "result_2d.plot_marginals()"
   ]
  },
  {
   "cell_type": "code",
   "execution_count": null,
   "metadata": {},
   "outputs": [],
   "source": [
    "result_2d.plot_pairs()"
   ]
  },
  {
   "cell_type": "markdown",
   "metadata": {},
   "source": [
    "### Plotting 3-D Gaussian model"
   ]
  },
  {
   "cell_type": "code",
   "execution_count": null,
   "metadata": {},
   "outputs": [],
   "source": [
    "true_mu_3d = [2, 5, 6]\n",
    "cov_matrix_3d = [3, 4, 7]"
   ]
  },
  {
   "cell_type": "code",
   "execution_count": null,
   "metadata": {},
   "outputs": [],
   "source": [
    "m_3d = get_model(true_params=true_mu_3d, nd_mean=True, cov_matrix=cov_matrix_3d, seed_obs=seed)"
   ]
  },
  {
   "cell_type": "code",
   "execution_count": null,
   "metadata": {},
   "outputs": [],
   "source": [
    "elfi.draw(m_3d['d'])"
   ]
  },
  {
   "cell_type": "code",
   "execution_count": null,
   "metadata": {},
   "outputs": [],
   "source": [
    "rej_3d = elfi.Rejection(m_3d['d'], batch_size=N, seed=seed)"
   ]
  },
  {
   "cell_type": "code",
   "execution_count": null,
   "metadata": {},
   "outputs": [],
   "source": [
    "result_3d = rej_3d.sample(N)"
   ]
  },
  {
   "cell_type": "code",
   "execution_count": null,
   "metadata": {},
   "outputs": [],
   "source": [
    "result_3d.plot_marginals()"
   ]
  },
  {
   "cell_type": "code",
   "execution_count": null,
   "metadata": {},
   "outputs": [],
   "source": [
    "result_3d.plot_pairs()"
   ]
  },
  {
   "cell_type": "markdown",
   "metadata": {},
   "source": [
    "### Plotting 4-D Gaussian model"
   ]
  },
  {
   "cell_type": "code",
   "execution_count": null,
   "metadata": {},
   "outputs": [],
   "source": [
    "true_mu_4d = [2, 4, 6, 8]\n",
    "cov_matrix_4d = [1,3,5,7]"
   ]
  },
  {
   "cell_type": "code",
   "execution_count": null,
   "metadata": {},
   "outputs": [],
   "source": [
    "m_4d = get_model(true_params=true_mu_4d, nd_mean=True, cov_matrix=cov_matrix_4d, seed_obs=seed)"
   ]
  },
  {
   "cell_type": "code",
   "execution_count": null,
   "metadata": {},
   "outputs": [],
   "source": [
    "elfi.draw(m_4d['d'])"
   ]
  },
  {
   "cell_type": "code",
   "execution_count": null,
   "metadata": {},
   "outputs": [],
   "source": [
    "rej_4d = elfi.Rejection(m_4d['d'], batch_size=N, seed=seed)"
   ]
  },
  {
   "cell_type": "code",
   "execution_count": null,
   "metadata": {},
   "outputs": [],
   "source": [
    "result_4d = rej_4d.sample(N)"
   ]
  },
  {
   "cell_type": "code",
   "execution_count": null,
   "metadata": {},
   "outputs": [],
   "source": [
    "result_4d.plot_marginals()"
   ]
  },
  {
   "cell_type": "code",
   "execution_count": null,
   "metadata": {},
   "outputs": [],
   "source": [
    "result_4d.plot_pairs()"
   ]
  }
 ],
 "metadata": {
  "kernelspec": {
   "display_name": "Python (elfi_test)",
   "language": "python",
   "name": "elfi_test"
  },
  "language_info": {
   "codemirror_mode": {
    "name": "ipython",
    "version": 3
   },
   "file_extension": ".py",
   "mimetype": "text/x-python",
   "name": "python",
   "nbconvert_exporter": "python",
   "pygments_lexer": "ipython3",
   "version": "3.6.5"
  }
 },
 "nbformat": 4,
 "nbformat_minor": 2
}

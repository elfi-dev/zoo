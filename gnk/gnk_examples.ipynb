{
 "cells": [
  {
   "cell_type": "markdown",
   "metadata": {
    "collapsed": false
   },
   "source": [
    "## G-and-k distribution example models"
   ]
  },
  {
   "cell_type": "markdown",
   "metadata": {},
   "source": [
    "We provide a code-base to display the inference of the g-and-k distribution example models implemented in ELFI; for these models, we use the summary statistics provided in [1]. The notebook is organised as follows:\n",
    "1. The inference of the univariate g-and-k distribution example model;\n",
    "2. The inference of the bivariate g-and-k distribution example model.\n",
    "\n",
    "[1] Drovandi, Christopher C., and Anthony N. Pettitt. \"Likelihood-free\n",
    "    Bayesian estimation of multivariate quantile distributions.\"\n",
    "    Computational Statistics & Data Analysis 55.9 (2011): 2541-2556."
   ]
  },
  {
   "cell_type": "code",
   "execution_count": 1,
   "metadata": {
    "collapsed": false
   },
   "outputs": [],
   "source": [
    "%load_ext autoreload\n",
    "%autoreload 2\n",
    "\n",
    "# Logging settings\n",
    "# import logging\n",
    "# logging.basicConfig(level=logging.INFO)\n",
    "\n",
    "import numpy as np\n",
    "\n",
    "import elfi\n",
    "\n",
    "seed = 20170619"
   ]
  },
  {
   "cell_type": "markdown",
   "metadata": {},
   "source": [
    "### 1. The inference of the univariate g-and-k distribution example model"
   ]
  },
  {
   "cell_type": "code",
   "execution_count": 2,
   "metadata": {
    "collapsed": false
   },
   "outputs": [
    {
     "name": "stderr",
     "output_type": "stream",
     "text": [
      " /Applications/anaconda3/lib/python3.6/site-packages/paramz/transformations.py:109: RuntimeWarning:overflow encountered in expm1\n"
     ]
    },
    {
     "name": "stdout",
     "output_type": "stream",
     "text": [
      "CPU times: user 6.25 s, sys: 223 ms, total: 6.48 s\n",
      "Wall time: 6.99 s\n"
     ]
    },
    {
     "data": {
      "text/plain": [
       "<elfi.methods.posteriors.BolfiPosterior at 0x111d8a198>"
      ]
     },
     "execution_count": 2,
     "metadata": {},
     "output_type": "execute_result"
    }
   ],
   "source": [
    "from elfi.examples import gnk\n",
    "\n",
    "true_params = [3, 1, 2, .5]\n",
    "stats_summary = ['ss_robust']\n",
    "\n",
    "model_gnk = gnk.get_model(true_params=true_params, n_obs=200, stats_summary=stats_summary, seed_obs=seed)\n",
    "model_gnk_log = elfi.Operation(np.log, model_gnk['d'])\n",
    "bolfi_gnk = elfi.BOLFI(model_gnk_log, batch_size=5, initial_evidence=20, update_interval=5, \n",
    "                   bounds={'a' : (0, 10), \n",
    "                           'b' : (0, 10), \n",
    "                           'g' : (0, 10), \n",
    "                           'k' : (0, 10)})\n",
    "%time bolfi_gnk.fit(n_evidence=200)"
   ]
  },
  {
   "cell_type": "code",
   "execution_count": 3,
   "metadata": {
    "collapsed": false
   },
   "outputs": [
    {
     "name": "stdout",
     "output_type": "stream",
     "text": [
      "CPU times: user 4min 38s, sys: 42.6 s, total: 5min 21s\n",
      "Wall time: 4min 10s\n"
     ]
    },
    {
     "data": {
      "text/plain": [
       "Method: BOLFI\n",
       "Number of samples: 400\n",
       "Number of simulations: 200\n",
       "Threshold: 0.000283\n",
       "Sample means: a: 2.35, b: 3.42, g: 4.35, k: 4.97"
      ]
     },
     "execution_count": 3,
     "metadata": {},
     "output_type": "execute_result"
    }
   ],
   "source": [
    "%time bolfi_gnk.sample(200, target_prob=0.9)"
   ]
  },
  {
   "cell_type": "markdown",
   "metadata": {},
   "source": [
    "### 2. The inference of the bivariate g-and-k distribution example model"
   ]
  },
  {
   "cell_type": "code",
   "execution_count": 4,
   "metadata": {
    "collapsed": false
   },
   "outputs": [
    {
     "name": "stdout",
     "output_type": "stream",
     "text": [
      "CPU times: user 49.9 s, sys: 10.7 s, total: 1min\n",
      "Wall time: 52.6 s\n"
     ]
    },
    {
     "data": {
      "text/plain": [
       "<elfi.methods.posteriors.BolfiPosterior at 0x111d91ba8>"
      ]
     },
     "execution_count": 4,
     "metadata": {},
     "output_type": "execute_result"
    }
   ],
   "source": [
    "from elfi.examples import bignk\n",
    "\n",
    "true_params = [3, 4, 1, 0.5, 1, 2, .5, .4, .6]\n",
    "stats_summary = ['ss_robust']\n",
    "\n",
    "model_bignk = bignk.get_model(true_params=true_params, n_obs=200, stats_summary=stats_summary, seed_obs=seed)\n",
    "model_bignk_log = elfi.Operation(np.log, model_bignk['d'])\n",
    "EPS = np.finfo(float).eps # Used to avoid invalid covariance matrix conditions.\n",
    "bolfi_bignk = elfi.BOLFI(model_bignk_log, batch_size=25, initial_evidence=550, update_interval=25, \n",
    "                   bounds={'a1' : (0, 5), \n",
    "                           'a2' : (0, 5), \n",
    "                           'b1' : (0, 5), \n",
    "                           'b2' : (0, 5), \n",
    "                           'g1' : (-5, 5), \n",
    "                           'g2' : (-5, 5), \n",
    "                           'k1' : (-.5, 5), \n",
    "                           'k2' : (-.5, 5), \n",
    "                           'rho' : (-1 + EPS, 1 - EPS)\n",
    "                          })\n",
    "%time bolfi_bignk.fit(n_evidence=800)"
   ]
  },
  {
   "cell_type": "code",
   "execution_count": 5,
   "metadata": {
    "collapsed": false
   },
   "outputs": [
    {
     "name": "stdout",
     "output_type": "stream",
     "text": [
      "CPU times: user 59min 3s, sys: 3min 38s, total: 1h 2min 41s\n",
      "Wall time: 27min 33s\n"
     ]
    },
    {
     "data": {
      "text/plain": [
       "Method: BOLFI\n",
       "Number of samples: 400\n",
       "Number of simulations: 800\n",
       "Threshold: 0.213\n",
       "Sample means: a1: 3.19, a2: 2.3, b1: 1.91, b2: 0.34, g1: -1.91, g2: 3.57, k1: -0.179, k2: 0.402, rho: -0.114"
      ]
     },
     "execution_count": 5,
     "metadata": {},
     "output_type": "execute_result"
    }
   ],
   "source": [
    "%time bolfi_bignk.sample(200, target_prob=0.9)"
   ]
  },
  {
   "cell_type": "code",
   "execution_count": null,
   "metadata": {
    "collapsed": true
   },
   "outputs": [],
   "source": []
  }
 ],
 "metadata": {
  "kernelspec": {
   "display_name": "elfi",
   "language": "python",
   "name": "elfi"
  },
  "language_info": {
   "codemirror_mode": {
    "name": "ipython",
    "version": 3
   },
   "file_extension": ".py",
   "mimetype": "text/x-python",
   "name": "python",
   "nbconvert_exporter": "python",
   "pygments_lexer": "ipython3",
   "version": "3.6.2"
  }
 },
 "nbformat": 4,
 "nbformat_minor": 2
}

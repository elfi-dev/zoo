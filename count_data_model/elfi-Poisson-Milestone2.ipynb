{
 "cells": [
  {
   "cell_type": "markdown",
   "metadata": {},
   "source": [
    "## ELFI Notebook for modelling time series count data\n",
    "\n",
    "This notebook has been knowingly written to be as descriptive and self-containing as possible. This notebook is written in a story format. First we get some baseline results to see how ELFI works and then try to work it out on a real world dataset.\n",
    "\n",
    "\n",
    "This is a notebook where I try out a few different things. To summarise I have tried to:\n",
    "\n",
    "1. See how basic ELFI can be used for modelling highly non linear temporal count data(Ricker stochastic).\n",
    "2. Add more summary measures in order to reduce the variance of the samples from the original example.\n",
    "3. Try out both rejection sampling and SMC on this data.\n",
    "4. Implement the DTW(Dynamic Time Warping) algorithm which can be used for comparing unequal time series.\n",
    "5. Model a data downloaded from the internet(Geyer data) count data on visits to a shop over 24 hours.\n",
    "6. Use a simple linear Gaussian model for the data generating process\n",
    "7. Carry out likelihood free inference by both SMC and Rejection sampling.\n",
    "8. Carry out some diagnostics to see how variables are stored under the hood and how to use diagnostics to identify the most relevant summary statistics based on minimising the entropy approach."
   ]
  },
  {
   "cell_type": "markdown",
   "metadata": {},
   "source": [
    "#### Count Data and Poisson Distribution "
   ]
  },
  {
   "cell_type": "markdown",
   "metadata": {},
   "source": [
    "Our case study is on count data. Count data is encountered rather frequently in day-day scenarios. Poisson distribution is one such distribution which can be used to model it. \n",
    "@TODO: Write more about Poisson distribution and its important properties."
   ]
  },
  {
   "cell_type": "code",
   "execution_count": 1,
   "metadata": {
    "collapsed": true
   },
   "outputs": [],
   "source": [
    "import numpy as np\n",
    "import sklearn\n",
    "import matplotlib\n",
    "import matplotlib.pyplot as plt\n",
    "import scipy\n",
    "import scipy.stats as stats"
   ]
  },
  {
   "cell_type": "code",
   "execution_count": 2,
   "metadata": {
    "collapsed": false
   },
   "outputs": [],
   "source": [
    "import GPy\n",
    "import logging\n",
    "import wget\n",
    "import elfi\n",
    "import pandas\n",
    "import copy"
   ]
  },
  {
   "cell_type": "code",
   "execution_count": 3,
   "metadata": {
    "collapsed": false
   },
   "outputs": [],
   "source": [
    "from collections import OrderedDict, Counter, defaultdict\n",
    "from functools import partial\n",
    "from nltk.metrics.distance import edit_distance\n",
    "from scipy.stats import skew, kurtosis"
   ]
  },
  {
   "cell_type": "code",
   "execution_count": 90,
   "metadata": {
    "collapsed": true
   },
   "outputs": [],
   "source": [
    "from sklearn.metrics.pairwise import euclidean_distances, paired_euclidean_distances\n",
    "from elfi.methods.diagnostics import TwoStageSelection"
   ]
  },
  {
   "cell_type": "code",
   "execution_count": 91,
   "metadata": {
    "collapsed": true
   },
   "outputs": [],
   "source": [
    "import seaborn as sns\n",
    "sns.set(color_codes=True)"
   ]
  },
  {
   "cell_type": "code",
   "execution_count": 93,
   "metadata": {
    "collapsed": true
   },
   "outputs": [],
   "source": [
    "seed = 12345"
   ]
  },
  {
   "cell_type": "markdown",
   "metadata": {},
   "source": [
    "Always good to check the versions for debugging purposes "
   ]
  },
  {
   "cell_type": "code",
   "execution_count": 166,
   "metadata": {
    "collapsed": false
   },
   "outputs": [
    {
     "name": "stdout",
     "output_type": "stream",
     "text": [
      "1.13.1\n",
      "0.19.1\n"
     ]
    }
   ],
   "source": [
    "print(np.__version__)\n",
    "print(scipy.__version__)"
   ]
  },
  {
   "cell_type": "markdown",
   "metadata": {},
   "source": [
    "#### Data Collection\n",
    "Simple data collection from a url, just to illustrate how to do it properly and formatting the raw data to something usable.\n",
    "Credits to http://www.stat.umn.edu/geyer/5102/data/ex6-4.txt\n",
    "\n",
    "Geyer data is about the number of visitors to a shop open for 24 hours. The data was collected for a duration of 14 days, amounting to a total of 336 hours. Therefore there is an inherent daily periodicity associated with the data. For our modelling exercise, we can just sum up the counts for each hour for all the days. It is also possible to model each day seperately, but the summing operation does a smoothing effect, as can be observed from the plots below. "
   ]
  },
  {
   "cell_type": "code",
   "execution_count": 8,
   "metadata": {
    "collapsed": true
   },
   "outputs": [],
   "source": [
    "N_hours= 24\n",
    "N_days = 14"
   ]
  },
  {
   "cell_type": "code",
   "execution_count": 9,
   "metadata": {
    "collapsed": false
   },
   "outputs": [
    {
     "name": "stdout",
     "output_type": "stream",
     "text": [
      "(336, 2)\n"
     ]
    }
   ],
   "source": [
    "url = \"http://www.stat.umn.edu/geyer/5102/data/ex6-4.txt\"\n",
    "file_txt = wget.download(url)\n",
    "raw_data = np.loadtxt(fname=file_txt, dtype=np.int32, skiprows=1)\n",
    "print(raw_data.shape)"
   ]
  },
  {
   "cell_type": "code",
   "execution_count": 10,
   "metadata": {
    "collapsed": false
   },
   "outputs": [
    {
     "name": "stdout",
     "output_type": "stream",
     "text": [
      "[1 2 3 4 5]\n"
     ]
    }
   ],
   "source": [
    "data_dict = {}\n",
    "hours = raw_data[:,0]\n",
    "count = raw_data[:,1]\n",
    "data_dict['hour'] = hours\n",
    "data_dict['count'] = count\n",
    "print(data_dict['hour'][:5])"
   ]
  },
  {
   "cell_type": "code",
   "execution_count": 11,
   "metadata": {
    "collapsed": false
   },
   "outputs": [],
   "source": [
    "hours_day = data_dict['hour'] \n",
    "hours = np.arange(N_hours)\n",
    "hours_day = (data_dict['hour'] -1) % N_hours +1\n",
    "data_dict['daily_hours'] = hours_day"
   ]
  },
  {
   "cell_type": "code",
   "execution_count": 12,
   "metadata": {
    "collapsed": false
   },
   "outputs": [],
   "source": [
    "counts_cum = np.empty(N_hours)\n",
    "for i, ind in enumerate(hours_day):\n",
    "    inds = np.arange(N_days)*N_hours + (ind-1)\n",
    "    counts_cum[ind-1] = np.sum(count[inds])"
   ]
  },
  {
   "cell_type": "code",
   "execution_count": 13,
   "metadata": {
    "collapsed": true
   },
   "outputs": [],
   "source": [
    "data_dict['hour_count'] = counts_cum\n",
    "Y_geyer = counts_cum\n",
    "Y_geyer_total = count"
   ]
  },
  {
   "cell_type": "markdown",
   "metadata": {},
   "source": [
    " Make sure  that the observations are in the right format, they should have just one row, since while computing summary statistics, the true observation row is vertically stacked with the simulated observations  which is equal to the number of batchsize."
   ]
  },
  {
   "cell_type": "code",
   "execution_count": 14,
   "metadata": {
    "collapsed": true
   },
   "outputs": [],
   "source": [
    "Y_geyer = Y_geyer.flatten().reshape(1,-1)\n",
    "Y_geyer_total = Y_geyer_total.flatten().reshape(1,-1)"
   ]
  },
  {
   "cell_type": "markdown",
   "metadata": {},
   "source": [
    "#### Plots for Geyer data"
   ]
  },
  {
   "cell_type": "code",
   "execution_count": 15,
   "metadata": {
    "collapsed": false
   },
   "outputs": [
    {
     "data": {
      "text/plain": [
       "[<matplotlib.lines.Line2D at 0x7f5094663be0>]"
      ]
     },
     "execution_count": 15,
     "metadata": {},
     "output_type": "execute_result"
    },
    {
     "data": {
      "image/png": "[encoded data removed]",
      "text/plain": [
       "<Figure size 792x432 with 2 Axes>"
      ]
     },
     "metadata": {},
     "output_type": "display_data"
    }
   ],
   "source": [
    "# Plot the observed sequence\n",
    "figsize=(11, 6)\n",
    "fig, (ax1, ax2) = plt.subplots(2,1, figsize=figsize)\n",
    "ax1.plot(Y_geyer.ravel())\n",
    "ax2.plot(Y_geyer_total.ravel())"
   ]
  },
  {
   "cell_type": "code",
   "execution_count": 16,
   "metadata": {
    "collapsed": false
   },
   "outputs": [],
   "source": [
    "# plotting functionality\n",
    "def plot_prior(Prior, *params, **kwargs):\n",
    "    distribution =  getattr(scipy.stats, Prior)\n",
    "    x = np.linspace(distribution.ppf(0.01, *params, **kwargs), distribution.ppf(0.99, *params), 500)\n",
    "    fig2, ax2 = plt.subplots(1, 1)\n",
    "    rvs_dist = distribution.rvs(*params, size=500)\n",
    "    ax2.plot(x, distribution.pdf(x, *params),'r-', lw=5, alpha=0.6, label=str(Prior+'-pdf'))\n",
    "    ax2.hist(rvs_dist, normed=True, histtype='stepfilled', alpha=0.2)\n",
    "    plt.legend(bbox_to_anchor=(1.05, 1), loc=2, borderaxespad=0.)"
   ]
  },
  {
   "cell_type": "markdown",
   "metadata": {},
   "source": [
    "#### Lets see how the plots for the priors of the parameters look !!"
   ]
  },
  {
   "cell_type": "code",
   "execution_count": 17,
   "metadata": {
    "collapsed": false
   },
   "outputs": [
    {
     "name": "stderr",
     "output_type": "stream",
     "text": [
      " /u/26/dhakaa1/unix/anaconda2/envs/py35-elfi/lib/python3.5/site-packages/matplotlib/axes/_axes.py:6448: UserWarning:The 'normed' kwarg is deprecated, and has been replaced by the 'density' kwarg.\n"
     ]
    },
    {
     "data": {
      "image/png": "[encoded data removed]",
      "text/plain": [
       "<Figure size 432x288 with 1 Axes>"
      ]
     },
     "metadata": {},
     "output_type": "display_data"
    },
    {
     "data": {
      "image/png": "[encoded data removed]",
      "text/plain": [
       "<Figure size 432x288 with 1 Axes>"
      ]
     },
     "metadata": {},
     "output_type": "display_data"
    },
    {
     "data": {
      "image/png": "[encoded data removed]",
      "text/plain": [
       "<Figure size 432x288 with 1 Axes>"
      ]
     },
     "metadata": {},
     "output_type": "display_data"
    }
   ],
   "source": [
    "plot_prior('uniform', 0,10)\n",
    "plot_prior('expon', np.e, 3)\n",
    "plot_prior('truncnorm', 0, 5)"
   ]
  },
  {
   "cell_type": "markdown",
   "metadata": {},
   "source": [
    "####  We will try to model this time series with the help of a poisson distribution. We can try to model this with a Ricker series "
   ]
  },
  {
   "cell_type": "markdown",
   "metadata": {},
   "source": [
    "Some basics about Poisson distribution"
   ]
  },
  {
   "cell_type": "markdown",
   "metadata": {},
   "source": [
    "Poisson distribution belongs to the exponential family. It gives a probability dostribution over real positive integers. The Poisson distribution belongs to the exponential family. The sum of random variables which have exponential distribution remain in the exponential family. The sum of Poisson random variables(rvs) is also a Poisson distributed random variable. \n",
    "It can be parameterised with the help of intesity($\\lambda$) value. \n",
    "The probability of observing $k$ events in an interval is given by:\n",
    "$P(X=k) = \\exp ^{-\\lambda} \\frac{\\lambda^k}{k!} $\n",
    "\n",
    "where $\\lambda$ is the average intensity of the events, and should be a positive real valued number.\n",
    "Poisson distribution just needs one sufficient statistic from the data i.e. $X$. \n",
    "The expected value(mean) and variance of a Poisson distributed rv is the same as its intensity rate.\n",
    "$E(X) = \\lambda $\n",
    "$Var(X) = \\lambda $\n",
    "\n",
    "while the mode(which can only be a positive integer) is:\n",
    "$\\lceil \\lambda \\rceil -1, \\lfloor \\lambda \\rfloor$"
   ]
  },
  {
   "cell_type": "markdown",
   "metadata": {},
   "source": [
    "#### RIcker's Model"
   ]
  },
  {
   "cell_type": "markdown",
   "metadata": {},
   "source": [
    "\n",
    "\n",
    "\n"
   ]
  },
  {
   "cell_type": "markdown",
   "metadata": {},
   "source": [
    "### Specify the model(Simulator) for generating synthetic obervations"
   ]
  },
  {
   "cell_type": "markdown",
   "metadata": {},
   "source": [
    "#### Summary Statistics\n",
    "\n",
    "\n",
    "\n",
    "For \"non-standard\" and \"application-specific\" statistics of the data, we define some additional statistics which can be used further. Some of these for instance could be:\n",
    "1. Number of zeros in a sequence\n",
    "2. Number of large numbers in a sequence\n",
    "3. Autocovariance: $\\sum_{i=2}^{n} \\frac{Y_{i}Y_{i-1}}{n}$\n",
    "\n",
    "\n",
    "These measures are a bit adhoc, in the sense that the user has to see the data to determine what statistics should be used. For example, if the data does not have any zeros at all, the first measure is not at all useful."
   ]
  },
  {
   "cell_type": "code",
   "execution_count": 18,
   "metadata": {
    "collapsed": false
   },
   "outputs": [],
   "source": [
    "class SummaryStatsEx(object):\n",
    "    def num_zeros(X):\n",
    "        val = np.sum(X==0, axis=1)\n",
    "        return val\n",
    "    \n",
    "    # rows correspond to the amount of batch_size if I am not wrong, and columns correspond to the simulated data..     \n",
    "    def num_large(X, val=100):\n",
    "        val = np.sum(X>100, axis=1)\n",
    "        return val\n",
    "    \n",
    "    def autocov(X, lag=1):\n",
    "        val = np.mean(X[:,lag:]*X[:,:-lag], axis=1)\n",
    "        return val\n",
    "    \n",
    "    def identity(X):\n",
    "        return X"
   ]
  },
  {
   "cell_type": "markdown",
   "metadata": {},
   "source": [
    "#### Distance \n",
    "\n",
    "This module will have all distance based measures for computing the distance(\"difference\") between observed data and simulated data. The measures are listed as:\n",
    "\n",
    "1. Root Mean Squared Error : $\\sqrt(\\sum_{i} (Y_i^s - Y_i^o)^2) $\n",
    "2. Chi-Squared Error: $\\sum_{i} (Y_i^s - Y_i^o)^2 / Y^o_i  $\n",
    "3. Mean absolute Error: $\\sum_{i} |(Y_i^s - Y_i^o)| $\n",
    "4. Normalised Mean absolute Error: $\\sum_{i} |(Y_i^s - Y_i^o)|/Y_i^o $\n",
    "\n",
    "The above measures only measure element wise difference without taking into account the temporal nature of the data.  The methods given below also take that into account. It could be a worthwhile exercise to compare these two different classes of distance measures.\n",
    "\n",
    "One such measure is DTW(Dynamic Time Warping).\n",
    "\n",
    "DTW finds the best match between any two sequences of symbols by finding a path through the grid which minimises the total distance between them. This is especially helpful if there is a small offset or a random noise insertion/deletion between two similar strings. We go from left to right in both strings taking one step at a time. One step could mean an insertion or a deletion or no operation. For example, the difference between \"stiff\" and \"satiff\" would be just 1, while if we do a pairwise difference, it would be 4. We will use this for our notebook.\n"
   ]
  },
  {
   "cell_type": "markdown",
   "metadata": {},
   "source": [
    "Below we show a small illustration for DTW and code in Python for it."
   ]
  },
  {
   "cell_type": "code",
   "execution_count": 19,
   "metadata": {
    "collapsed": true
   },
   "outputs": [],
   "source": [
    "def DTW(X, Y, cost_fn):\n",
    "    '''\n",
    " \n",
    "    Dynamic Time Warping algorithm.\n",
    "    Parameters\n",
    "    ----------\n",
    "    X: sequence of observations: should be a list of numerals or string\n",
    "    Y: second sequence of observations: should be a list of numerals or string\n",
    "    cost_fn: could be anyone of the pair-wise distances, for numbers it could be 'euclidean' or 'manhattan', \n",
    "    for string literals it could be edit_distance.\n",
    "    Returns\n",
    "    -------\n",
    "    D1: cost matrix \n",
    "    \n",
    "    '''\n",
    "    N = len(X)\n",
    "    M = len(Y)\n",
    "    X1 = X.copy()\n",
    "    Y1 = Y.copy()\n",
    "    \n",
    "    \n",
    "    D0 = np.zeros((N+1,M+1))\n",
    "    large_num = 1000\n",
    "    D0[1:,0]= large_num\n",
    "    D0[0,1:] = large_num\n",
    "    \n",
    "    D1 = D0[1:,1:]\n",
    "    for i in np.arange(N):\n",
    "        for j in np.arange(M):\n",
    "            if not isinstance(X[0], str):\n",
    "                a = X[i].copy()\n",
    "                b = Y[j].copy()\n",
    "                a = a.reshape(-1,1)\n",
    "                b = b.reshape(-1,1)\n",
    "                D1[i,j] = cost_fn(a, b)\n",
    "            else:\n",
    "                D1[i,j] = cost_fn(X[i], Y[j])\n",
    "                \n",
    "    \n",
    "    D2 = D1.copy()\n",
    "    for i in range(N):\n",
    "        for j in range(M):\n",
    "            min_val = np.min(np.array([D0[i+1,j], D0[i,j+1], D0[i,j]]))\n",
    "            D1[i,j] += min_val\n",
    "    return D1[-1,-1]/np.sum(D1.shape), D2, D1\n"
   ]
  },
  {
   "cell_type": "code",
   "execution_count": 20,
   "metadata": {
    "collapsed": false
   },
   "outputs": [
    {
     "name": "stdout",
     "output_type": "stream",
     "text": [
      "[[  0.   3.   8.  12.  15.  18.  22.]\n",
      " [  5.   4.   8.  14.  17.  19.  23.]\n",
      " [  9.   7.   6.  11.  15.  18.  22.]\n",
      " [ 12.  10.  11.  10.  12.  15.  18.]\n",
      " [ 16.  12.  15.  14.  12.  16.  18.]\n",
      " [ 21.  17.  18.  19.  17.  17.  21.]\n",
      " [ 24.  19.  22.  22.  17.  20.  20.]\n",
      " [ 27.  22.  23.  26.  20.  17.  20.]\n",
      " [ 31.  25.  27.  26.  23.  20.  17.]]\n",
      "[[ 0.  3.  5.  4.  3.  3.  4.]\n",
      " [ 5.  4.  5.  6.  5.  4.  5.]\n",
      " [ 4.  3.  2.  5.  4.  3.  4.]\n",
      " [ 3.  3.  5.  4.  2.  3.  3.]\n",
      " [ 4.  2.  5.  4.  2.  4.  3.]\n",
      " [ 5.  5.  6.  5.  5.  5.  5.]\n",
      " [ 3.  2.  5.  4.  0.  3.  3.]\n",
      " [ 3.  3.  4.  4.  3.  0.  3.]\n",
      " [ 4.  3.  5.  3.  3.  3.  0.]]\n"
     ]
    },
    {
     "data": {
      "image/png": "[encoded data removed]",
      "text/plain": [
       "<Figure size 432x288 with 1 Axes>"
      ]
     },
     "metadata": {},
     "output_type": "display_data"
    }
   ],
   "source": [
    "Xstr = ['Jack', 'hardly', 'plays', 'and',  'is', 'quite', 'a',   'lazy', 'boy']\n",
    "Ystr = ['Jack', 'has',    'always', 'been', 'a', 'lazy', 'boy']\n",
    "dist, cost, acc = DTW(Xstr,Ystr, edit_distance)\n",
    "print(acc)\n",
    "print(cost)\n",
    "plt.imshow(acc)\n",
    "plt.show()\n",
    "# print(dist)"
   ]
  },
  {
   "cell_type": "code",
   "execution_count": 21,
   "metadata": {
    "collapsed": false
   },
   "outputs": [],
   "source": [
    "poisson_noise = scipy.stats.poisson.rvs(0.4, Y_geyer.size)\n",
    "Y_geyer_noise = Y_geyer + poisson_noise\n",
    "a = np.int64(Y_geyer.copy().reshape(-1,1))\n",
    "b = np.int64(Y_geyer_noise.copy().reshape(-1,1))\n",
    "\n",
    "dist1, cost1, acc1 = DTW(a, b, euclidean_distances)\n"
   ]
  },
  {
   "cell_type": "code",
   "execution_count": 22,
   "metadata": {
    "collapsed": false
   },
   "outputs": [
    {
     "data": {
      "image/png": "[encoded data removed]",
      "text/plain": [
       "<Figure size 432x288 with 1 Axes>"
      ]
     },
     "metadata": {},
     "output_type": "display_data"
    },
    {
     "name": "stdout",
     "output_type": "stream",
     "text": [
      "8.72916666667\n"
     ]
    }
   ],
   "source": [
    "plt.imshow(acc1)\n",
    "plt.show()\n",
    "print(dist1)"
   ]
  },
  {
   "cell_type": "code",
   "execution_count": 24,
   "metadata": {
    "collapsed": true
   },
   "outputs": [],
   "source": [
    "# Module for storing different summary and distance measures.\n",
    "class DistanceMeasures(object):\n",
    "    \"\"\"\n",
    "    Each set of observation corresponds to one row of the matrix.\n",
    "    Collection of all pairswise-distance measures.\n",
    "    The true observations should be the first row \n",
    "    and the simulated observations the rest.\n",
    "    \"\"\"\n",
    "    \n",
    "    # Chi-squared Error !     \n",
    "    def chi_squared(*simulated, observed):\n",
    "        simulated = np.column_stack(simulated)\n",
    "        observed = np.column_stack(observed)\n",
    "#         simulated = np.vstack(simulated)\n",
    "#         observed = np.vstack(observed)\n",
    "        d = np.sum((simulated - observed)**2/observed, axis=1)\n",
    "        return d\n",
    "\n",
    "    # Root Mean Squared Error!\n",
    "    def RMSE(*simulated, observed):\n",
    "        simulated = np.column_stack(simulated)\n",
    "        observed = np.column_stack(observed)\n",
    "#         simulated = np.vstack(simulated)\n",
    "#         observed = vstack(observed)\n",
    "#         d = np.sum((simulated - observed)**2, axis=0)\n",
    "        d = np.sum((simulated - observed)**2, axis=1)\n",
    "        return d\n",
    "\n",
    "    # Mean Absolute Error !\n",
    "    def MAE(*simulated, observed):\n",
    "        simulated = np.column_stack(simulated)\n",
    "        observed = np.column_stack(observed)\n",
    "#         simulated = np.vstack(simulated)\n",
    "#         observed = np.vstack(observed)\n",
    "#         d = np.sum(np.abs((simulated - observed)), axis=0)\n",
    "        d = np.sum(np.abs((simulated - observed)), axis=1)\n",
    "        return d\n",
    "    \n",
    "    def DTW(observed, simulated):\n",
    "        simulated = np.asarray(simulated).reshape(-1,1)\n",
    "        observed = np.asarray(simulated).reshape(-1,1)\n",
    "        d, _, _ = DTW(simulated, observed)\n",
    "        return d\n"
   ]
  },
  {
   "cell_type": "markdown",
   "metadata": {},
   "source": [
    "####  Ricker Model\n",
    "The Ricker model used in ecology has also been used in publications related to ABC, The stochastic version is a nonlinear autoregeressive model.\n",
    "\n",
    "$\\log N^{t} =  \\log r + \\log N^{(t-1)} -N^{(t-1)} +\\sigma e^{(t)} $"
   ]
  },
  {
   "cell_type": "code",
   "execution_count": 25,
   "metadata": {
    "collapsed": false
   },
   "outputs": [],
   "source": [
    "# model simulator for ricker's model:\n",
    "def ricker(log_rate, stock_init=1., n_obs=100, batch_size=1, random_state=None):\n",
    "    \"\"\"\n",
    "    Generates observations from Rickers model.\n",
    "    This is the non stochastic version.\n",
    "    \"\"\"\n",
    "    random_state = random_state or np.random\n",
    "    stock = np.empty((batch_size, n_obs))\n",
    "    stock[:,0] = stock_init\n",
    "    for i in range(1, n_obs):\n",
    "        stock[:,i] = stock[:,i-1]*np.exp(log_rate - stock[:,i-1])\n",
    "    \n",
    "    return stock\n",
    "\n",
    "\n",
    "# stochastic Ricker\n",
    "def ricker_stochastic(log_rate, std, scale=1, stock_init=1., n_obs=100, batch_size=1, random_state=None):\n",
    "    \"\"\"\n",
    "    This function will help us generate stochastic observations from a Ricker model.\n",
    "    The Ricker model is nonlinear autoregressive model, with negative correlation \n",
    "    The latent time series denoted by N is given as:\n",
    "    log(N[i]) = logr + logN[i-1] - N[i-1] + sigma*e[i]            i = 1,..., n     N[0]=0\n",
    "    \n",
    "    where logr is the log growth rate, e[i] is a Gaussian random variable.\n",
    "    \n",
    "    The obervation model is assumed to be Poisson distributed with mean given as: pN[i]\n",
    "    \n",
    "    Y[i]|N[i],p  ~ Poisson(p*N[i]) \n",
    "    \n",
    "    where p is the scaling parameter.\n",
    "    \n",
    "    Parameters\n",
    "    ------------------\n",
    "    log_rate: logr\n",
    "    sigma: \n",
    "    \n",
    "    \n",
    "    \"\"\"\n",
    "    random_state = random_state or np.random\n",
    "    stock_obs = np.empty((batch_size, n_obs))\n",
    "    stock_prev = stock_init\n",
    "    stock_list = np.empty((batch_size, n_obs))\n",
    "    stock_list[:,0] = stock_init\n",
    "\n",
    "    for i in range(1, n_obs):\n",
    "        stock = stock_prev * np.exp(log_rate - stock_prev + std*random_state.randn(batch_size))\n",
    "        stock_prev = stock\n",
    "        stock_list[:,i] = stock\n",
    "        stock_obs[:,i] = random_state.poisson(scale*stock, batch_size)\n",
    "    \n",
    "    return stock_obs"
   ]
  },
  {
   "cell_type": "code",
   "execution_count": 26,
   "metadata": {
    "collapsed": false
   },
   "outputs": [],
   "source": [
    "# log X(t) = w1*logX(t-1) - w2*(X(t-1) - X(t-2)) + w3*eps.\n",
    "# eps : N(0,1)\n",
    "\n",
    "def model_trial2(log_rate, std, scale=1, stock_init=1., n_obs=100, batch_size=1, random_state=None):\n",
    "    random_state = random_state or np.random\n",
    "    stock_obs = np.empty((batch_size, n_obs))\n",
    "    stock_prev = stock_init\n",
    "    stock = np.empty((batch_size, n_obs))\n",
    "    stock_list[:,0] = stock_init\n",
    "    \n",
    "    w1 = random_state.randn(batch_size, 4)\n",
    "    stock_prev_prev = 0.\n",
    "#     w2 = random_state.randn(batch_size, n_obs+2, 4)\n",
    "\n",
    "    for i in range(1, n_obs):\n",
    "        log_stock = w1[:,0]*log_rate + w1[:,1]*np.log(stock_prev) - w1[:,2]*(stock_prev - stock_prev_prev) + \\\n",
    "        w1[:,3]*std*random_state.randn(batch_size)\n",
    "        stock = np.exp(log_stock)\n",
    "        stock_prev = stock\n",
    "        stock_prev_prev = stock_prev\n",
    "        stock_list[:,i] = stock\n",
    "        stock_obs[:,i] = random_state.poisson(np.exp(scale*stock), batch_size)\n",
    "    \n",
    "    return stock_obs"
   ]
  },
  {
   "cell_type": "markdown",
   "metadata": {
    "collapsed": true
   },
   "source": [
    "####  Make a model in ELFI for Ricker model."
   ]
  },
  {
   "cell_type": "markdown",
   "metadata": {},
   "source": [
    "In addition to the summary measures given in the example, we add two more measures: skewness and kurtosis(third-order and fourth-order moments) and a measure for how many numbers are big "
   ]
  },
  {
   "cell_type": "code",
   "execution_count": 27,
   "metadata": {
    "collapsed": false
   },
   "outputs": [],
   "source": [
    "#  this function uses the partial functionality of functools which is very cool, \n",
    "\n",
    "def get_ricker_model(fn, y_obs=None, n_obs=100, true_params=None, seed_obs=None, stochastic=True, higher_order=True):\n",
    "    if stochastic:\n",
    "        simulator = partial(ricker_stochastic, n_obs=n_obs)\n",
    "        if true_params is None:\n",
    "            true_params = [3.8, 0.3, 10.]\n",
    "    else:\n",
    "        simulator = partial(ricker, n_obs=n_obs)\n",
    "        if true_params is None:\n",
    "            true_params = [3.8]\n",
    "    \n",
    "    m = elfi.ElfiModel()\n",
    "    if y_obs is None:\n",
    "        y_obs = simulator(*true_params, n_obs=n_obs, random_state=np.random.RandomState(seed_obs))\n",
    "    else:\n",
    "        n_obs = np.asanyarray(y_obs).size\n",
    "    sim_fn = partial(simulator, n_obs=n_obs)\n",
    "    sumstats = []\n",
    "    \n",
    "    if stochastic:\n",
    "        # full stochastic model here ..         \n",
    "        elfi.Prior(stats.expon, np.e, 2, model=m, name='t1')\n",
    "        elfi.Prior(stats.truncnorm, 0, 5, model=m, name='t2')\n",
    "        elfi.Prior(stats.uniform, 0, 100, model=m, name='t3')\n",
    "        elfi.Simulator(sim_fn, m['t1'], m['t2'], m['t3'], observed=y_obs, name='Ricker')\n",
    "        sumstats.append(elfi.Summary(partial(np.mean, axis=1), m['Ricker'], name='Mean'))\n",
    "        sumstats.append(elfi.Summary(partial(np.var, axis=1), m['Ricker'], name='Var'))\n",
    "        sumstats.append(elfi.Summary(partial(skew, axis=1), m['Ricker'], name='skew'))\n",
    "        sumstats.append(elfi.Summary(partial(kurtosis, axis=1), m['Ricker'], name='kurt'))\n",
    "        sumstats.append(elfi.Summary(SummaryStatsEx.num_zeros, m['Ricker'], name='num_zeros'))\n",
    "        sumstats.append(elfi.Summary(SummaryStatsEx.num_large, m['Ricker'], name='num_large'))\n",
    "        elfi.Discrepancy(DistanceMeasures.chi_squared, *sumstats, name='d')\n",
    "    else:\n",
    "        # simple deterministic case here ..         \n",
    "        elfi.Prior(stats.expon, np.e, model=m, name='t1')\n",
    "        elfi.Simulator(sim_fn, m['t1'], observed=y_obs, name='Ricker')\n",
    "        sumstats.append(elfi.Summary(partial(np.mean, axis=1), m['Ricker'], name='Mean'))\n",
    "        elfi.Distance('euclidean', *sumstats, name='d')\n",
    "    return m\n",
    "    "
   ]
  },
  {
   "cell_type": "code",
   "execution_count": 28,
   "metadata": {
    "collapsed": true
   },
   "outputs": [],
   "source": [
    "def get_ricker_model_dtw(fn, y_obs=None, n_obs=100, true_params=None, seed_obs=None,higher_order=True):\n",
    "    simulator = partial(ricker_stochastic, n_obs=n_obs)\n",
    "    \n",
    "    m = elfi.ElfiModel()\n",
    "    if y_obs is None:\n",
    "        y_obs = simulator(*true_params, n_obs=n_obs, random_state=np.random.RandomState(seed_obs))\n",
    "    else:\n",
    "        n_obs = np.asanyarray(y_obs).size\n",
    "    sim_fn = partial(simulator, n_obs=n_obs)\n",
    "    sumstats = []\n",
    "\n",
    "    elfi.Prior(stats.expon, np.e, 2, model=m, name='t1')\n",
    "    elfi.Prior(stats.truncnorm, 0, 5, model=m, name='t2')\n",
    "    elfi.Prior(stats.uniform, 0, 100, model=m, name='t3')\n",
    "    elfi.Simulator(sim_fn, m['t1'], m['t2'], m['t3'], observed=y_obs, name='Ricker')\n",
    "    sumstats.append(elfi.Summary(SummaryStatsEx.identity, m['Ricker'], name='identity'))\n",
    "#   elfi.Discrepancy(DistanceMeasures.chi_squared, *sumstats, name='d')\n",
    "    elfi.Distance(partial(DistanceMeasures.DTW, observed=y_obs), *sumstats, name='d')\n",
    "    return m\n"
   ]
  },
  {
   "cell_type": "markdown",
   "metadata": {},
   "source": [
    "####  Generate artificial observations from the Ricker model itself using some known parameter values.\n",
    "Following this, generate the full graphical model, which is the same as given in the ELFI examples."
   ]
  },
  {
   "cell_type": "code",
   "execution_count": 29,
   "metadata": {
    "collapsed": false
   },
   "outputs": [],
   "source": [
    "true_params = [3.8, 0.3, 10.]\n",
    "n_obs = 100\n",
    "seed_obs = 1234\n",
    "Y1 = ricker_stochastic(*true_params, n_obs=n_obs, random_state=np.random.RandomState(seed_obs))"
   ]
  },
  {
   "cell_type": "code",
   "execution_count": 30,
   "metadata": {
    "collapsed": false
   },
   "outputs": [
    {
     "name": "stdout",
     "output_type": "stream",
     "text": [
      "39.76\n",
      "61.1692307692\n",
      "30.0\n"
     ]
    },
    {
     "data": {
      "image/png": "[encoded data removed]",
      "text/plain": [
       "<Figure size 432x288 with 1 Axes>"
      ]
     },
     "metadata": {},
     "output_type": "display_data"
    }
   ],
   "source": [
    "plt.plot(Y1.ravel()[2:])\n",
    "print(np.mean(Y1))\n",
    "print(np.mean(Y1[Y1>0]))\n",
    "print(np.median(Y1[Y1>0]))"
   ]
  },
  {
   "cell_type": "code",
   "execution_count": 97,
   "metadata": {
    "collapsed": false
   },
   "outputs": [],
   "source": [
    "m = get_ricker_model(ricker_stochastic, y_obs=Y1)"
   ]
  },
  {
   "cell_type": "markdown",
   "metadata": {},
   "source": [
    "Plot the Ricker model"
   ]
  },
  {
   "cell_type": "code",
   "execution_count": 98,
   "metadata": {
    "collapsed": false
   },
   "outputs": [
    {
     "data": {
      "image/svg+xml": [
       "<?xml version=\"1.0\" encoding=\"UTF-8\" standalone=\"no\"?>\n",
       "<!DOCTYPE svg PUBLIC \"-//W3C//DTD SVG 1.1//EN\"\n",
       " \"http://www.w3.org/Graphics/SVG/1.1/DTD/svg11.dtd\">\n",
       "<!-- Generated by graphviz version 2.38.0 (20140413.2041)\n",
       " -->\n",
       "<!-- Title: %3 Pages: 1 -->\n",
       "<svg width=\"514pt\" height=\"357pt\"\n",
       " viewBox=\"0.00 0.00 513.74 356.99\" xmlns=\"http://www.w3.org/2000/svg\" xmlns:xlink=\"http://www.w3.org/1999/xlink\">\n",
       "<g id=\"graph0\" class=\"graph\" transform=\"scale(1 1) rotate(0) translate(4 352.985)\">\n",
       "<title>%3</title>\n",
       "<polygon fill=\"white\" stroke=\"none\" points=\"-4,4 -4,-352.985 509.743,-352.985 509.743,4 -4,4\"/>\n",
       "<!-- num_zeros -->\n",
       "<g id=\"node1\" class=\"node\"><title>num_zeros</title>\n",
       "<ellipse fill=\"#cccccc\" stroke=\"black\" cx=\"50.0456\" cy=\"-122.046\" rx=\"50.0912\" ry=\"50.0912\"/>\n",
       "<text text-anchor=\"middle\" x=\"50.0456\" y=\"-118.346\" font-family=\"Times,serif\" font-size=\"14.00\">num_zeros</text>\n",
       "</g>\n",
       "<!-- d -->\n",
       "<g id=\"node6\" class=\"node\"><title>d</title>\n",
       "<ellipse fill=\"none\" stroke=\"black\" cx=\"304.046\" cy=\"-18\" rx=\"18\" ry=\"18\"/>\n",
       "<text text-anchor=\"middle\" x=\"304.046\" y=\"-14.3\" font-family=\"Times,serif\" font-size=\"14.00\">d</text>\n",
       "</g>\n",
       "<!-- num_zeros&#45;&gt;d -->\n",
       "<g id=\"edge1\" class=\"edge\"><title>num_zeros&#45;&gt;d</title>\n",
       "<path fill=\"none\" stroke=\"black\" d=\"M86.0894,-87.0516C93.3126,-81.4382 101.127,-76.1168 109.046,-72 164.384,-43.2285 236.908,-28.8575 276.058,-22.7618\"/>\n",
       "<polygon fill=\"black\" stroke=\"black\" points=\"276.797,-26.1904 286.173,-21.2569 275.767,-19.2667 276.797,-26.1904\"/>\n",
       "</g>\n",
       "<!-- t1 -->\n",
       "<g id=\"node2\" class=\"node\"><title>t1</title>\n",
       "<ellipse fill=\"none\" stroke=\"black\" cx=\"250.046\" cy=\"-330.985\" rx=\"18\" ry=\"18\"/>\n",
       "<text text-anchor=\"middle\" x=\"250.046\" y=\"-327.285\" font-family=\"Times,serif\" font-size=\"14.00\">t1</text>\n",
       "</g>\n",
       "<!-- Ricker -->\n",
       "<g id=\"node3\" class=\"node\"><title>Ricker</title>\n",
       "<ellipse fill=\"#cccccc\" stroke=\"black\" cx=\"304.046\" cy=\"-242.538\" rx=\"34.394\" ry=\"34.394\"/>\n",
       "<text text-anchor=\"middle\" x=\"304.046\" y=\"-238.838\" font-family=\"Times,serif\" font-size=\"14.00\">Ricker</text>\n",
       "</g>\n",
       "<!-- t1&#45;&gt;Ricker -->\n",
       "<g id=\"edge2\" class=\"edge\"><title>t1&#45;&gt;Ricker</title>\n",
       "<path fill=\"none\" stroke=\"black\" d=\"M259.206,-315.32C265.114,-305.862 273.085,-293.102 280.668,-280.963\"/>\n",
       "<polygon fill=\"black\" stroke=\"black\" points=\"283.756,-282.625 286.085,-272.29 277.819,-278.917 283.756,-282.625\"/>\n",
       "</g>\n",
       "<!-- Ricker&#45;&gt;num_zeros -->\n",
       "<g id=\"edge3\" class=\"edge\"><title>Ricker&#45;&gt;num_zeros</title>\n",
       "<path fill=\"none\" stroke=\"black\" d=\"M270.784,-233.53C230.702,-223.034 162.129,-202.332 109.046,-172.091 104.199,-169.33 99.3595,-166.16 94.6542,-162.789\"/>\n",
       "<polygon fill=\"black\" stroke=\"black\" points=\"96.4527,-159.762 86.3572,-156.548 92.2448,-165.356 96.4527,-159.762\"/>\n",
       "</g>\n",
       "<!-- num_large -->\n",
       "<g id=\"node4\" class=\"node\"><title>num_large</title>\n",
       "<ellipse fill=\"#cccccc\" stroke=\"black\" cx=\"167.046\" cy=\"-122.046\" rx=\"48.9926\" ry=\"48.9926\"/>\n",
       "<text text-anchor=\"middle\" x=\"167.046\" y=\"-118.346\" font-family=\"Times,serif\" font-size=\"14.00\">num_large</text>\n",
       "</g>\n",
       "<!-- Ricker&#45;&gt;num_large -->\n",
       "<g id=\"edge6\" class=\"edge\"><title>Ricker&#45;&gt;num_large</title>\n",
       "<path fill=\"none\" stroke=\"black\" d=\"M278.277,-219.251C259.418,-202.939 233.363,-180.404 211.211,-161.245\"/>\n",
       "<polygon fill=\"black\" stroke=\"black\" points=\"213.41,-158.519 203.557,-154.624 208.83,-163.813 213.41,-158.519\"/>\n",
       "</g>\n",
       "<!-- Mean -->\n",
       "<g id=\"node7\" class=\"node\"><title>Mean</title>\n",
       "<ellipse fill=\"#cccccc\" stroke=\"black\" cx=\"265.046\" cy=\"-122.046\" rx=\"31.3957\" ry=\"31.3957\"/>\n",
       "<text text-anchor=\"middle\" x=\"265.046\" y=\"-118.346\" font-family=\"Times,serif\" font-size=\"14.00\">Mean</text>\n",
       "</g>\n",
       "<!-- Ricker&#45;&gt;Mean -->\n",
       "<g id=\"edge4\" class=\"edge\"><title>Ricker&#45;&gt;Mean</title>\n",
       "<path fill=\"none\" stroke=\"black\" d=\"M293.492,-209.472C288.643,-194.742 282.853,-177.149 277.766,-161.693\"/>\n",
       "<polygon fill=\"black\" stroke=\"black\" points=\"280.992,-160.3 274.541,-151.896 274.343,-162.489 280.992,-160.3\"/>\n",
       "</g>\n",
       "<!-- skew -->\n",
       "<g id=\"node8\" class=\"node\"><title>skew</title>\n",
       "<ellipse fill=\"#cccccc\" stroke=\"black\" cx=\"343.046\" cy=\"-122.046\" rx=\"28.6953\" ry=\"28.6953\"/>\n",
       "<text text-anchor=\"middle\" x=\"343.046\" y=\"-118.346\" font-family=\"Times,serif\" font-size=\"14.00\">skew</text>\n",
       "</g>\n",
       "<!-- Ricker&#45;&gt;skew -->\n",
       "<g id=\"edge5\" class=\"edge\"><title>Ricker&#45;&gt;skew</title>\n",
       "<path fill=\"none\" stroke=\"black\" d=\"M314.6,-209.472C319.718,-193.92 325.887,-175.178 331.17,-159.128\"/>\n",
       "<polygon fill=\"black\" stroke=\"black\" points=\"334.525,-160.128 334.327,-149.535 327.876,-157.939 334.525,-160.128\"/>\n",
       "</g>\n",
       "<!-- Var -->\n",
       "<g id=\"node10\" class=\"node\"><title>Var</title>\n",
       "<ellipse fill=\"#cccccc\" stroke=\"black\" cx=\"414.046\" cy=\"-122.046\" rx=\"24.0958\" ry=\"24.0958\"/>\n",
       "<text text-anchor=\"middle\" x=\"414.046\" y=\"-118.346\" font-family=\"Times,serif\" font-size=\"14.00\">Var</text>\n",
       "</g>\n",
       "<!-- Ricker&#45;&gt;Var -->\n",
       "<g id=\"edge7\" class=\"edge\"><title>Ricker&#45;&gt;Var</title>\n",
       "<path fill=\"none\" stroke=\"black\" d=\"M330.859,-220.173C346.394,-207.129 365.828,-189.632 381.046,-172.091 386.436,-165.877 391.687,-158.746 396.356,-151.882\"/>\n",
       "<polygon fill=\"black\" stroke=\"black\" points=\"399.352,-153.696 401.926,-143.418 393.505,-149.847 399.352,-153.696\"/>\n",
       "</g>\n",
       "<!-- kurt -->\n",
       "<g id=\"node11\" class=\"node\"><title>kurt</title>\n",
       "<ellipse fill=\"#cccccc\" stroke=\"black\" cx=\"481.046\" cy=\"-122.046\" rx=\"24.8972\" ry=\"24.8972\"/>\n",
       "<text text-anchor=\"middle\" x=\"481.046\" y=\"-118.346\" font-family=\"Times,serif\" font-size=\"14.00\">kurt</text>\n",
       "</g>\n",
       "<!-- Ricker&#45;&gt;kurt -->\n",
       "<g id=\"edge8\" class=\"edge\"><title>Ricker&#45;&gt;kurt</title>\n",
       "<path fill=\"none\" stroke=\"black\" d=\"M336.604,-231.166C367.515,-220.14 414.034,-200.371 447.046,-172.091 453.352,-166.688 459.043,-159.86 463.885,-153.029\"/>\n",
       "<polygon fill=\"black\" stroke=\"black\" points=\"466.942,-154.752 469.547,-144.483 461.107,-150.886 466.942,-154.752\"/>\n",
       "</g>\n",
       "<!-- num_large&#45;&gt;d -->\n",
       "<g id=\"edge9\" class=\"edge\"><title>num_large&#45;&gt;d</title>\n",
       "<path fill=\"none\" stroke=\"black\" d=\"M203.362,-89.2819C210.44,-83.3936 217.888,-77.4013 225.046,-72 243.119,-58.3617 264.491,-44.131 280.446,-33.8537\"/>\n",
       "<polygon fill=\"black\" stroke=\"black\" points=\"282.605,-36.6275 289.147,-28.2938 278.836,-30.7287 282.605,-36.6275\"/>\n",
       "</g>\n",
       "<!-- t3 -->\n",
       "<g id=\"node5\" class=\"node\"><title>t3</title>\n",
       "<ellipse fill=\"none\" stroke=\"black\" cx=\"304.046\" cy=\"-330.985\" rx=\"18\" ry=\"18\"/>\n",
       "<text text-anchor=\"middle\" x=\"304.046\" y=\"-327.285\" font-family=\"Times,serif\" font-size=\"14.00\">t3</text>\n",
       "</g>\n",
       "<!-- t3&#45;&gt;Ricker -->\n",
       "<g id=\"edge10\" class=\"edge\"><title>t3&#45;&gt;Ricker</title>\n",
       "<path fill=\"none\" stroke=\"black\" d=\"M304.046,-312.906C304.046,-305.47 304.046,-296.38 304.046,-287.26\"/>\n",
       "<polygon fill=\"black\" stroke=\"black\" points=\"307.546,-287.038 304.046,-277.038 300.546,-287.038 307.546,-287.038\"/>\n",
       "</g>\n",
       "<!-- Mean&#45;&gt;d -->\n",
       "<g id=\"edge11\" class=\"edge\"><title>Mean&#45;&gt;d</title>\n",
       "<path fill=\"none\" stroke=\"black\" d=\"M275.909,-92.6202C281.659,-77.5746 288.665,-59.2437 294.247,-44.6373\"/>\n",
       "<polygon fill=\"black\" stroke=\"black\" points=\"297.551,-45.797 297.852,-35.2064 291.012,-43.298 297.551,-45.797\"/>\n",
       "</g>\n",
       "<!-- skew&#45;&gt;d -->\n",
       "<g id=\"edge12\" class=\"edge\"><title>skew&#45;&gt;d</title>\n",
       "<path fill=\"none\" stroke=\"black\" d=\"M333.103,-95.0311C327.179,-79.5305 319.692,-59.9388 313.801,-44.5254\"/>\n",
       "<polygon fill=\"black\" stroke=\"black\" points=\"317.032,-43.1765 310.193,-35.085 310.494,-45.6756 317.032,-43.1765\"/>\n",
       "</g>\n",
       "<!-- t2 -->\n",
       "<g id=\"node9\" class=\"node\"><title>t2</title>\n",
       "<ellipse fill=\"none\" stroke=\"black\" cx=\"358.046\" cy=\"-330.985\" rx=\"18\" ry=\"18\"/>\n",
       "<text text-anchor=\"middle\" x=\"358.046\" y=\"-327.285\" font-family=\"Times,serif\" font-size=\"14.00\">t2</text>\n",
       "</g>\n",
       "<!-- t2&#45;&gt;Ricker -->\n",
       "<g id=\"edge13\" class=\"edge\"><title>t2&#45;&gt;Ricker</title>\n",
       "<path fill=\"none\" stroke=\"black\" d=\"M348.885,-315.32C342.977,-305.862 335.006,-293.102 327.423,-280.963\"/>\n",
       "<polygon fill=\"black\" stroke=\"black\" points=\"330.272,-278.917 322.006,-272.29 324.335,-282.625 330.272,-278.917\"/>\n",
       "</g>\n",
       "<!-- Var&#45;&gt;d -->\n",
       "<g id=\"edge14\" class=\"edge\"><title>Var&#45;&gt;d</title>\n",
       "<path fill=\"none\" stroke=\"black\" d=\"M402.745,-100.677C396.98,-91.3259 389.419,-80.4624 381.046,-72 365.397,-56.185 344.426,-42.109 328.321,-32.4449\"/>\n",
       "<polygon fill=\"black\" stroke=\"black\" points=\"329.88,-29.3019 319.479,-27.2849 326.352,-35.3479 329.88,-29.3019\"/>\n",
       "</g>\n",
       "<!-- kurt&#45;&gt;d -->\n",
       "<g id=\"edge15\" class=\"edge\"><title>kurt&#45;&gt;d</title>\n",
       "<path fill=\"none\" stroke=\"black\" d=\"M470.182,-99.6938C464.413,-90.1274 456.542,-79.3666 447.046,-72 412.425,-45.1434 362.808,-30.8613 332.049,-24.1193\"/>\n",
       "<polygon fill=\"black\" stroke=\"black\" points=\"332.514,-20.6413 322.012,-22.0408 331.094,-27.4959 332.514,-20.6413\"/>\n",
       "</g>\n",
       "</g>\n",
       "</svg>\n"
      ],
      "text/plain": [
       "<graphviz.dot.Digraph at 0x7f50900a4c18>"
      ]
     },
     "execution_count": 98,
     "metadata": {},
     "output_type": "execute_result"
    }
   ],
   "source": [
    "elfi.draw(m)"
   ]
  },
  {
   "cell_type": "code",
   "execution_count": 99,
   "metadata": {
    "collapsed": true
   },
   "outputs": [],
   "source": [
    "m_rej_inf = elfi.Rejection(m, m['d'], batch_size=8)"
   ]
  },
  {
   "cell_type": "code",
   "execution_count": 100,
   "metadata": {
    "collapsed": false
   },
   "outputs": [],
   "source": [
    "result = m_rej_inf.sample(500)"
   ]
  },
  {
   "cell_type": "code",
   "execution_count": 101,
   "metadata": {
    "collapsed": false
   },
   "outputs": [
    {
     "data": {
      "text/plain": [
       "array([<matplotlib.axes._subplots.AxesSubplot object at 0x7f508a933588>,\n",
       "       <matplotlib.axes._subplots.AxesSubplot object at 0x7f508a997ac8>,\n",
       "       <matplotlib.axes._subplots.AxesSubplot object at 0x7f508a92f2e8>], dtype=object)"
      ]
     },
     "execution_count": 101,
     "metadata": {},
     "output_type": "execute_result"
    },
    {
     "data": {
      "image/png": "[encoded data removed]",
      "text/plain": [
       "<Figure size 1152x288 with 3 Axes>"
      ]
     },
     "metadata": {},
     "output_type": "display_data"
    }
   ],
   "source": [
    "result.plot_marginals()\n",
    "# result.plot_pairs()"
   ]
  },
  {
   "cell_type": "code",
   "execution_count": 37,
   "metadata": {
    "collapsed": false
   },
   "outputs": [],
   "source": [
    "m2_ricker = get_ricker_model(ricker, y_obs=Y1, stochastic=False)"
   ]
  },
  {
   "cell_type": "markdown",
   "metadata": {},
   "source": [
    "###  Plot for non-stochastic  Ricker model"
   ]
  },
  {
   "cell_type": "code",
   "execution_count": 38,
   "metadata": {
    "collapsed": false
   },
   "outputs": [
    {
     "data": {
      "image/svg+xml": [
       "<?xml version=\"1.0\" encoding=\"UTF-8\" standalone=\"no\"?>\n",
       "<!DOCTYPE svg PUBLIC \"-//W3C//DTD SVG 1.1//EN\"\n",
       " \"http://www.w3.org/Graphics/SVG/1.1/DTD/svg11.dtd\">\n",
       "<!-- Generated by graphviz version 2.38.0 (20140413.2041)\n",
       " -->\n",
       "<!-- Title: %3 Pages: 1 -->\n",
       "<svg width=\"77pt\" height=\"319pt\"\n",
       " viewBox=\"0.00 0.00 76.89 319.29\" xmlns=\"http://www.w3.org/2000/svg\" xmlns:xlink=\"http://www.w3.org/1999/xlink\">\n",
       "<g id=\"graph0\" class=\"graph\" transform=\"scale(1 1) rotate(0) translate(4 315.288)\">\n",
       "<title>%3</title>\n",
       "<polygon fill=\"white\" stroke=\"none\" points=\"-4,4 -4,-315.288 72.8939,-315.288 72.8939,4 -4,4\"/>\n",
       "<!-- d -->\n",
       "<g id=\"node1\" class=\"node\"><title>d</title>\n",
       "<ellipse fill=\"none\" stroke=\"black\" cx=\"34.4469\" cy=\"-18\" rx=\"18\" ry=\"18\"/>\n",
       "<text text-anchor=\"middle\" x=\"34.4469\" y=\"-14.3\" font-family=\"Times,serif\" font-size=\"14.00\">d</text>\n",
       "</g>\n",
       "<!-- Mean -->\n",
       "<g id=\"node2\" class=\"node\"><title>Mean</title>\n",
       "<ellipse fill=\"#cccccc\" stroke=\"black\" cx=\"34.4469\" cy=\"-103.197\" rx=\"31.3957\" ry=\"31.3957\"/>\n",
       "<text text-anchor=\"middle\" x=\"34.4469\" y=\"-99.4972\" font-family=\"Times,serif\" font-size=\"14.00\">Mean</text>\n",
       "</g>\n",
       "<!-- Mean&#45;&gt;d -->\n",
       "<g id=\"edge1\" class=\"edge\"><title>Mean&#45;&gt;d</title>\n",
       "<path fill=\"none\" stroke=\"black\" d=\"M34.4469,-71.6901C34.4469,-63.4352 34.4469,-54.5516 34.4469,-46.4743\"/>\n",
       "<polygon fill=\"black\" stroke=\"black\" points=\"37.947,-46.4408 34.4469,-36.4409 30.947,-46.4409 37.947,-46.4408\"/>\n",
       "</g>\n",
       "<!-- t1 -->\n",
       "<g id=\"node3\" class=\"node\"><title>t1</title>\n",
       "<ellipse fill=\"none\" stroke=\"black\" cx=\"34.4469\" cy=\"-293.288\" rx=\"18\" ry=\"18\"/>\n",
       "<text text-anchor=\"middle\" x=\"34.4469\" y=\"-289.588\" font-family=\"Times,serif\" font-size=\"14.00\">t1</text>\n",
       "</g>\n",
       "<!-- Ricker -->\n",
       "<g id=\"node4\" class=\"node\"><title>Ricker</title>\n",
       "<ellipse fill=\"#cccccc\" stroke=\"black\" cx=\"34.4469\" cy=\"-204.841\" rx=\"34.394\" ry=\"34.394\"/>\n",
       "<text text-anchor=\"middle\" x=\"34.4469\" y=\"-201.141\" font-family=\"Times,serif\" font-size=\"14.00\">Ricker</text>\n",
       "</g>\n",
       "<!-- t1&#45;&gt;Ricker -->\n",
       "<g id=\"edge2\" class=\"edge\"><title>t1&#45;&gt;Ricker</title>\n",
       "<path fill=\"none\" stroke=\"black\" d=\"M34.4469,-275.209C34.4469,-267.773 34.4469,-258.683 34.4469,-249.564\"/>\n",
       "<polygon fill=\"black\" stroke=\"black\" points=\"37.947,-249.341 34.4469,-239.341 30.947,-249.341 37.947,-249.341\"/>\n",
       "</g>\n",
       "<!-- Ricker&#45;&gt;Mean -->\n",
       "<g id=\"edge3\" class=\"edge\"><title>Ricker&#45;&gt;Mean</title>\n",
       "<path fill=\"none\" stroke=\"black\" d=\"M34.4469,-170.384C34.4469,-162.184 34.4469,-153.319 34.4469,-144.824\"/>\n",
       "<polygon fill=\"black\" stroke=\"black\" points=\"37.947,-144.714 34.4469,-134.714 30.947,-144.714 37.947,-144.714\"/>\n",
       "</g>\n",
       "</g>\n",
       "</svg>\n"
      ],
      "text/plain": [
       "<graphviz.dot.Digraph at 0x7f509043ca58>"
      ]
     },
     "execution_count": 38,
     "metadata": {},
     "output_type": "execute_result"
    }
   ],
   "source": [
    "elfi.draw(m2_ricker)"
   ]
  },
  {
   "cell_type": "code",
   "execution_count": 39,
   "metadata": {
    "collapsed": false
   },
   "outputs": [],
   "source": [
    "# flush all python objects here to avoid namespace collapse ..\n",
    "if m:\n",
    "    del m\n",
    "    del m_rej_inf\n",
    "    del result"
   ]
  },
  {
   "cell_type": "markdown",
   "metadata": {},
   "source": [
    "#### Our Note/Observations from  the plots above.\n",
    "In the plots above, we basically just replicated the example from ELFI, nothing original until here ..., but this is atleast a good base to start with. Also the above plots are good, and demonstrate the rejection sampling gave satifactory results with the modes of the plots close to the original true values of the parameters. "
   ]
  },
  {
   "cell_type": "code",
   "execution_count": 40,
   "metadata": {
    "collapsed": false
   },
   "outputs": [
    {
     "name": "stdout",
     "output_type": "stream",
     "text": [
      "(1, 24)\n"
     ]
    }
   ],
   "source": [
    "print(Y_geyer.shape)"
   ]
  },
  {
   "cell_type": "code",
   "execution_count": 41,
   "metadata": {
    "collapsed": false
   },
   "outputs": [],
   "source": [
    "m3 = get_ricker_model(ricker_stochastic, y_obs=Y_geyer)"
   ]
  },
  {
   "cell_type": "code",
   "execution_count": 42,
   "metadata": {
    "collapsed": true
   },
   "outputs": [],
   "source": [
    "pool = elfi.OutputPool([m3['t1'], m3['t2'], m3['t3'], m3['Ricker'], m3['Mean'], m3['Var']])\n",
    "# pool2 = elfi.ArrayPool([m3['t1'], m3['t2'], m3['t3'], m3['Ricker']])"
   ]
  },
  {
   "cell_type": "code",
   "execution_count": 43,
   "metadata": {
    "collapsed": true
   },
   "outputs": [],
   "source": [
    "m3_rej = elfi.Rejection(m3, m3['d'], batch_size=5, pool=pool)\n",
    "# m3_rej = elfi.Rejection(m3, m3['d'], batch_size=10, pool=pool2)"
   ]
  },
  {
   "cell_type": "code",
   "execution_count": 44,
   "metadata": {
    "collapsed": false
   },
   "outputs": [
    {
     "name": "stderr",
     "output_type": "stream",
     "text": [
      " /u/26/dhakaa1/unix/anaconda2/envs/py35-elfi/lib/python3.5/site-packages/ipykernel/__main__.py:16: RuntimeWarning:divide by zero encountered in true_divide\n",
      " /u/26/dhakaa1/unix/anaconda2/envs/py35-elfi/lib/python3.5/site-packages/ipykernel/__main__.py:16: RuntimeWarning:invalid value encountered in true_divide\n"
     ]
    }
   ],
   "source": [
    "N_samples = 400\n",
    "result_geyer = m3_rej.sample(N_samples)"
   ]
  },
  {
   "cell_type": "code",
   "execution_count": 60,
   "metadata": {
    "collapsed": false
   },
   "outputs": [
    {
     "data": {
      "text/plain": [
       "array([<matplotlib.axes._subplots.AxesSubplot object at 0x7f5090191fd0>,\n",
       "       <matplotlib.axes._subplots.AxesSubplot object at 0x7f5090130a90>,\n",
       "       <matplotlib.axes._subplots.AxesSubplot object at 0x7f509013de48>], dtype=object)"
      ]
     },
     "execution_count": 60,
     "metadata": {},
     "output_type": "execute_result"
    },
    {
     "data": {
      "image/png": "[encoded data removed]",
      "text/plain": [
       "<Figure size 1152x288 with 3 Axes>"
      ]
     },
     "metadata": {},
     "output_type": "display_data"
    }
   ],
   "source": [
    "result_geyer.plot_marginals()"
   ]
  },
  {
   "cell_type": "markdown",
   "metadata": {},
   "source": [
    "We also try an alternative model to the above Ricker model which we used for modelling the Geyer data.\n",
    "\n",
    "The above plots are not so encouraging because they show that the scale parameter for the Poisson process is close to 0, this might mean that we should use some alternate model for the latent stochastic time series, and our modelling assumptions are not really suitable for this dataset. Also, if we carefully look at the plots for the original Ricker model simulated abservations and our hourly observations, they exhibit different behaviours. While the original observations have a very high oscillatory behaviour explaining the negative covariances between subsequent observations, the Geyer observations have a much more smooth pattern and positive correlations.  We try a different model then."
   ]
  },
  {
   "cell_type": "code",
   "execution_count": 62,
   "metadata": {
    "collapsed": false
   },
   "outputs": [
    {
     "name": "stderr",
     "output_type": "stream",
     "text": [
      " /u/26/dhakaa1/unix/anaconda2/envs/py35-elfi/lib/python3.5/site-packages/numpy/core/_methods.py:116: RuntimeWarning:overflow encountered in multiply\n"
     ]
    },
    {
     "data": {
      "text/plain": [
       "inf"
      ]
     },
     "execution_count": 62,
     "metadata": {},
     "output_type": "execute_result"
    }
   ],
   "source": [
    "result_geyer.samples['t1'].std()\n"
   ]
  },
  {
   "cell_type": "markdown",
   "metadata": {},
   "source": [
    "### Diagnostics\n",
    "Lets have a look into the inside dynamics of the model and simulator. Some inbuilt methods can be used to see internals like samples, thresholds etc. It is also possible to view them "
   ]
  },
  {
   "cell_type": "code",
   "execution_count": 63,
   "metadata": {
    "collapsed": false
   },
   "outputs": [
    {
     "name": "stdout",
     "output_type": "stream",
     "text": [
      "<elfi.model.elfi_model.ElfiModel object at 0x7f50902b6748>\n"
     ]
    }
   ],
   "source": [
    "print(m3)"
   ]
  },
  {
   "cell_type": "code",
   "execution_count": 64,
   "metadata": {
    "collapsed": false
   },
   "outputs": [
    {
     "name": "stdout",
     "output_type": "stream",
     "text": [
      "['t1', 't2', 't3']\n"
     ]
    }
   ],
   "source": [
    "print(m3.parameter_names)\n"
   ]
  },
  {
   "cell_type": "code",
   "execution_count": 65,
   "metadata": {
    "collapsed": false
   },
   "outputs": [
    {
     "data": {
      "text/plain": [
       "{'_class': elfi.model.elfi_model.Prior,\n",
       " '_operation': functools.partial(<function rvs_from_distribution at 0x7f509dfa0378>, size=None, distribution=<scipy.stats._continuous_distns.expon_gen object at 0x7f50a02f0780>),\n",
       " '_parameter': True,\n",
       " '_stochastic': True,\n",
       " '_uses_batch_size': True,\n",
       " 'distribution': <scipy.stats._continuous_distns.expon_gen at 0x7f50a02f0780>,\n",
       " 'size': None}"
      ]
     },
     "execution_count": 65,
     "metadata": {},
     "output_type": "execute_result"
    }
   ],
   "source": [
    "m3.get_state('t1')"
   ]
  },
  {
   "cell_type": "code",
   "execution_count": 66,
   "metadata": {
    "collapsed": false
   },
   "outputs": [
    {
     "name": "stdout",
     "output_type": "stream",
     "text": [
      "{'_operation': <function DistanceMeasures.chi_squared at 0x7f50905dcbf8>, '_uses_observed': True, '_class': <class 'elfi.model.elfi_model.Discrepancy'>}\n"
     ]
    }
   ],
   "source": [
    "print(m3.get_state('d'))"
   ]
  },
  {
   "cell_type": "code",
   "execution_count": 67,
   "metadata": {
    "collapsed": false
   },
   "outputs": [],
   "source": [
    "arraypool = elfi.ArrayPool(['t1', 't2', 'Y', 'd'])\n",
    "# rej = elfi.Rejection(d, pool=arraypool)"
   ]
  },
  {
   "cell_type": "markdown",
   "metadata": {},
   "source": [
    "#### Our Note/Observations from  the plots above.\n",
    "\n",
    "We also try an alternative model to the above Ricker model which we used for modelling the Geyer data.\n",
    "\n"
   ]
  },
  {
   "cell_type": "markdown",
   "metadata": {},
   "source": [
    "#### Proposed Model\n",
    "\n",
    "Here, we propose a model which can handle 2nd degree interactions, unless we have some prior information about the data geenrating process, it could be hard to come up with a suitable model.\n",
    "Lets have a linear Gaussian autoregressive model.\n",
    "\n",
    "$ X(t) = a.X(t-1) + b.X(t-2) + c.\\epsilon  \\\\$\n",
    "\n",
    "The observation model can then be defined as a gaussian with the mean equal to latent value at that time instance.\n",
    "The link function is generally taken to be an exponential function. But here, we use a simpler squaring function.\n",
    "The motivation for this model is the smooth nature of the plot of the observation data. As the observations are positive integers, the values are rounded off to the nearest integer.\n",
    "\n",
    "$ Y(t) = N(g(X(t)), 1)$\n",
    "where $g(.)$ is a link function.\n",
    "\n",
    "$ Y(t) = N(dX(t)^2, 1)$\n",
    "where $d$ is a scaling constant.\n"
   ]
  },
  {
   "cell_type": "code",
   "execution_count": 68,
   "metadata": {
    "collapsed": false
   },
   "outputs": [],
   "source": [
    "def model_2_degree(a, b, c, d=1, stock_init=0., n_obs=100, batch_size=1, random_state=None):\n",
    "    random_state = random_state or np.random\n",
    "    stock_obs = np.empty((batch_size, n_obs))\n",
    "    stock_prev = stock_init\n",
    "    stock_list = np.empty((batch_size, n_obs))\n",
    "    stock_list[:,0] = stock_init\n",
    "    \n",
    "    w1 = random_state.randn(batch_size, 4)\n",
    "    stock_prev_prev = 0.\n",
    "#     w2 = random_state.randn(batch_size, n_obs+2, 4)\n",
    "\n",
    "    for i in range(1, n_obs):\n",
    "        stock = a*stock_prev + b*stock_prev_prev + c*random_state.randn(batch_size)\n",
    "        stock_prev = stock\n",
    "        stock_prev_prev = stock_prev\n",
    "        stock_list[:,i] = stock\n",
    "        \n",
    "        stock_obs[:,i] = np.rint(random_state.normal((d*stock)**2, batch_size))\n",
    "#         stock_obs[:,i] = random_state.poisson((d*stock)**2, batch_size)\n",
    "    \n",
    "    return stock_obs"
   ]
  },
  {
   "cell_type": "code",
   "execution_count": 69,
   "metadata": {
    "collapsed": true
   },
   "outputs": [],
   "source": [
    "def get_2degree_model(y_obs, seed_obs=None, stochastic=True, higher_order=True):\n",
    "    n_obs = y_obs.size \n",
    "\n",
    "    simulator = partial(model_2_degree, n_obs=n_obs)\n",
    "    m = elfi.ElfiModel()\n",
    "    sim_fn = partial(simulator, n_obs=n_obs)\n",
    "    sumstats = []\n",
    "    elfi.Prior(stats.truncnorm, 0, 10, model=m, name='a')\n",
    "    elfi.Prior(stats.norm, 0, 10, model=m, name='b')\n",
    "    elfi.Prior(stats.norm, 0, 5, model=m, name='c')\n",
    "    elfi.Prior(stats.uniform, 0.0001, 4, model=m, name='d')\n",
    "    elfi.Simulator(sim_fn, m['a'], m['b'], m['c'], m['d'], observed=y_obs, name='2degree')\n",
    "    sumstats.append(elfi.Summary(partial(np.mean, axis=1), m['2degree'], name='Mean'))\n",
    "    sumstats.append(elfi.Summary(partial(np.var, axis=1), m['2degree'], name='Var'))\n",
    "    sumstats.append(elfi.Summary(partial(skew, axis=1), m['2degree'], name='skew'))\n",
    "    sumstats.append(elfi.Summary(partial(kurtosis, axis=1), m['2degree'], name='kurt'))\n",
    "    elfi.Discrepancy(DistanceMeasures.chi_squared, *sumstats, name='dist')\n",
    "    return m\n",
    "    "
   ]
  },
  {
   "cell_type": "code",
   "execution_count": 70,
   "metadata": {
    "collapsed": false
   },
   "outputs": [],
   "source": [
    "m_2deg = get_2degree_model(y_obs=Y_geyer)"
   ]
  },
  {
   "cell_type": "markdown",
   "metadata": {},
   "source": [
    "Plot the model(each latent observation is a weighted sum of the previous two observations.)"
   ]
  },
  {
   "cell_type": "code",
   "execution_count": 71,
   "metadata": {
    "collapsed": false
   },
   "outputs": [
    {
     "data": {
      "image/svg+xml": [
       "<?xml version=\"1.0\" encoding=\"UTF-8\" standalone=\"no\"?>\n",
       "<!DOCTYPE svg PUBLIC \"-//W3C//DTD SVG 1.1//EN\"\n",
       " \"http://www.w3.org/Graphics/SVG/1.1/DTD/svg11.dtd\">\n",
       "<!-- Generated by graphviz version 2.38.0 (20140413.2041)\n",
       " -->\n",
       "<!-- Title: %3 Pages: 1 -->\n",
       "<svg width=\"279pt\" height=\"338pt\"\n",
       " viewBox=\"0.00 0.00 279.25 337.88\" xmlns=\"http://www.w3.org/2000/svg\" xmlns:xlink=\"http://www.w3.org/1999/xlink\">\n",
       "<g id=\"graph0\" class=\"graph\" transform=\"scale(1 1) rotate(0) translate(4 333.884)\">\n",
       "<title>%3</title>\n",
       "<polygon fill=\"white\" stroke=\"none\" points=\"-4,4 -4,-333.884 275.245,-333.884 275.245,4 -4,4\"/>\n",
       "<!-- c -->\n",
       "<g id=\"node1\" class=\"node\"><title>c</title>\n",
       "<ellipse fill=\"none\" stroke=\"black\" cx=\"63.1972\" cy=\"-311.884\" rx=\"18\" ry=\"18\"/>\n",
       "<text text-anchor=\"middle\" x=\"63.1972\" y=\"-308.184\" font-family=\"Times,serif\" font-size=\"14.00\">c</text>\n",
       "</g>\n",
       "<!-- 2degree -->\n",
       "<g id=\"node4\" class=\"node\"><title>2degree</title>\n",
       "<ellipse fill=\"#cccccc\" stroke=\"black\" cx=\"144.197\" cy=\"-219.537\" rx=\"38.1938\" ry=\"38.1938\"/>\n",
       "<text text-anchor=\"middle\" x=\"144.197\" y=\"-215.837\" font-family=\"Times,serif\" font-size=\"14.00\">2degree</text>\n",
       "</g>\n",
       "<!-- c&#45;&gt;2degree -->\n",
       "<g id=\"edge1\" class=\"edge\"><title>c&#45;&gt;2degree</title>\n",
       "<path fill=\"none\" stroke=\"black\" d=\"M74.8026,-297.939C84.5624,-287.053 98.9935,-270.957 112.171,-256.258\"/>\n",
       "<polygon fill=\"black\" stroke=\"black\" points=\"114.848,-258.516 118.917,-248.734 109.636,-253.843 114.848,-258.516\"/>\n",
       "</g>\n",
       "<!-- a -->\n",
       "<g id=\"node2\" class=\"node\"><title>a</title>\n",
       "<ellipse fill=\"none\" stroke=\"black\" cx=\"117.197\" cy=\"-311.884\" rx=\"18\" ry=\"18\"/>\n",
       "<text text-anchor=\"middle\" x=\"117.197\" y=\"-308.184\" font-family=\"Times,serif\" font-size=\"14.00\">a</text>\n",
       "</g>\n",
       "<!-- a&#45;&gt;2degree -->\n",
       "<g id=\"edge2\" class=\"edge\"><title>a&#45;&gt;2degree</title>\n",
       "<path fill=\"none\" stroke=\"black\" d=\"M122.149,-294.313C124.549,-286.283 127.561,-276.205 130.581,-266.101\"/>\n",
       "<polygon fill=\"black\" stroke=\"black\" points=\"133.948,-267.055 133.458,-256.471 127.241,-265.051 133.948,-267.055\"/>\n",
       "</g>\n",
       "<!-- d -->\n",
       "<g id=\"node3\" class=\"node\"><title>d</title>\n",
       "<ellipse fill=\"none\" stroke=\"black\" cx=\"171.197\" cy=\"-311.884\" rx=\"18\" ry=\"18\"/>\n",
       "<text text-anchor=\"middle\" x=\"171.197\" y=\"-308.184\" font-family=\"Times,serif\" font-size=\"14.00\">d</text>\n",
       "</g>\n",
       "<!-- d&#45;&gt;2degree -->\n",
       "<g id=\"edge3\" class=\"edge\"><title>d&#45;&gt;2degree</title>\n",
       "<path fill=\"none\" stroke=\"black\" d=\"M166.245,-294.313C163.845,-286.283 160.834,-276.205 157.814,-266.101\"/>\n",
       "<polygon fill=\"black\" stroke=\"black\" points=\"161.153,-265.051 154.936,-256.471 154.446,-267.055 161.153,-265.051\"/>\n",
       "</g>\n",
       "<!-- Mean -->\n",
       "<g id=\"node5\" class=\"node\"><title>Mean</title>\n",
       "<ellipse fill=\"#cccccc\" stroke=\"black\" cx=\"31.1972\" cy=\"-113.993\" rx=\"31.3957\" ry=\"31.3957\"/>\n",
       "<text text-anchor=\"middle\" x=\"31.1972\" y=\"-110.293\" font-family=\"Times,serif\" font-size=\"14.00\">Mean</text>\n",
       "</g>\n",
       "<!-- 2degree&#45;&gt;Mean -->\n",
       "<g id=\"edge4\" class=\"edge\"><title>2degree&#45;&gt;Mean</title>\n",
       "<path fill=\"none\" stroke=\"black\" d=\"M116.265,-192.942C99.6018,-177.673 78.4404,-158.283 61.3923,-142.661\"/>\n",
       "<polygon fill=\"black\" stroke=\"black\" points=\"63.6172,-139.953 53.8798,-135.777 58.888,-145.114 63.6172,-139.953\"/>\n",
       "</g>\n",
       "<!-- skew -->\n",
       "<g id=\"node7\" class=\"node\"><title>skew</title>\n",
       "<ellipse fill=\"#cccccc\" stroke=\"black\" cx=\"109.197\" cy=\"-113.993\" rx=\"28.6953\" ry=\"28.6953\"/>\n",
       "<text text-anchor=\"middle\" x=\"109.197\" y=\"-110.293\" font-family=\"Times,serif\" font-size=\"14.00\">skew</text>\n",
       "</g>\n",
       "<!-- 2degree&#45;&gt;skew -->\n",
       "<g id=\"edge6\" class=\"edge\"><title>2degree&#45;&gt;skew</title>\n",
       "<path fill=\"none\" stroke=\"black\" d=\"M132.152,-182.903C128.646,-172.529 124.815,-161.195 121.304,-150.811\"/>\n",
       "<polygon fill=\"black\" stroke=\"black\" points=\"124.576,-149.56 118.058,-141.207 117.945,-151.802 124.576,-149.56\"/>\n",
       "</g>\n",
       "<!-- kurt -->\n",
       "<g id=\"node9\" class=\"node\"><title>kurt</title>\n",
       "<ellipse fill=\"#cccccc\" stroke=\"black\" cx=\"180.197\" cy=\"-113.993\" rx=\"24.8972\" ry=\"24.8972\"/>\n",
       "<text text-anchor=\"middle\" x=\"180.197\" y=\"-110.293\" font-family=\"Times,serif\" font-size=\"14.00\">kurt</text>\n",
       "</g>\n",
       "<!-- 2degree&#45;&gt;kurt -->\n",
       "<g id=\"edge7\" class=\"edge\"><title>2degree&#45;&gt;kurt</title>\n",
       "<path fill=\"none\" stroke=\"black\" d=\"M156.486,-183.193C160.55,-171.502 165.048,-158.565 169.025,-147.128\"/>\n",
       "<polygon fill=\"black\" stroke=\"black\" points=\"172.382,-148.128 172.36,-137.533 165.771,-145.829 172.382,-148.128\"/>\n",
       "</g>\n",
       "<!-- Var -->\n",
       "<g id=\"node10\" class=\"node\"><title>Var</title>\n",
       "<ellipse fill=\"#cccccc\" stroke=\"black\" cx=\"247.197\" cy=\"-113.993\" rx=\"24.0958\" ry=\"24.0958\"/>\n",
       "<text text-anchor=\"middle\" x=\"247.197\" y=\"-110.293\" font-family=\"Times,serif\" font-size=\"14.00\">Var</text>\n",
       "</g>\n",
       "<!-- 2degree&#45;&gt;Var -->\n",
       "<g id=\"edge5\" class=\"edge\"><title>2degree&#45;&gt;Var</title>\n",
       "<path fill=\"none\" stroke=\"black\" d=\"M170.99,-191.602C187.177,-175.33 207.632,-154.768 223.273,-139.044\"/>\n",
       "<polygon fill=\"black\" stroke=\"black\" points=\"225.954,-141.311 230.525,-131.753 220.991,-136.375 225.954,-141.311\"/>\n",
       "</g>\n",
       "<!-- dist -->\n",
       "<g id=\"node8\" class=\"node\"><title>dist</title>\n",
       "<ellipse fill=\"none\" stroke=\"black\" cx=\"144.197\" cy=\"-23.3979\" rx=\"23.2963\" ry=\"23.2963\"/>\n",
       "<text text-anchor=\"middle\" x=\"144.197\" y=\"-19.6979\" font-family=\"Times,serif\" font-size=\"14.00\">dist</text>\n",
       "</g>\n",
       "<!-- Mean&#45;&gt;dist -->\n",
       "<g id=\"edge8\" class=\"edge\"><title>Mean&#45;&gt;dist</title>\n",
       "<path fill=\"none\" stroke=\"black\" d=\"M55.4386,-93.9872C73.8544,-79.5487 99.1465,-59.719 118.022,-44.9202\"/>\n",
       "<polygon fill=\"black\" stroke=\"black\" points=\"120.227,-47.639 125.937,-38.7146 115.908,-42.1302 120.227,-47.639\"/>\n",
       "</g>\n",
       "<!-- b -->\n",
       "<g id=\"node6\" class=\"node\"><title>b</title>\n",
       "<ellipse fill=\"none\" stroke=\"black\" cx=\"225.197\" cy=\"-311.884\" rx=\"18\" ry=\"18\"/>\n",
       "<text text-anchor=\"middle\" x=\"225.197\" y=\"-308.184\" font-family=\"Times,serif\" font-size=\"14.00\">b</text>\n",
       "</g>\n",
       "<!-- b&#45;&gt;2degree -->\n",
       "<g id=\"edge9\" class=\"edge\"><title>b&#45;&gt;2degree</title>\n",
       "<path fill=\"none\" stroke=\"black\" d=\"M213.592,-297.939C203.832,-287.053 189.401,-270.957 176.223,-256.258\"/>\n",
       "<polygon fill=\"black\" stroke=\"black\" points=\"178.759,-253.843 169.477,-248.734 173.547,-258.516 178.759,-253.843\"/>\n",
       "</g>\n",
       "<!-- skew&#45;&gt;dist -->\n",
       "<g id=\"edge10\" class=\"edge\"><title>skew&#45;&gt;dist</title>\n",
       "<path fill=\"none\" stroke=\"black\" d=\"M119.509,-86.8908C123.452,-76.9113 127.983,-65.4407 132.079,-55.0729\"/>\n",
       "<polygon fill=\"black\" stroke=\"black\" points=\"135.42,-56.1419 135.839,-45.5553 128.909,-53.5699 135.42,-56.1419\"/>\n",
       "</g>\n",
       "<!-- kurt&#45;&gt;dist -->\n",
       "<g id=\"edge11\" class=\"edge\"><title>kurt&#45;&gt;dist</title>\n",
       "<path fill=\"none\" stroke=\"black\" d=\"M171.113,-90.6368C166.687,-79.7438 161.298,-66.4828 156.508,-54.6957\"/>\n",
       "<polygon fill=\"black\" stroke=\"black\" points=\"159.667,-53.1723 152.66,-45.2255 153.182,-55.8075 159.667,-53.1723\"/>\n",
       "</g>\n",
       "<!-- Var&#45;&gt;dist -->\n",
       "<g id=\"edge12\" class=\"edge\"><title>Var&#45;&gt;dist</title>\n",
       "<path fill=\"none\" stroke=\"black\" d=\"M229.863,-96.8572C224.851,-92.2662 219.343,-87.2927 214.197,-82.7958 199.69,-70.1183 183.151,-56.2926 169.793,-45.2773\"/>\n",
       "<polygon fill=\"black\" stroke=\"black\" points=\"171.881,-42.4633 161.934,-38.8173 167.437,-47.871 171.881,-42.4633\"/>\n",
       "</g>\n",
       "</g>\n",
       "</svg>\n"
      ],
      "text/plain": [
       "<graphviz.dot.Digraph at 0x7f50900e2f98>"
      ]
     },
     "execution_count": 71,
     "metadata": {},
     "output_type": "execute_result"
    }
   ],
   "source": [
    "elfi.draw(m_2deg)"
   ]
  },
  {
   "cell_type": "code",
   "execution_count": 72,
   "metadata": {
    "collapsed": true
   },
   "outputs": [],
   "source": [
    "m_2deg_inf = elfi.Rejection(m_2deg, m_2deg['dist'], batch_size=8)"
   ]
  },
  {
   "cell_type": "code",
   "execution_count": 73,
   "metadata": {
    "collapsed": false
   },
   "outputs": [],
   "source": [
    "N_samples = 1000\n",
    "result_geyer_m2= m_2deg_inf.sample(N_samples)"
   ]
  },
  {
   "cell_type": "code",
   "execution_count": 74,
   "metadata": {
    "collapsed": false
   },
   "outputs": [
    {
     "data": {
      "text/plain": [
       "array([<matplotlib.axes._subplots.AxesSubplot object at 0x7f50900944a8>,\n",
       "       <matplotlib.axes._subplots.AxesSubplot object at 0x7f5090030048>,\n",
       "       <matplotlib.axes._subplots.AxesSubplot object at 0x7f509004b400>,\n",
       "       <matplotlib.axes._subplots.AxesSubplot object at 0x7f509005e7f0>], dtype=object)"
      ]
     },
     "execution_count": 74,
     "metadata": {},
     "output_type": "execute_result"
    },
    {
     "data": {
      "image/png": "[encoded data removed]",
      "text/plain": [
       "<Figure size 1152x288 with 4 Axes>"
      ]
     },
     "metadata": {},
     "output_type": "display_data"
    }
   ],
   "source": [
    "result_geyer_m2.plot_marginals()"
   ]
  },
  {
   "cell_type": "code",
   "execution_count": 76,
   "metadata": {
    "collapsed": false
   },
   "outputs": [
    {
     "name": "stdout",
     "output_type": "stream",
     "text": [
      "0.769447329536\n",
      "-0.759499297534\n",
      "1.78765582317\n"
     ]
    }
   ],
   "source": [
    "print(result_geyer_m2.samples['a'].mean())\n",
    "print(result_geyer_m2.samples['b'].mean())\n",
    "\n",
    "print(result_geyer_m2.samples['d'].mean())"
   ]
  },
  {
   "cell_type": "code",
   "execution_count": 78,
   "metadata": {
    "collapsed": false
   },
   "outputs": [],
   "source": [
    "N = 1000\n",
    "smc = elfi.SMC(m_2deg['dist'], batch_size=20000)"
   ]
  },
  {
   "cell_type": "code",
   "execution_count": 81,
   "metadata": {
    "collapsed": false
   },
   "outputs": [
    {
     "name": "stderr",
     "output_type": "stream",
     "text": [
      " /u/26/dhakaa1/unix/anaconda2/envs/py35-elfi/lib/python3.5/site-packages/scipy/stats/stats.py:934: RuntimeWarning:overflow encountered in square\n",
      " /u/26/dhakaa1/unix/anaconda2/envs/py35-elfi/lib/python3.5/site-packages/scipy/stats/stats.py:936: RuntimeWarning:overflow encountered in multiply\n",
      " /u/26/dhakaa1/unix/anaconda2/envs/py35-elfi/lib/python3.5/site-packages/scipy/stats/stats.py:1031: RuntimeWarning:overflow encountered in power\n",
      " /u/26/dhakaa1/unix/anaconda2/envs/py35-elfi/lib/python3.5/site-packages/scipy/stats/stats.py:1031: RuntimeWarning:invalid value encountered in true_divide\n",
      " /u/26/dhakaa1/unix/anaconda2/envs/py35-elfi/lib/python3.5/site-packages/ipykernel/__main__.py:16: RuntimeWarning:overflow encountered in square\n",
      " /u/26/dhakaa1/unix/anaconda2/envs/py35-elfi/lib/python3.5/site-packages/elfi/methods/parameter_inference.py:563: RuntimeWarning:invalid value encountered in less_equal\n",
      " /u/26/dhakaa1/unix/anaconda2/envs/py35-elfi/lib/python3.5/site-packages/numpy/core/_methods.py:112: RuntimeWarning:invalid value encountered in subtract\n",
      " /u/26/dhakaa1/unix/anaconda2/envs/py35-elfi/lib/python3.5/site-packages/scipy/stats/stats.py:926: RuntimeWarning:invalid value encountered in subtract\n"
     ]
    }
   ],
   "source": [
    "# t = 0.1\n",
    "N = 1000\n",
    "thresholds = [.5, .25, .1]\n",
    "result_geyer_smc = smc.sample(N, thresholds = thresholds)"
   ]
  },
  {
   "cell_type": "code",
   "execution_count": 82,
   "metadata": {
    "collapsed": false
   },
   "outputs": [
    {
     "name": "stdout",
     "output_type": "stream",
     "text": [
      "1.34185360397\n",
      "11.5713095153\n",
      "2.36235255385\n"
     ]
    }
   ],
   "source": [
    "print(result_geyer_smc.samples['a'].mean())\n",
    "print(result_geyer_smc.samples['b'].mean())\n",
    "\n",
    "print(result_geyer_smc.samples['d'].mean())"
   ]
  },
  {
   "cell_type": "code",
   "execution_count": 83,
   "metadata": {
    "collapsed": false
   },
   "outputs": [
    {
     "data": {
      "image/png": "[encoded data removed]",
      "text/plain": [
       "<Figure size 1152x288 with 4 Axes>"
      ]
     },
     "metadata": {},
     "output_type": "display_data"
    }
   ],
   "source": [
    "result_geyer_smc.plot_marginals()"
   ]
  },
  {
   "cell_type": "markdown",
   "metadata": {},
   "source": [
    "###  Diagnostics"
   ]
  },
  {
   "cell_type": "markdown",
   "metadata": {},
   "source": [
    "Lets come back to the original Ricker model and data and see if the additional summary measures are really helpful or not. Using the diagnostics tool, we can pin point the summary stats, which have the biggest role in obtaining data closer to the true observations."
   ]
  },
  {
   "cell_type": "code",
   "execution_count": 103,
   "metadata": {
    "collapsed": false
   },
   "outputs": [],
   "source": [
    "theta_acc = result.samples_array"
   ]
  },
  {
   "cell_type": "code",
   "execution_count": 105,
   "metadata": {
    "collapsed": false
   },
   "outputs": [
    {
     "name": "stdout",
     "output_type": "stream",
     "text": [
      "(500, 3)\n"
     ]
    }
   ],
   "source": [
    "print(theta_acc.shape)"
   ]
  },
  {
   "cell_type": "code",
   "execution_count": 115,
   "metadata": {
    "collapsed": false
   },
   "outputs": [],
   "source": [
    "# simulator = elfi.Simulator(fn_simulator, prior_t1, prior_t2, observed=y_obs)\n",
    "\n",
    "simulator = partial(ricker_stochastic, n_obs=n_obs)\n",
    "sim_fn = partial(simulator, n_obs=n_obs)\n",
    "true_params = [3.8, 0.3, 10.]\n",
    "\n",
    "y_obs = simulator(*true_params, n_obs=n_obs, random_state=np.random.RandomState(seed_obs))\n",
    "m = elfi.ElfiModel()\n",
    "elfi.Prior(stats.expon, np.e, 2, model=m, name='t1')\n",
    "elfi.Prior(stats.truncnorm, 0, 5, model=m, name='t2')\n",
    "elfi.Prior(stats.uniform, 0, 100, model=m, name='t3')\n",
    "sim1 = elfi.Simulator(sim_fn, m['t1'], m['t2'], m['t3'], observed=y_obs, name='Rickersto')"
   ]
  },
  {
   "cell_type": "markdown",
   "metadata": {},
   "source": [
    "For some reason which I dont fully understand, writing skew function as skew does not work, because I think it is already in the namespace, wrappint it with a function with a different name does the trick ."
   ]
  },
  {
   "cell_type": "code",
   "execution_count": 167,
   "metadata": {
    "collapsed": true
   },
   "outputs": [],
   "source": [
    "def ss_mean(x):\n",
    "    return np.mean(x, axis=1)\n",
    "\n",
    "def ss_var(x):\n",
    "    return np.var(x, axis=1)\n",
    "\n",
    "def ss_skew(x):\n",
    "    return stats.skew(x, axis=1)\n",
    "\n",
    "def ss_kurtosis(x):\n",
    "    return stats.kurtosis(x, axis=1)\n",
    "\n",
    "def num_zeros(x):\n",
    "    return np.sum(x==0, axis=1)\n",
    "\n",
    "def num_large(x, val=25):\n",
    "    return np.sum(x > val, axis=1)\n"
   ]
  },
  {
   "cell_type": "code",
   "execution_count": 180,
   "metadata": {
    "collapsed": false
   },
   "outputs": [],
   "source": [
    "list_ss = []\n",
    "list_ss.append(ss_mean)\n",
    "list_ss.append(ss_var)\n",
    "list_ss.append(num_zeros)\n",
    "list_ss.append(num_large)\n",
    "list_ss.append(ss_skew)\n",
    "list_ss.append(ss_kurtosis)"
   ]
  },
  {
   "cell_type": "code",
   "execution_count": 170,
   "metadata": {
    "collapsed": false
   },
   "outputs": [
    {
     "name": "stdout",
     "output_type": "stream",
     "text": [
      "[<function ss_mean at 0x7f508a9f4c80>, <function ss_var at 0x7f508a9f47b8>, <function num_zeros at 0x7f508a9d7f28>, <function num_large at 0x7f508a890a60>, <function ss_skew at 0x7f508a989ea0>, <function ss_kurtosis at 0x7f508a9891e0>]\n"
     ]
    }
   ],
   "source": [
    "print(list_ss)"
   ]
  },
  {
   "cell_type": "code",
   "execution_count": 171,
   "metadata": {
    "collapsed": false
   },
   "outputs": [],
   "source": [
    "diagnostics = TwoStageSelection(sim1, 'euclidean', list_ss=list_ss, seed=seed)"
   ]
  },
  {
   "cell_type": "code",
   "execution_count": 172,
   "metadata": {
    "collapsed": false
   },
   "outputs": [],
   "source": [
    "set_ss_2stage = diagnostics.run(n_sim=100000, batch_size=10000)"
   ]
  },
  {
   "cell_type": "markdown",
   "metadata": {},
   "source": [
    "We observse that the mean function of the data and the simple function which calculates how many numbers are large in the dataset are the most influential summary stats in this study."
   ]
  },
  {
   "cell_type": "code",
   "execution_count": 175,
   "metadata": {
    "collapsed": false
   },
   "outputs": [
    {
     "name": "stdout",
     "output_type": "stream",
     "text": [
      "(<function ss_mean at 0x7f508a9f4c80>, <function num_large at 0x7f508a890a60>)\n"
     ]
    }
   ],
   "source": [
    "print(set_ss_2stage)"
   ]
  },
  {
   "cell_type": "code",
   "execution_count": 188,
   "metadata": {
    "collapsed": true
   },
   "outputs": [],
   "source": [
    "list_ss_geyer = copy.deepcopy(list_ss)"
   ]
  },
  {
   "cell_type": "code",
   "execution_count": 189,
   "metadata": {
    "collapsed": false
   },
   "outputs": [
    {
     "name": "stdout",
     "output_type": "stream",
     "text": [
      "[<function ss_mean at 0x7f508a9f4c80>, <function ss_var at 0x7f508a9f47b8>, <function num_zeros at 0x7f508a9d7f28>, <function num_large at 0x7f508a890a60>, <function ss_skew at 0x7f508a989ea0>, <function ss_kurtosis at 0x7f508a9891e0>]\n",
      "[<function ss_mean at 0x7f508a9f4c80>, <function ss_var at 0x7f508a9f47b8>, <function num_zeros at 0x7f508a9d7f28>, <function num_large at 0x7f508a890a60>, <function ss_skew at 0x7f508a989ea0>, <function ss_kurtosis at 0x7f508a9891e0>]\n"
     ]
    }
   ],
   "source": [
    "print(list_ss)\n",
    "print(list_ss_geyer)"
   ]
  },
  {
   "cell_type": "code",
   "execution_count": 191,
   "metadata": {
    "collapsed": false
   },
   "outputs": [
    {
     "name": "stdout",
     "output_type": "stream",
     "text": [
      "[[  14.   19.   31.   60.   60.   98.  108.  127.  126.   96.   93.   76.\n",
      "    63.   60.   68.   72.   97.  118.  123.  125.   78.   93.   68.   54.]]\n",
      "24\n"
     ]
    }
   ],
   "source": [
    "print(Y_geyer)\n",
    "n_obs = Y_geyer.size\n",
    "print(n_obs)"
   ]
  },
  {
   "cell_type": "markdown",
   "metadata": {},
   "source": [
    "####  Diagnostics for the Geyer data and model. "
   ]
  },
  {
   "cell_type": "code",
   "execution_count": 192,
   "metadata": {
    "collapsed": false
   },
   "outputs": [],
   "source": [
    "sim_fn2 = partial(model_2_degree, n_obs=n_obs)\n",
    "m = elfi.ElfiModel()\n",
    "# sim_fn2 = partial(simulator, n_obs=n_obs)\n",
    "\n",
    "elfi.Prior(stats.truncnorm, 0, 10, model=m, name='a')\n",
    "elfi.Prior(stats.norm, 0, 10, model=m, name='b')\n",
    "elfi.Prior(stats.norm, 0, 5, model=m, name='c')\n",
    "elfi.Prior(stats.uniform, 0.0001, 4, model=m, name='d')\n",
    "sim_geyer = elfi.Simulator(sim_fn2, m['a'], m['b'], m['c'], m['d'], observed=Y_geyer, name='2degree1')"
   ]
  },
  {
   "cell_type": "code",
   "execution_count": 193,
   "metadata": {
    "collapsed": false
   },
   "outputs": [],
   "source": [
    "diagnostics_geyer = TwoStageSelection(sim_geyer, 'euclidean', list_ss=list_ss_geyer, seed=seed)"
   ]
  },
  {
   "cell_type": "code",
   "execution_count": 194,
   "metadata": {
    "collapsed": true
   },
   "outputs": [],
   "source": [
    "set_ss_2stage_geyer = diagnostics.run(n_sim=100000, batch_size=10000)"
   ]
  },
  {
   "cell_type": "code",
   "execution_count": 195,
   "metadata": {
    "collapsed": false
   },
   "outputs": [
    {
     "name": "stdout",
     "output_type": "stream",
     "text": [
      "(<function ss_mean at 0x7f508a9f4c80>, <function num_large at 0x7f508a890a60>)\n"
     ]
    }
   ],
   "source": [
    "print(set_ss_2stage_geyer)"
   ]
  },
  {
   "cell_type": "code",
   "execution_count": null,
   "metadata": {
    "collapsed": true
   },
   "outputs": [],
   "source": []
  },
  {
   "cell_type": "markdown",
   "metadata": {},
   "source": [
    "### References\n",
    "1. Michael U. Gutmann,Jukka Corander. Bayesian Optimization for Likelihood-Free Inference of Simulator-Based Statistical Models  Journal of Machine Learning Research- JMLR 16 2015\n",
    "2. Jean-Michel Marin, Pierre Pudlo, Christian P. Robert and Robin J. Ryder. Approximate Bayesian computational methods. Statistics and Computing 2011.\n",
    "3. Jarno Lintusaari, Henri Vuollekoski, Antti Kangasrääsiö, Kusti Skytén, Marko Järvenpää, Michael Gutmann, Aki Vehtari, Jukka Corander and Samuel Kaski. ELFI: Engine for Likelihood Free Inference\n",
    "4. Jarno Lintusaari, Michael Gutmann, Ritabratta Dutta, Samuel Kaski and Jukka Corander\n",
    "Fundamentals and Recent Developments in Approximate Bayesian Computation. Oxford University Press  2017\n",
    "5. Nunes, M. A., & Balding, D. J. (2010). On optimal selection of summary statistics for approximate Bayesian computation. Statistical applications in genetics and molecular biology, 9(1).\n",
    "6. Blum, M. G., Nunes, M. A., Prangle, D., & Sisson, S. A. (2013). A comparative review of dimension reduction methods in approximate Bayesian computation. Statistical Science, 28(2), 189-208"
   ]
  },
  {
   "cell_type": "code",
   "execution_count": null,
   "metadata": {
    "collapsed": true
   },
   "outputs": [],
   "source": []
  }
 ],
 "metadata": {
  "anaconda-cloud": {},
  "kernelspec": {
   "display_name": "Python [conda env:py35-elfi]",
   "language": "python",
   "name": "conda-env-py35-elfi-py"
  },
  "language_info": {
   "codemirror_mode": {
    "name": "ipython",
    "version": 3
   },
   "file_extension": ".py",
   "mimetype": "text/x-python",
   "name": "python",
   "nbconvert_exporter": "python",
   "pygments_lexer": "ipython3",
   "version": "3.5.4"
  }
 },
 "nbformat": 4,
 "nbformat_minor": 1
}
